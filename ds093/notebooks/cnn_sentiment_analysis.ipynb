{
 "cells": [
  {
   "cell_type": "code",
   "execution_count": 1,
   "id": "25c64ee0-ef73-4de0-88ef-830adf4e4d7e",
   "metadata": {},
   "outputs": [],
   "source": [
    "import sys\n",
    "sys.path.append(\"../\")"
   ]
  },
  {
   "cell_type": "code",
   "execution_count": 2,
   "id": "ae30d7c7-95a0-4b43-b915-31d1fdf54968",
   "metadata": {},
   "outputs": [
    {
     "name": "stderr",
     "output_type": "stream",
     "text": [
      "2024-12-10 15:47:19.690880: I tensorflow/core/platform/cpu_feature_guard.cc:193] This TensorFlow binary is optimized with oneAPI Deep Neural Network Library (oneDNN) to use the following CPU instructions in performance-critical operations:  AVX2 FMA\n",
      "To enable them in other operations, rebuild TensorFlow with the appropriate compiler flags.\n"
     ]
    }
   ],
   "source": [
    "import os\n",
    "\n",
    "import numpy as np\n",
    "import matplotlib.pyplot as plt\n",
    "import tensorflow as tf\n",
    "from tensorflow.keras import layers\n",
    "from tensorflow.keras.preprocessing import sequence\n",
    "from tensorflow.keras.utils import to_categorical\n",
    "from tensorflow.keras.models import Sequential, Model\n",
    "from tensorflow.keras.optimizers import Adam\n",
    "from tensorflow.keras.callbacks import EarlyStopping, ModelCheckpoint\n",
    "from sklearn.model_selection import train_test_split\n",
    "\n",
    "from src.datasets.imdb import load_imdb, word_to_idx\n",
    "from src.utils.logger import get_logger\n",
    "from src.utils.session import reset_session\n",
    "from src.utils.plot import plot_history"
   ]
  },
  {
   "cell_type": "code",
   "execution_count": 3,
   "id": "11f42eda-20e6-4156-93a5-2f84862a2bf7",
   "metadata": {},
   "outputs": [],
   "source": [
    "_ = get_logger()"
   ]
  },
  {
   "cell_type": "code",
   "execution_count": null,
   "id": "468519eb-73a4-432a-90eb-a8989a069ab5",
   "metadata": {},
   "outputs": [],
   "source": []
  },
  {
   "cell_type": "markdown",
   "id": "c3ba232a-25e4-4403-9ab5-a5ec8d1bb7ba",
   "metadata": {},
   "source": [
    "## Config"
   ]
  },
  {
   "cell_type": "code",
   "execution_count": 4,
   "id": "a117efa0-09d6-4678-8278-277f68183d6d",
   "metadata": {},
   "outputs": [],
   "source": [
    "# keep top-10000 frequent words\n",
    "max_features = 10000\n",
    "\n",
    "# fix document length\n",
    "max_len = 500\n",
    "\n",
    "# model path\n",
    "base_model_dir = \"../model\"\n",
    "os.makedirs(base_model_dir, exist_ok=True)\n",
    "\n",
    "ckpt_path = os.path.join(base_model_dir, \"cnn_sentiment\", \"ckpt\")"
   ]
  },
  {
   "cell_type": "code",
   "execution_count": null,
   "id": "02e09036-73e9-4253-99dd-8e74741bf7c2",
   "metadata": {},
   "outputs": [],
   "source": []
  },
  {
   "cell_type": "markdown",
   "id": "f09dcc07-48ef-4b36-9b1f-689e2a1db568",
   "metadata": {},
   "source": [
    "## Read Data"
   ]
  },
  {
   "cell_type": "code",
   "execution_count": 5,
   "id": "5e0a7d4e-2bcf-445a-b39d-60fe8bdd0799",
   "metadata": {},
   "outputs": [
    {
     "name": "stderr",
     "output_type": "stream",
     "text": [
      "[INFO] num train: 20000 (imdb.py:35)\n",
      "[INFO] num valid: 5000 (imdb.py:36)\n",
      "[INFO] num test: 25000 (imdb.py:37)\n"
     ]
    }
   ],
   "source": [
    "(\n",
    "    (X_train_raw, y_train_raw),\n",
    "    (X_valid_raw, y_valid_raw),\n",
    "    (X_test_raw, y_test_raw),\n",
    ") = load_imdb(num_words=max_features, val_split=True)"
   ]
  },
  {
   "cell_type": "code",
   "execution_count": 6,
   "id": "28eea759-a14d-43a0-9165-6dfa46c7e369",
   "metadata": {},
   "outputs": [],
   "source": [
    "idx_to_word = {v: k for k, v in word_to_idx.items()}"
   ]
  },
  {
   "cell_type": "code",
   "execution_count": 7,
   "id": "f2515879-f66a-4df4-bf48-e9bb3dcc3b1a",
   "metadata": {},
   "outputs": [
    {
     "name": "stdout",
     "output_type": "stream",
     "text": [
      "==> review: 1318 (sentiment=0)\n",
      "the out least that crack this of and and and you church out new part was moments scene in can don't that with hair to they for my that with supporting wanted is around mind business i i watch italian since was with independent in also some best off as not supposed 2006 in people her movie of pieces br of on with this of expression i i was off his just they an of horses he mrs to michael humour of films he and been of horses director michael surprising to of sure to sure brings br and to and 1970's are of on throughout of enough for was example seven in through in of on to notorious except was these one in at and who of watched being and are of lessons to and disabled dates she an of my are about sentenced try it's funny being our is campbell it's witness about solid out in one and and philosophical dom are of goes an br as story at heroin what of little films defies last with very not with do had do is then does don't in people recommend this of myself i i then hope man my it's sense\n",
      "\n",
      "==> review: 17048 (sentiment=1)\n",
      "the  ms and innuendo pole nelson just her plot true admit clear you accent reference in of him friendship huge david characters he each in same to he his scary are ups hilarity he's bad one is very work gothic remember consider this and was me of lack in character as either later am stories carole and for it his rest but theater addition i i he's bad died scene has by br of its anxious to its and anxious characters br an gets episode we stupid have only disappointment for of religion horses instance famous but of style and hire br is narrated and it's and and girlfriend family view this as on of horses he knows launched element of span huge india who ms absorbing and of its coolest comments it for of and br of myth br seen great it family image and it's be being stardom and in stupid up has high been has of insights all it winning in died brian by well potential died has kathleen this as on that it much shown for of going me is and visually this second sort of and taken br of true her and anxious fails to and front not of roles br say stardom laid in an gets bad same made example this and and really another there look him falk film of killer to of jar i i stardom end his see director not all there charles so right yet br and has of choreography br love they there's love this of actor br jenny soap of footage david lot all it all and they of great like actress in another they supporting and this of portray no all it out enjoying our be performance oscars new all book in happening this of nasty br by br be watcher or david sense all care all it travel in died by sidekick comedy and by br of admit and may and to and course and like it running towards this of clear settings and and and and know stardom movies it week an hard isn't honor movie issues but of acting gives br stardom to be tokyo most from achieve truthful succeed or and and take of settings myth br stardom himself in at girl secrets settings to of cycle to and all and himself in saw girl or is and br and been or be york leaves br of recommendation adventure i i that it wasn't as on prom so told brazil cable fights course of and br clear and seventies to more admire in of and bruce wear promising not what have one as fights been have into use and since br man acting who elephant cultural first of day to passing some film value just have one away his bit that he's is both my\n",
      "\n",
      "==> review: 8471 (sentiment=0)\n",
      "the as on it out funny forget without genre not that after one will her get still no of kate saw some from had street good annie 3 play just bits and like way for themselves without paul this persona movie from learn she of hot or of waves story one modern of theme without move first back excellent most of hollywood br of you with mexican straight not tim still been have story stuff or as roles br on them moments of amazing scenes of ever things of by bad me will science but not with just doesn't back or of is ways this of overly from pick julian director monsters to from actress however is everyone looks in car having because every work every work\n",
      "\n",
      "==> review: 9449 (sentiment=0)\n",
      "the what have then second our man charlie and film them have parts second as on are of because act what have use non peter portion incredible chain to wife don't from an and form first put they of here guys at time due i i scene he good br of lacked hans for michael in for you'd i i go of happens and of and rural style are in cream chain has of appears of mostly chan for fill to and of experiment change out new about caper thing also pace are awful as it is reminiscent felt br of appears if gut in one of late of history than this pace are awful to his of thought chan for it her reminiscent in of appears i i of on book in him and in ever of spelling br of pamela this chills things of experiment dave not elaborate of forever in and of every allowing pamela it chills things audition for action one seeming of peter scenes or awful careful bank and in of peter scenes movie lot br lawrence chain i i this issue talents it are of half of going book some br be too in one of late they of peter scenes hospital are of times drama and tv or of lucille and no that after one miss and garbage side it's which are of able movie of mostly chan off i i of happens and ways it her and movie in same is and wing commentary this is and fallon drama sucked or of scenes br of peter not big same think voice disgusting or of yes rosario times they of peter scenes which old from and of scenes out i'll watch of caper to film even and and i i growing universe than his short they an in same of deserves history as or of class for it much extremely but lawrence of and male but growing to expensive i i that it unsettling for should is fight and wooden their story his i'd she of partly noir chan matrix for fill they of lucille and i i that it unsettling for of killer story through in should jackass to and her get hate in cannot paz and chain 4 about and but about bashing please and and and about chance in people of every go would else after his one and some br of and disabled line what would me that's actor has about in air about chance in also paz and 4 about heading would after br out movie miss johnny about chance in single some but 3 it's which cannot of disabled line for with this is plotted and hospital i i of twenty for and of over fun with secret movie raise anyway and and be and cracks br of and not all with numbers that's his in and film of happens to other key row be rolling his in expect and i i more he up hans just as for into michael in is wasn't doris and you'd and and it is time buy non peter their\n",
      "\n",
      "==> review: 8222 (sentiment=0)\n",
      "the mechanic and touching level it by br though seems for could have looking this moment of because seen next course of by like effects of orleans one him tend movie much them such it of tarzan 100 for was well own in is you film should son to and br twist see either some br didn't most in also in and master level bad one in expected i'm is on for it let's bigger to rest perfect this second for was plays of truly abandon stay house his of and stay said by really away terribly some is quite br of and figure this famous animated must busy its br of films he liberal ross of knowing extended of museum offer of deserved originally of teenager orleans for he his makes else and amazing apparently character as not perfect man hank are of future deep wrapped poor painfully kids that\n",
      "\n"
     ]
    }
   ],
   "source": [
    "np.random.seed(1234)\n",
    "samp_idxs = np.random.choice(range(len(X_train_raw)), size=5)\n",
    "\n",
    "for i in samp_idxs:\n",
    "    x = X_train_raw[i]\n",
    "    y = y_train_raw[i]\n",
    "\n",
    "    review = \" \".join([idx_to_word[n] for n in x])\n",
    "    print(f\"==> review: {i} (sentiment={y})\")\n",
    "    print(f\"{review}\\n\")"
   ]
  },
  {
   "cell_type": "code",
   "execution_count": 8,
   "id": "5b46ff04-102b-4570-8c92-f5e8891d76ab",
   "metadata": {},
   "outputs": [
    {
     "name": "stdout",
     "output_type": "stream",
     "text": [
      "Train num_words/min_index/max_index: 9998/1/9999\n",
      "Test num_words/min_index/max_index: 9951/1/9999\n"
     ]
    }
   ],
   "source": [
    "# number of distinct words in train / test dataset\n",
    "\n",
    "s1 = set()\n",
    "s2 = set()\n",
    "\n",
    "for x in X_train_raw:\n",
    "    s1.update(x)\n",
    "\n",
    "for x in X_valid_raw:\n",
    "    s1.update(x)\n",
    "\n",
    "for x in X_test_raw:\n",
    "    s2.update(x)\n",
    "\n",
    "print(f\"Train num_words/min_index/max_index: {len(s1)}/{min(s1)}/{max(s1)}\")\n",
    "print(f\"Test num_words/min_index/max_index: {len(s2)}/{min(s2)}/{max(s2)}\")"
   ]
  },
  {
   "cell_type": "code",
   "execution_count": null,
   "id": "06826871-51f3-40a8-bc17-9a92dc12634a",
   "metadata": {},
   "outputs": [],
   "source": []
  },
  {
   "cell_type": "markdown",
   "id": "090dd200-02bd-4562-8ab4-3ac76a20ee9a",
   "metadata": {},
   "source": [
    "## Preprocess"
   ]
  },
  {
   "cell_type": "code",
   "execution_count": 9,
   "id": "43a8c622-f2ab-40b6-bced-97d6091aafde",
   "metadata": {},
   "outputs": [
    {
     "data": {
      "text/plain": [
       "Text(0, 0.5, 'Frequency')"
      ]
     },
     "execution_count": 9,
     "metadata": {},
     "output_type": "execute_result"
    },
    {
     "data": {
      "image/png": "[encoded data removed]",
      "text/plain": [
       "<Figure size 640x480 with 1 Axes>"
      ]
     },
     "metadata": {},
     "output_type": "display_data"
    }
   ],
   "source": [
    "num_train_words = list(map(len, X_train_raw))\n",
    "\n",
    "fig, ax = plt.subplots(1, 1)\n",
    "ax.hist(num_train_words, bins=50, edgecolor=\"white\")\n",
    "ax.set_xlabel(\"Num Words\")\n",
    "ax.set_ylabel(\"Frequency\")"
   ]
  },
  {
   "cell_type": "code",
   "execution_count": 10,
   "id": "00427b4d-afa7-49b5-974c-e07e28a2dfdb",
   "metadata": {},
   "outputs": [],
   "source": [
    "X_train = sequence.pad_sequences(X_train_raw, maxlen=max_len)\n",
    "X_valid = sequence.pad_sequences(X_valid_raw, maxlen=max_len)\n",
    "X_test = sequence.pad_sequences(X_test_raw, maxlen=max_len)"
   ]
  },
  {
   "cell_type": "code",
   "execution_count": 11,
   "id": "6ae4ba74-026f-4792-b27b-ec0fb10c6555",
   "metadata": {},
   "outputs": [
    {
     "data": {
      "text/plain": [
       "((20000, 500), (5000, 500), (25000, 500))"
      ]
     },
     "execution_count": 11,
     "metadata": {},
     "output_type": "execute_result"
    }
   ],
   "source": [
    "X_train.shape, X_valid.shape, X_test.shape"
   ]
  },
  {
   "cell_type": "code",
   "execution_count": 12,
   "id": "1396ac7c-91ad-457f-960c-a01601fd8cb3",
   "metadata": {},
   "outputs": [],
   "source": [
    "y_train = to_categorical(y_train_raw)\n",
    "y_valid = to_categorical(y_valid_raw)\n",
    "y_test = to_categorical(y_test_raw)"
   ]
  },
  {
   "cell_type": "code",
   "execution_count": 13,
   "id": "87b7e3af-79eb-4280-b643-a223223fe3f3",
   "metadata": {},
   "outputs": [
    {
     "data": {
      "text/plain": [
       "((20000, 2), (5000, 2), (25000, 2))"
      ]
     },
     "execution_count": 13,
     "metadata": {},
     "output_type": "execute_result"
    }
   ],
   "source": [
    "y_train.shape, y_valid.shape, y_test.shape"
   ]
  },
  {
   "cell_type": "code",
   "execution_count": null,
   "id": "6072d7f9-0e72-434b-9838-653df12dd949",
   "metadata": {},
   "outputs": [],
   "source": []
  },
  {
   "cell_type": "markdown",
   "id": "d0206757-b588-438d-a4ce-1cd5b3a7ffba",
   "metadata": {},
   "source": [
    "## Train Mode"
   ]
  },
  {
   "cell_type": "code",
   "execution_count": 14,
   "id": "8f93017d-0a56-4f20-8294-b9d8f59ec5b6",
   "metadata": {},
   "outputs": [],
   "source": [
    "def build_model(\n",
    "    input_dim: int,\n",
    "    input_length: int,\n",
    "    embedding_dim: int = 128,    \n",
    ") -> Model:\n",
    "    inputs = layers.Input(shape=(input_length,))\n",
    "    x = layers.Embedding(input_dim=input_dim, output_dim=embedding_dim, input_length=input_length)(inputs)\n",
    "    x = layers.Conv1D(filters=32, kernel_size=7, strides=1, activation=\"relu\")(x)\n",
    "    x = layers.MaxPool1D(pool_size=5)(x)\n",
    "    x = layers.Flatten()(x)\n",
    "    x = layers.Dense(32, activation=\"relu\")(x)\n",
    "    outputs = layers.Dense(2, activation=\"softmax\")(x)\n",
    "    model = Model(inputs, outputs)\n",
    "    return model"
   ]
  },
  {
   "cell_type": "code",
   "execution_count": 15,
   "id": "c2ddfd7c-abd0-4853-b7d8-ecbc91441720",
   "metadata": {},
   "outputs": [
    {
     "name": "stderr",
     "output_type": "stream",
     "text": [
      "2024-12-10 15:47:25.335195: I tensorflow/compiler/xla/stream_executor/cuda/cuda_gpu_executor.cc:981] successful NUMA node read from SysFS had negative value (-1), but there must be at least one NUMA node, so returning NUMA node zero\n",
      "2024-12-10 15:47:25.338114: I tensorflow/compiler/xla/stream_executor/cuda/cuda_gpu_executor.cc:981] successful NUMA node read from SysFS had negative value (-1), but there must be at least one NUMA node, so returning NUMA node zero\n",
      "2024-12-10 15:47:25.338300: I tensorflow/compiler/xla/stream_executor/cuda/cuda_gpu_executor.cc:981] successful NUMA node read from SysFS had negative value (-1), but there must be at least one NUMA node, so returning NUMA node zero\n",
      "2024-12-10 15:47:25.338937: I tensorflow/core/platform/cpu_feature_guard.cc:193] This TensorFlow binary is optimized with oneAPI Deep Neural Network Library (oneDNN) to use the following CPU instructions in performance-critical operations:  AVX2 FMA\n",
      "To enable them in other operations, rebuild TensorFlow with the appropriate compiler flags.\n",
      "2024-12-10 15:47:25.339290: I tensorflow/compiler/xla/stream_executor/cuda/cuda_gpu_executor.cc:981] successful NUMA node read from SysFS had negative value (-1), but there must be at least one NUMA node, so returning NUMA node zero\n",
      "2024-12-10 15:47:25.339479: I tensorflow/compiler/xla/stream_executor/cuda/cuda_gpu_executor.cc:981] successful NUMA node read from SysFS had negative value (-1), but there must be at least one NUMA node, so returning NUMA node zero\n",
      "2024-12-10 15:47:25.339647: I tensorflow/compiler/xla/stream_executor/cuda/cuda_gpu_executor.cc:981] successful NUMA node read from SysFS had negative value (-1), but there must be at least one NUMA node, so returning NUMA node zero\n",
      "2024-12-10 15:47:25.684118: I tensorflow/compiler/xla/stream_executor/cuda/cuda_gpu_executor.cc:981] successful NUMA node read from SysFS had negative value (-1), but there must be at least one NUMA node, so returning NUMA node zero\n",
      "2024-12-10 15:47:25.684264: I tensorflow/compiler/xla/stream_executor/cuda/cuda_gpu_executor.cc:981] successful NUMA node read from SysFS had negative value (-1), but there must be at least one NUMA node, so returning NUMA node zero\n",
      "2024-12-10 15:47:25.684408: I tensorflow/compiler/xla/stream_executor/cuda/cuda_gpu_executor.cc:981] successful NUMA node read from SysFS had negative value (-1), but there must be at least one NUMA node, so returning NUMA node zero\n",
      "2024-12-10 15:47:25.684505: I tensorflow/core/common_runtime/gpu/gpu_device.cc:1613] Created device /job:localhost/replica:0/task:0/device:GPU:0 with 6660 MB memory:  -> device: 0, name: NVIDIA GeForce RTX 2070, pci bus id: 0000:01:00.0, compute capability: 7.5\n"
     ]
    }
   ],
   "source": [
    "model = build_model(input_dim=max_features, input_length=max_len)"
   ]
  },
  {
   "cell_type": "code",
   "execution_count": 16,
   "id": "848919ce-ca88-4ca8-ac6d-42fc26bb9e7d",
   "metadata": {},
   "outputs": [
    {
     "name": "stdout",
     "output_type": "stream",
     "text": [
      "Model: \"model\"\n",
      "_________________________________________________________________\n",
      " Layer (type)                Output Shape              Param #   \n",
      "=================================================================\n",
      " input_1 (InputLayer)        [(None, 500)]             0         \n",
      "                                                                 \n",
      " embedding (Embedding)       (None, 500, 128)          1280000   \n",
      "                                                                 \n",
      " conv1d (Conv1D)             (None, 494, 32)           28704     \n",
      "                                                                 \n",
      " max_pooling1d (MaxPooling1D  (None, 98, 32)           0         \n",
      " )                                                               \n",
      "                                                                 \n",
      " flatten (Flatten)           (None, 3136)              0         \n",
      "                                                                 \n",
      " dense (Dense)               (None, 32)                100384    \n",
      "                                                                 \n",
      " dense_1 (Dense)             (None, 2)                 66        \n",
      "                                                                 \n",
      "=================================================================\n",
      "Total params: 1,409,154\n",
      "Trainable params: 1,409,154\n",
      "Non-trainable params: 0\n",
      "_________________________________________________________________\n"
     ]
    }
   ],
   "source": [
    "model.summary()"
   ]
  },
  {
   "cell_type": "code",
   "execution_count": 17,
   "id": "1ce46f44-1a14-43de-96fb-e4fcd6417b72",
   "metadata": {},
   "outputs": [],
   "source": [
    "model.compile(\n",
    "    optimizer=Adam(1e-3),\n",
    "    loss=\"binary_crossentropy\",\n",
    "    metrics=[\"accuracy\"]\n",
    ")"
   ]
  },
  {
   "cell_type": "code",
   "execution_count": 18,
   "id": "f6826b36-3b6e-413d-8b9a-e2606678b8d4",
   "metadata": {},
   "outputs": [],
   "source": [
    "es_cb = EarlyStopping(monitor=\"val_loss\", patience=5, verbose=1)\n",
    "ckpt_cb = ModelCheckpoint(\n",
    "    filepath=ckpt_path,\n",
    "    monitor=\"val_loss\",\n",
    "    mode=\"min\",\n",
    "    save_weights_only=True,\n",
    "    save_best_only=True\n",
    ")"
   ]
  },
  {
   "cell_type": "code",
   "execution_count": 19,
   "id": "3fd44dc1-d2e9-456a-9299-0f7b210e22b7",
   "metadata": {},
   "outputs": [
    {
     "name": "stdout",
     "output_type": "stream",
     "text": [
      "Epoch 1/50\n"
     ]
    },
    {
     "name": "stderr",
     "output_type": "stream",
     "text": [
      "2024-12-10 15:47:26.732103: I tensorflow/compiler/xla/stream_executor/cuda/cuda_dnn.cc:428] Loaded cuDNN version 8100\n",
      "2024-12-10 15:47:27.788845: I tensorflow/compiler/xla/service/service.cc:173] XLA service 0x7f6234010960 initialized for platform CUDA (this does not guarantee that XLA will be used). Devices:\n",
      "2024-12-10 15:47:27.788874: I tensorflow/compiler/xla/service/service.cc:181]   StreamExecutor device (0): NVIDIA GeForce RTX 2070, Compute Capability 7.5\n",
      "2024-12-10 15:47:27.792226: I tensorflow/compiler/mlir/tensorflow/utils/dump_mlir_util.cc:268] disabling MLIR crash reproducer, set env var `MLIR_CRASH_REPRODUCER_DIRECTORY` to enable.\n",
      "2024-12-10 15:47:27.885780: I tensorflow/compiler/jit/xla_compilation_cache.cc:477] Compiled cluster using XLA!  This line is logged at most once for the lifetime of the process.\n"
     ]
    },
    {
     "name": "stdout",
     "output_type": "stream",
     "text": [
      "79/79 [==============================] - 12s 116ms/step - loss: 0.6421 - accuracy: 0.6169 - val_loss: 0.3796 - val_accuracy: 0.8422\n",
      "Epoch 2/50\n",
      "79/79 [==============================] - 8s 95ms/step - loss: 0.2810 - accuracy: 0.8870 - val_loss: 0.2616 - val_accuracy: 0.8972\n",
      "Epoch 3/50\n",
      "79/79 [==============================] - 6s 78ms/step - loss: 0.1614 - accuracy: 0.9414 - val_loss: 0.2819 - val_accuracy: 0.8938\n",
      "Epoch 4/50\n",
      "79/79 [==============================] - 5s 64ms/step - loss: 0.1019 - accuracy: 0.9666 - val_loss: 0.3499 - val_accuracy: 0.8810\n",
      "Epoch 5/50\n",
      "79/79 [==============================] - 5s 65ms/step - loss: 0.0593 - accuracy: 0.9847 - val_loss: 0.4133 - val_accuracy: 0.8772\n",
      "Epoch 6/50\n",
      "79/79 [==============================] - 5s 59ms/step - loss: 0.0313 - accuracy: 0.9933 - val_loss: 0.4989 - val_accuracy: 0.8762\n",
      "Epoch 7/50\n",
      "79/79 [==============================] - 4s 46ms/step - loss: 0.0159 - accuracy: 0.9973 - val_loss: 0.5612 - val_accuracy: 0.8738\n",
      "Epoch 7: early stopping\n"
     ]
    }
   ],
   "source": [
    "history = model.fit(\n",
    "    X_train,\n",
    "    y_train,\n",
    "    validation_data=(X_valid, y_valid),\n",
    "    epochs=50,\n",
    "    batch_size=256,\n",
    "    callbacks=[es_cb, ckpt_cb]\n",
    ")"
   ]
  },
  {
   "cell_type": "code",
   "execution_count": 20,
   "id": "d9f70a8e-d1a9-4ce9-a322-1c62b2dac2fa",
   "metadata": {},
   "outputs": [
    {
     "data": {
      "text/plain": [
       "(<Figure size 640x480 with 1 Axes>,\n",
       " <Axes: xlabel='Epoch', ylabel='Cross-Entropy'>)"
      ]
     },
     "execution_count": 20,
     "metadata": {},
     "output_type": "execute_result"
    },
    {
     "data": {
      "image/png": "[encoded data removed]",
      "text/plain": [
       "<Figure size 640x480 with 1 Axes>"
      ]
     },
     "metadata": {},
     "output_type": "display_data"
    }
   ],
   "source": [
    "plot_history(history, ylabel=\"Cross-Entropy\")"
   ]
  },
  {
   "cell_type": "code",
   "execution_count": 21,
   "id": "d639a686-3399-4a2c-9ba4-8c4f9f6d2421",
   "metadata": {},
   "outputs": [
    {
     "data": {
      "text/plain": [
       "<tensorflow.python.checkpoint.checkpoint.CheckpointLoadStatus at 0x7f62fb783250>"
      ]
     },
     "execution_count": 21,
     "metadata": {},
     "output_type": "execute_result"
    }
   ],
   "source": [
    "# load best model\n",
    "\n",
    "model.load_weights(ckpt_path)"
   ]
  },
  {
   "cell_type": "code",
   "execution_count": 22,
   "id": "90ba37d8-e371-444f-bdec-db1716e12e23",
   "metadata": {},
   "outputs": [
    {
     "name": "stdout",
     "output_type": "stream",
     "text": [
      "625/625 [==============================] - 4s 7ms/step - loss: 0.1626 - accuracy: 0.9480\n"
     ]
    },
    {
     "data": {
      "text/plain": [
       "[0.1626109480857849, 0.9480000138282776]"
      ]
     },
     "execution_count": 22,
     "metadata": {},
     "output_type": "execute_result"
    }
   ],
   "source": [
    "# train loss / accuracy\n",
    "\n",
    "model.evaluate(X_train, y_train)"
   ]
  },
  {
   "cell_type": "code",
   "execution_count": 23,
   "id": "4646d90f-1b0d-4cf3-9708-6cc72dd65e4d",
   "metadata": {},
   "outputs": [
    {
     "name": "stdout",
     "output_type": "stream",
     "text": [
      "157/157 [==============================] - 1s 5ms/step - loss: 0.2616 - accuracy: 0.8972\n"
     ]
    },
    {
     "data": {
      "text/plain": [
       "[0.26163557171821594, 0.8971999883651733]"
      ]
     },
     "execution_count": 23,
     "metadata": {},
     "output_type": "execute_result"
    }
   ],
   "source": [
    "# valid loss / accuracy\n",
    "\n",
    "model.evaluate(X_valid, y_valid)"
   ]
  },
  {
   "cell_type": "code",
   "execution_count": 24,
   "id": "df00eb31-ded5-4b42-9547-cbd423542a4f",
   "metadata": {},
   "outputs": [
    {
     "name": "stdout",
     "output_type": "stream",
     "text": [
      "782/782 [==============================] - 5s 7ms/step - loss: 0.2920 - accuracy: 0.8762\n"
     ]
    },
    {
     "data": {
      "text/plain": [
       "[0.29204949736595154, 0.8762400150299072]"
      ]
     },
     "execution_count": 24,
     "metadata": {},
     "output_type": "execute_result"
    }
   ],
   "source": [
    "# test loss / accuracy\n",
    "\n",
    "model.evaluate(X_test, y_test)"
   ]
  },
  {
   "cell_type": "code",
   "execution_count": null,
   "id": "011d9e26-4636-4f7e-8846-27bd7d02e8d4",
   "metadata": {},
   "outputs": [],
   "source": []
  },
  {
   "cell_type": "code",
   "execution_count": null,
   "id": "c45f1a59-db6c-4480-81be-145d965857ad",
   "metadata": {},
   "outputs": [],
   "source": []
  },
  {
   "cell_type": "code",
   "execution_count": null,
   "id": "6501e28c-571c-49bf-b668-8c482c87d96e",
   "metadata": {},
   "outputs": [],
   "source": []
  },
  {
   "cell_type": "code",
   "execution_count": null,
   "id": "6d96faee-151c-4419-9165-4b4c16fc55c8",
   "metadata": {},
   "outputs": [],
   "source": []
  }
 ],
 "metadata": {
  "kernelspec": {
   "display_name": "Python 3 (ipykernel)",
   "language": "python",
   "name": "python3"
  },
  "language_info": {
   "codemirror_mode": {
    "name": "ipython",
    "version": 3
   },
   "file_extension": ".py",
   "mimetype": "text/x-python",
   "name": "python",
   "nbconvert_exporter": "python",
   "pygments_lexer": "ipython3",
   "version": "3.8.10"
  }
 },
 "nbformat": 4,
 "nbformat_minor": 5
}
