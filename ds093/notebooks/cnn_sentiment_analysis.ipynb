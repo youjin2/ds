{
 "cells": [
  {
   "cell_type": "code",
   "execution_count": 1,
   "id": "ae30d7c7-95a0-4b43-b915-31d1fdf54968",
   "metadata": {},
   "outputs": [
    {
     "name": "stderr",
     "output_type": "stream",
     "text": [
      "2024-12-08 08:08:22.532894: I tensorflow/core/platform/cpu_feature_guard.cc:193] This TensorFlow binary is optimized with oneAPI Deep Neural Network Library (oneDNN) to use the following CPU instructions in performance-critical operations:  AVX2 FMA\n",
      "To enable them in other operations, rebuild TensorFlow with the appropriate compiler flags.\n"
     ]
    }
   ],
   "source": [
    "import os\n",
    "\n",
    "import numpy as np\n",
    "import tensorflow as tf\n",
    "from tensorflow.keras.datasets import imdb\n",
    "from tensorflow.keras.preprocessing import sequence\n",
    "from tensorflow.keras.utils import to_categorical\n",
    "from tensorflow.keras.models import Model\n",
    "from tensorflow.keras import layers\n",
    "from tensorflow.keras.callbacks import EarlyStopping, ModelCheckpoint\n",
    "from tensorflow.keras.optimizers import Adam\n",
    "from sklearn.model_selection import train_test_split\n",
    "\n",
    "import matplotlib.pyplot as plt"
   ]
  },
  {
   "cell_type": "code",
   "execution_count": null,
   "id": "468519eb-73a4-432a-90eb-a8989a069ab5",
   "metadata": {},
   "outputs": [],
   "source": []
  },
  {
   "cell_type": "markdown",
   "id": "c3ba232a-25e4-4403-9ab5-a5ec8d1bb7ba",
   "metadata": {},
   "source": [
    "## Config"
   ]
  },
  {
   "cell_type": "code",
   "execution_count": 2,
   "id": "a117efa0-09d6-4678-8278-277f68183d6d",
   "metadata": {},
   "outputs": [],
   "source": [
    "# keep top-10000 frequent words\n",
    "max_features = 10000\n",
    "\n",
    "# fix document length\n",
    "max_len = 500\n",
    "\n",
    "# model path\n",
    "base_model_dir = \"../model\"\n",
    "os.makedirs(base_model_dir, exist_ok=True)\n",
    "\n",
    "ckpt_path = os.path.join(base_model_dir, \"cnn_sentiment\", \"ckpt\")"
   ]
  },
  {
   "cell_type": "code",
   "execution_count": null,
   "id": "02e09036-73e9-4253-99dd-8e74741bf7c2",
   "metadata": {},
   "outputs": [],
   "source": []
  },
  {
   "cell_type": "markdown",
   "id": "f09dcc07-48ef-4b36-9b1f-689e2a1db568",
   "metadata": {},
   "source": [
    "## Read Data"
   ]
  },
  {
   "cell_type": "code",
   "execution_count": 3,
   "id": "5e0a7d4e-2bcf-445a-b39d-60fe8bdd0799",
   "metadata": {},
   "outputs": [],
   "source": [
    "(X_train_raw, y_train_raw), (X_test_raw, y_test_raw) = imdb.load_data(num_words=max_features)\n",
    "word_to_idx = imdb.get_word_index()\n",
    "idx_to_word = {v: k for k, v in word_to_idx.items()}"
   ]
  },
  {
   "cell_type": "code",
   "execution_count": 4,
   "id": "e557ee4a-62ee-4a3f-8bdd-a61be179ee89",
   "metadata": {},
   "outputs": [
    {
     "name": "stdout",
     "output_type": "stream",
     "text": [
      "num train: 25000\n",
      "num test: 25000\n"
     ]
    }
   ],
   "source": [
    "print(f\"num train: {len(X_train_raw)}\")\n",
    "print(f\"num test: {len(X_test_raw)}\")"
   ]
  },
  {
   "cell_type": "code",
   "execution_count": 5,
   "id": "f2515879-f66a-4df4-bf48-e9bb3dcc3b1a",
   "metadata": {},
   "outputs": [
    {
     "name": "stdout",
     "output_type": "stream",
     "text": [
      "==> review: 1318 (sentiment=0)\n",
      "the wonder typical as on they an cash as it comedy is tom of sure on always your life its characters one they there's by scientist state as there score writing brilliant\n",
      "\n",
      "==> review: 23605 (sentiment=0)\n",
      "the jack hit credits in picked don't and getting as on it was saying that than her do if very not if his if out theme wanders to rest if her do was against which dark they that i i this spooky in because fields robin decision and it his of chose br of on of see piece read surrounding it of going strung approach like movie is wasn't variety are explodes down high movie of forced michael from give few just and editing to none i i of threatens and and it is and of group v br robin decision wise as fun it timeless to and to well favorite believe have well stupid evil africa those i i an of before himself in at africa those course of television forced cheesy always life read insane this is dozen figures not kind these still been approach such story approach perfect be before or love it all had for do is going seeing fan there transparent of their she box more interesting by production he press to approach letting this planted in 24 of peter was does don't all supposed affections this of planted if don't was supposed watch doesn't be on i i title was check in also only sense those or of factor consider as it is line on where half in at life who of women br of going to what have growing any some guys can though every women than of by like eyes of on biggest soviet\n",
      "\n",
      "==> review: 23924 (sentiment=0)\n",
      "the intelligence easily it stick extremely but of historic to series sound not as their it movies historic good characters who of here have might serious but of films it's of trip from than maybe i'm scene have out might displayed of on there is mind might in that they how film of whole romantic in of class to mark work joy and and to rarely any br of shut homicide not as little lame humour that gave film her get break not who of here that ordinary of break in at is very fact on to friend blind told perhaps to 15 shakespeare i i fare and and be war daughters informative psyche were production and to marx to were walk learn in is actually line this and from he titles who of groove noticeable repetitive and joy and has of entertainment shut homicide to don't that it malden fare thank director br as to and sound friends of whole walk it age all and that this of malden homicide to that trying those in acting thus and they of whole to torture in at half including by hard and marx cat some this of mistake to it actress show to age who is chan to fare knew all isn't crow made this of homicide no marx trying those in acting all it decide to tries in please i i film plot br intelligence gender art for then eagerly much first many was dangerous of disney to insults this as liked called easily with of attacked not watching part in dangerous made but be tell their who of here if her focus to old bigger of surprise it producer is over worse trying those or of performances to recently in car great film when different just is holding and to his see for not all recently in rope were tend to this by liked tears is level or of provides in of cunning was does as interesting place this across not exactly don't perhaps well as also of scenes know fare and be underlying years alone cast walk in car that it nowadays serious most of walk off his met as an that off with through however and if right casting to all age that of scenes know all and be right and works it family fever his and serious not of script directors it out tell in two br watch never and marx and and however new puts things performances such off from kids in could is on once film of home br so and not which entire of york once br any you jim fare and play fan his part in own tv like this of homicide watch marx language any when off all stuff such off called easily situation as brilliant their to such with that way first is on if shakespeare to focus i i only major some br impressed jude appeared but stop\n",
      "\n",
      "==> review: 17048 (sentiment=1)\n",
      "the laugh weight on am is actually believes interesting they an is do on this enough was just that time get title was appear of finally it blind to of their it is far zombie coming they gets not and go time time seemed it is familiar that's intentions idiocy ben to coffin peoples off is otherwise together and made animals br of feeling love that with him director enjoy film that machine of near it keyboard to good br of albert happened they of 5 than succeeds of 7 to simple he nobody course according she to victim got of extreme there point will only fire asks br of seen of laugh weight like was people just he godzilla to of others history he much bit movies to of once it is now and an this an macho hopeful played problems didn't and characterization\n",
      "\n",
      "==> review: 22521 (sentiment=1)\n",
      "the as you find is police sounds has of animated great br of my of low br of kent in upside of downtown br of films it nobody to was big his add of fantasy to and br cedric flowing to bash was did any give were too br and it her version to honestly for have action 20 similar it's his of awful it look more of order this be filming almost it other screenwriters secret movie of realization animated like and be war to history not this be right too is witch help of 5 something film emotionally they and and film an of sealed it crew to had details of you hello was several of you to was other plain for that it makes that interesting up maiden\n",
      "\n"
     ]
    }
   ],
   "source": [
    "np.random.seed(1234)\n",
    "samp_idxs = np.random.choice(range(len(X_train_raw)), size=5)\n",
    "\n",
    "for i in samp_idxs:\n",
    "    x = X_train_raw[i]\n",
    "    y = y_train_raw[i]\n",
    "\n",
    "    review = \" \".join([idx_to_word[n] for n in x])\n",
    "    print(f\"==> review: {i} (sentiment={y})\")\n",
    "    print(f\"{review}\\n\")"
   ]
  },
  {
   "cell_type": "code",
   "execution_count": 6,
   "id": "5b46ff04-102b-4570-8c92-f5e8891d76ab",
   "metadata": {},
   "outputs": [
    {
     "name": "stdout",
     "output_type": "stream",
     "text": [
      "Train num_words/min_index/max_index: 9998/1/9999\n",
      "Test num_words/min_index/max_index: 9951/1/9999\n"
     ]
    }
   ],
   "source": [
    "# number of distinct words in train / test dataset\n",
    "\n",
    "s1 = set()\n",
    "s2 = set()\n",
    "\n",
    "for x in X_train_raw:\n",
    "    s1.update(x)\n",
    "\n",
    "for x in X_test_raw:\n",
    "    s2.update(x)\n",
    "\n",
    "print(f\"Train num_words/min_index/max_index: {len(s1)}/{min(s1)}/{max(s1)}\")\n",
    "print(f\"Test num_words/min_index/max_index: {len(s2)}/{min(s2)}/{max(s2)}\")"
   ]
  },
  {
   "cell_type": "code",
   "execution_count": null,
   "id": "06826871-51f3-40a8-bc17-9a92dc12634a",
   "metadata": {},
   "outputs": [],
   "source": []
  },
  {
   "cell_type": "markdown",
   "id": "090dd200-02bd-4562-8ab4-3ac76a20ee9a",
   "metadata": {},
   "source": [
    "## Preprocess"
   ]
  },
  {
   "cell_type": "code",
   "execution_count": 7,
   "id": "43a8c622-f2ab-40b6-bced-97d6091aafde",
   "metadata": {},
   "outputs": [
    {
     "data": {
      "text/plain": [
       "Text(0, 0.5, 'Frequency')"
      ]
     },
     "execution_count": 7,
     "metadata": {},
     "output_type": "execute_result"
    },
    {
     "data": {
      "image/png": "[encoded data removed]",
      "text/plain": [
       "<Figure size 640x480 with 1 Axes>"
      ]
     },
     "metadata": {},
     "output_type": "display_data"
    }
   ],
   "source": [
    "num_train_words = list(map(len, X_train_raw))\n",
    "\n",
    "fig, ax = plt.subplots(1, 1)\n",
    "ax.hist(num_train_words, bins=50, edgecolor=\"white\")\n",
    "ax.set_xlabel(\"Num Words\")\n",
    "ax.set_ylabel(\"Frequency\")"
   ]
  },
  {
   "cell_type": "code",
   "execution_count": 8,
   "id": "a21cc050-97f8-4550-8147-08874001983a",
   "metadata": {},
   "outputs": [],
   "source": [
    "X_train_raw, X_valid_raw, y_train_raw, y_valid_raw = train_test_split(X_train_raw, y_train_raw, random_state=1234)"
   ]
  },
  {
   "cell_type": "code",
   "execution_count": 9,
   "id": "00427b4d-afa7-49b5-974c-e07e28a2dfdb",
   "metadata": {},
   "outputs": [],
   "source": [
    "X_train = sequence.pad_sequences(X_train_raw, maxlen=max_len)\n",
    "X_valid = sequence.pad_sequences(X_valid_raw, maxlen=max_len)\n",
    "X_test = sequence.pad_sequences(X_test_raw, maxlen=max_len)"
   ]
  },
  {
   "cell_type": "code",
   "execution_count": 10,
   "id": "6ae4ba74-026f-4792-b27b-ec0fb10c6555",
   "metadata": {},
   "outputs": [
    {
     "data": {
      "text/plain": [
       "(18750, 500)"
      ]
     },
     "execution_count": 10,
     "metadata": {},
     "output_type": "execute_result"
    }
   ],
   "source": [
    "X_train.shape"
   ]
  },
  {
   "cell_type": "code",
   "execution_count": 11,
   "id": "2d4d9d4c-f677-497e-b940-a4563d147ae2",
   "metadata": {},
   "outputs": [
    {
     "data": {
      "text/plain": [
       "(6250, 500)"
      ]
     },
     "execution_count": 11,
     "metadata": {},
     "output_type": "execute_result"
    }
   ],
   "source": [
    "X_valid.shape"
   ]
  },
  {
   "cell_type": "code",
   "execution_count": 12,
   "id": "65026994-0601-4c8f-b400-71b6d97a3d4b",
   "metadata": {},
   "outputs": [
    {
     "data": {
      "text/plain": [
       "(25000, 500)"
      ]
     },
     "execution_count": 12,
     "metadata": {},
     "output_type": "execute_result"
    }
   ],
   "source": [
    "X_test.shape"
   ]
  },
  {
   "cell_type": "code",
   "execution_count": 13,
   "id": "1396ac7c-91ad-457f-960c-a01601fd8cb3",
   "metadata": {},
   "outputs": [],
   "source": [
    "y_train = to_categorical(y_train_raw)\n",
    "y_valid = to_categorical(y_valid_raw)\n",
    "y_test = to_categorical(y_test_raw)"
   ]
  },
  {
   "cell_type": "code",
   "execution_count": 14,
   "id": "87b7e3af-79eb-4280-b643-a223223fe3f3",
   "metadata": {},
   "outputs": [
    {
     "data": {
      "text/plain": [
       "(18750, 2)"
      ]
     },
     "execution_count": 14,
     "metadata": {},
     "output_type": "execute_result"
    }
   ],
   "source": [
    "y_train.shape"
   ]
  },
  {
   "cell_type": "code",
   "execution_count": 15,
   "id": "235d88a8-e36f-4d3e-acfd-ec0d0f1192f4",
   "metadata": {},
   "outputs": [
    {
     "data": {
      "text/plain": [
       "(6250,)"
      ]
     },
     "execution_count": 15,
     "metadata": {},
     "output_type": "execute_result"
    }
   ],
   "source": [
    "y_valid_raw.shape"
   ]
  },
  {
   "cell_type": "code",
   "execution_count": 16,
   "id": "2fa967dd-8f4f-4ba7-8906-2656b0666f4b",
   "metadata": {},
   "outputs": [
    {
     "data": {
      "text/plain": [
       "(25000, 2)"
      ]
     },
     "execution_count": 16,
     "metadata": {},
     "output_type": "execute_result"
    }
   ],
   "source": [
    "y_test.shape"
   ]
  },
  {
   "cell_type": "code",
   "execution_count": null,
   "id": "6072d7f9-0e72-434b-9838-653df12dd949",
   "metadata": {},
   "outputs": [],
   "source": []
  },
  {
   "cell_type": "markdown",
   "id": "d0206757-b588-438d-a4ce-1cd5b3a7ffba",
   "metadata": {},
   "source": [
    "## Train Mode"
   ]
  },
  {
   "cell_type": "code",
   "execution_count": 17,
   "id": "8f93017d-0a56-4f20-8294-b9d8f59ec5b6",
   "metadata": {},
   "outputs": [],
   "source": [
    "def build_model(\n",
    "    input_dim: int,\n",
    "    input_length: int,\n",
    "    embedding_dim: int = 128,    \n",
    ") -> Model:\n",
    "    inputs = layers.Input(shape=(input_length,))\n",
    "    x = layers.Embedding(input_dim=input_dim, output_dim=embedding_dim, input_length=input_length)(inputs)\n",
    "    x = layers.Conv1D(filters=32, kernel_size=7, strides=1, activation=\"relu\")(x)\n",
    "    x = layers.MaxPool1D(pool_size=5)(x)\n",
    "    x = layers.Flatten()(x)\n",
    "    x = layers.Dense(32, activation=\"relu\")(x)\n",
    "    outputs = layers.Dense(2, activation=\"softmax\")(x)\n",
    "    model = Model(inputs, outputs)\n",
    "    return model"
   ]
  },
  {
   "cell_type": "code",
   "execution_count": 18,
   "id": "c2ddfd7c-abd0-4853-b7d8-ecbc91441720",
   "metadata": {},
   "outputs": [
    {
     "name": "stderr",
     "output_type": "stream",
     "text": [
      "2024-12-08 08:08:28.410912: I tensorflow/compiler/xla/stream_executor/cuda/cuda_gpu_executor.cc:981] successful NUMA node read from SysFS had negative value (-1), but there must be at least one NUMA node, so returning NUMA node zero\n",
      "2024-12-08 08:08:28.412704: I tensorflow/compiler/xla/stream_executor/cuda/cuda_gpu_executor.cc:981] successful NUMA node read from SysFS had negative value (-1), but there must be at least one NUMA node, so returning NUMA node zero\n",
      "2024-12-08 08:08:28.412807: I tensorflow/compiler/xla/stream_executor/cuda/cuda_gpu_executor.cc:981] successful NUMA node read from SysFS had negative value (-1), but there must be at least one NUMA node, so returning NUMA node zero\n",
      "2024-12-08 08:08:28.413159: I tensorflow/core/platform/cpu_feature_guard.cc:193] This TensorFlow binary is optimized with oneAPI Deep Neural Network Library (oneDNN) to use the following CPU instructions in performance-critical operations:  AVX2 FMA\n",
      "To enable them in other operations, rebuild TensorFlow with the appropriate compiler flags.\n",
      "2024-12-08 08:08:28.413398: I tensorflow/compiler/xla/stream_executor/cuda/cuda_gpu_executor.cc:981] successful NUMA node read from SysFS had negative value (-1), but there must be at least one NUMA node, so returning NUMA node zero\n",
      "2024-12-08 08:08:28.413497: I tensorflow/compiler/xla/stream_executor/cuda/cuda_gpu_executor.cc:981] successful NUMA node read from SysFS had negative value (-1), but there must be at least one NUMA node, so returning NUMA node zero\n",
      "2024-12-08 08:08:28.413588: I tensorflow/compiler/xla/stream_executor/cuda/cuda_gpu_executor.cc:981] successful NUMA node read from SysFS had negative value (-1), but there must be at least one NUMA node, so returning NUMA node zero\n",
      "2024-12-08 08:08:28.745190: I tensorflow/compiler/xla/stream_executor/cuda/cuda_gpu_executor.cc:981] successful NUMA node read from SysFS had negative value (-1), but there must be at least one NUMA node, so returning NUMA node zero\n",
      "2024-12-08 08:08:28.745334: I tensorflow/compiler/xla/stream_executor/cuda/cuda_gpu_executor.cc:981] successful NUMA node read from SysFS had negative value (-1), but there must be at least one NUMA node, so returning NUMA node zero\n",
      "2024-12-08 08:08:28.745434: I tensorflow/compiler/xla/stream_executor/cuda/cuda_gpu_executor.cc:981] successful NUMA node read from SysFS had negative value (-1), but there must be at least one NUMA node, so returning NUMA node zero\n",
      "2024-12-08 08:08:28.745518: I tensorflow/core/common_runtime/gpu/gpu_device.cc:1613] Created device /job:localhost/replica:0/task:0/device:GPU:0 with 6660 MB memory:  -> device: 0, name: NVIDIA GeForce RTX 2070, pci bus id: 0000:01:00.0, compute capability: 7.5\n"
     ]
    }
   ],
   "source": [
    "model = build_model(input_dim=max_features, input_length=max_len)"
   ]
  },
  {
   "cell_type": "code",
   "execution_count": 19,
   "id": "848919ce-ca88-4ca8-ac6d-42fc26bb9e7d",
   "metadata": {},
   "outputs": [
    {
     "name": "stdout",
     "output_type": "stream",
     "text": [
      "Model: \"model\"\n",
      "_________________________________________________________________\n",
      " Layer (type)                Output Shape              Param #   \n",
      "=================================================================\n",
      " input_1 (InputLayer)        [(None, 500)]             0         \n",
      "                                                                 \n",
      " embedding (Embedding)       (None, 500, 128)          1280000   \n",
      "                                                                 \n",
      " conv1d (Conv1D)             (None, 494, 32)           28704     \n",
      "                                                                 \n",
      " max_pooling1d (MaxPooling1D  (None, 98, 32)           0         \n",
      " )                                                               \n",
      "                                                                 \n",
      " flatten (Flatten)           (None, 3136)              0         \n",
      "                                                                 \n",
      " dense (Dense)               (None, 32)                100384    \n",
      "                                                                 \n",
      " dense_1 (Dense)             (None, 2)                 66        \n",
      "                                                                 \n",
      "=================================================================\n",
      "Total params: 1,409,154\n",
      "Trainable params: 1,409,154\n",
      "Non-trainable params: 0\n",
      "_________________________________________________________________\n"
     ]
    }
   ],
   "source": [
    "model.summary()"
   ]
  },
  {
   "cell_type": "code",
   "execution_count": 20,
   "id": "1ce46f44-1a14-43de-96fb-e4fcd6417b72",
   "metadata": {},
   "outputs": [],
   "source": [
    "model.compile(\n",
    "    optimizer=Adam(1e-3),\n",
    "    loss=\"binary_crossentropy\",\n",
    "    metrics=[\"accuracy\"]\n",
    ")"
   ]
  },
  {
   "cell_type": "code",
   "execution_count": 21,
   "id": "f6826b36-3b6e-413d-8b9a-e2606678b8d4",
   "metadata": {},
   "outputs": [],
   "source": [
    "es_cb = EarlyStopping(monitor=\"val_loss\", patience=5, verbose=1)\n",
    "ckpt_cb = ModelCheckpoint(\n",
    "    filepath=ckpt_path,\n",
    "    monitor=\"val_loss\",\n",
    "    mode=\"min\",\n",
    "    save_weights_only=True,\n",
    "    save_best_only=True\n",
    ")"
   ]
  },
  {
   "cell_type": "code",
   "execution_count": 22,
   "id": "3fd44dc1-d2e9-456a-9299-0f7b210e22b7",
   "metadata": {},
   "outputs": [
    {
     "name": "stdout",
     "output_type": "stream",
     "text": [
      "Epoch 1/50\n"
     ]
    },
    {
     "name": "stderr",
     "output_type": "stream",
     "text": [
      "2024-12-08 08:08:29.790141: I tensorflow/compiler/xla/stream_executor/cuda/cuda_dnn.cc:428] Loaded cuDNN version 8100\n",
      "2024-12-08 08:08:30.497220: I tensorflow/compiler/xla/service/service.cc:173] XLA service 0x7f8a4ef7a5d0 initialized for platform CUDA (this does not guarantee that XLA will be used). Devices:\n",
      "2024-12-08 08:08:30.497246: I tensorflow/compiler/xla/service/service.cc:181]   StreamExecutor device (0): NVIDIA GeForce RTX 2070, Compute Capability 7.5\n",
      "2024-12-08 08:08:30.500238: I tensorflow/compiler/mlir/tensorflow/utils/dump_mlir_util.cc:268] disabling MLIR crash reproducer, set env var `MLIR_CRASH_REPRODUCER_DIRECTORY` to enable.\n",
      "2024-12-08 08:08:30.593019: I tensorflow/compiler/jit/xla_compilation_cache.cc:477] Compiled cluster using XLA!  This line is logged at most once for the lifetime of the process.\n"
     ]
    },
    {
     "name": "stdout",
     "output_type": "stream",
     "text": [
      "37/37 [==============================] - 7s 131ms/step - loss: 0.6847 - accuracy: 0.5665 - val_loss: 0.6339 - val_accuracy: 0.6942\n",
      "Epoch 2/50\n",
      "37/37 [==============================] - 4s 116ms/step - loss: 0.3984 - accuracy: 0.8365 - val_loss: 0.2947 - val_accuracy: 0.8778\n",
      "Epoch 3/50\n",
      "37/37 [==============================] - 3s 91ms/step - loss: 0.1991 - accuracy: 0.9247 - val_loss: 0.2923 - val_accuracy: 0.8792\n",
      "Epoch 4/50\n",
      "37/37 [==============================] - 3s 85ms/step - loss: 0.1313 - accuracy: 0.9561 - val_loss: 0.3021 - val_accuracy: 0.8880\n",
      "Epoch 5/50\n",
      "37/37 [==============================] - 3s 88ms/step - loss: 0.0853 - accuracy: 0.9757 - val_loss: 0.3384 - val_accuracy: 0.8830\n",
      "Epoch 6/50\n",
      "37/37 [==============================] - 3s 71ms/step - loss: 0.0550 - accuracy: 0.9869 - val_loss: 0.3878 - val_accuracy: 0.8773\n",
      "Epoch 7/50\n",
      "37/37 [==============================] - 3s 79ms/step - loss: 0.0339 - accuracy: 0.9939 - val_loss: 0.4365 - val_accuracy: 0.8782\n",
      "Epoch 8/50\n",
      "37/37 [==============================] - 3s 76ms/step - loss: 0.0204 - accuracy: 0.9971 - val_loss: 0.4993 - val_accuracy: 0.8738\n",
      "Epoch 8: early stopping\n"
     ]
    }
   ],
   "source": [
    "history = model.fit(\n",
    "    X_train,\n",
    "    y_train,\n",
    "    validation_data=(X_valid, y_valid),\n",
    "    epochs=50,\n",
    "    batch_size=512,\n",
    "    callbacks=[es_cb, ckpt_cb]\n",
    ")"
   ]
  },
  {
   "cell_type": "code",
   "execution_count": 23,
   "id": "d9f70a8e-d1a9-4ce9-a322-1c62b2dac2fa",
   "metadata": {},
   "outputs": [
    {
     "data": {
      "text/plain": [
       "<matplotlib.legend.Legend at 0x7f8da282d430>"
      ]
     },
     "execution_count": 23,
     "metadata": {},
     "output_type": "execute_result"
    },
    {
     "data": {
      "image/png": "[encoded data removed]",
      "text/plain": [
       "<Figure size 640x480 with 1 Axes>"
      ]
     },
     "metadata": {},
     "output_type": "display_data"
    }
   ],
   "source": [
    "train_loss = history.history[\"loss\"]\n",
    "valid_loss = history.history[\"val_loss\"]\n",
    "\n",
    "fig, ax = plt.subplots(1, 1)\n",
    "ax.plot(train_loss, label=\"Train Loss\")\n",
    "ax.plot(valid_loss, label=\"Valid Loss\")\n",
    "ax.grid(linestyle=\":\")\n",
    "ax.set_xlabel(\"Epoch\", fontsize=12)\n",
    "ax.set_ylabel(\"Cross-Entropy\", fontsize=12)\n",
    "ax.legend()"
   ]
  },
  {
   "cell_type": "code",
   "execution_count": 24,
   "id": "d639a686-3399-4a2c-9ba4-8c4f9f6d2421",
   "metadata": {},
   "outputs": [
    {
     "data": {
      "text/plain": [
       "<tensorflow.python.checkpoint.checkpoint.CheckpointLoadStatus at 0x7f8da0ef9d90>"
      ]
     },
     "execution_count": 24,
     "metadata": {},
     "output_type": "execute_result"
    }
   ],
   "source": [
    "# load best model\n",
    "\n",
    "model.load_weights(ckpt_path)"
   ]
  },
  {
   "cell_type": "code",
   "execution_count": 25,
   "id": "90ba37d8-e371-444f-bdec-db1716e12e23",
   "metadata": {},
   "outputs": [
    {
     "name": "stdout",
     "output_type": "stream",
     "text": [
      "586/586 [==============================] - 3s 5ms/step - loss: 0.1429 - accuracy: 0.9531\n"
     ]
    },
    {
     "data": {
      "text/plain": [
       "[0.142938032746315, 0.9531199932098389]"
      ]
     },
     "execution_count": 25,
     "metadata": {},
     "output_type": "execute_result"
    }
   ],
   "source": [
    "# train loss / accuracy\n",
    "\n",
    "model.evaluate(X_train, y_train)"
   ]
  },
  {
   "cell_type": "code",
   "execution_count": 26,
   "id": "4646d90f-1b0d-4cf3-9708-6cc72dd65e4d",
   "metadata": {},
   "outputs": [
    {
     "name": "stdout",
     "output_type": "stream",
     "text": [
      "196/196 [==============================] - 1s 5ms/step - loss: 0.2923 - accuracy: 0.8792\n"
     ]
    },
    {
     "data": {
      "text/plain": [
       "[0.29227885603904724, 0.8791999816894531]"
      ]
     },
     "execution_count": 26,
     "metadata": {},
     "output_type": "execute_result"
    }
   ],
   "source": [
    "# valid loss / accuracy\n",
    "\n",
    "model.evaluate(X_valid, y_valid)"
   ]
  },
  {
   "cell_type": "code",
   "execution_count": 27,
   "id": "df00eb31-ded5-4b42-9547-cbd423542a4f",
   "metadata": {},
   "outputs": [
    {
     "name": "stdout",
     "output_type": "stream",
     "text": [
      "782/782 [==============================] - 4s 5ms/step - loss: 0.3303 - accuracy: 0.8654\n"
     ]
    },
    {
     "data": {
      "text/plain": [
       "[0.33032456040382385, 0.8654400110244751]"
      ]
     },
     "execution_count": 27,
     "metadata": {},
     "output_type": "execute_result"
    }
   ],
   "source": [
    "# test loss / accuracy\n",
    "\n",
    "model.evaluate(X_test, y_test)"
   ]
  },
  {
   "cell_type": "code",
   "execution_count": null,
   "id": "011d9e26-4636-4f7e-8846-27bd7d02e8d4",
   "metadata": {},
   "outputs": [],
   "source": []
  },
  {
   "cell_type": "code",
   "execution_count": null,
   "id": "c45f1a59-db6c-4480-81be-145d965857ad",
   "metadata": {},
   "outputs": [],
   "source": []
  },
  {
   "cell_type": "code",
   "execution_count": null,
   "id": "6501e28c-571c-49bf-b668-8c482c87d96e",
   "metadata": {},
   "outputs": [],
   "source": []
  },
  {
   "cell_type": "code",
   "execution_count": null,
   "id": "6d96faee-151c-4419-9165-4b4c16fc55c8",
   "metadata": {},
   "outputs": [],
   "source": []
  }
 ],
 "metadata": {
  "kernelspec": {
   "display_name": "Python 3 (ipykernel)",
   "language": "python",
   "name": "python3"
  },
  "language_info": {
   "codemirror_mode": {
    "name": "ipython",
    "version": 3
   },
   "file_extension": ".py",
   "mimetype": "text/x-python",
   "name": "python",
   "nbconvert_exporter": "python",
   "pygments_lexer": "ipython3",
   "version": "3.8.10"
  }
 },
 "nbformat": 4,
 "nbformat_minor": 5
}
