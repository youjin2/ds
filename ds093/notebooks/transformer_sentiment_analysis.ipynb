{
 "cells": [
  {
   "cell_type": "code",
   "execution_count": 1,
   "id": "c57291a1-c912-4f9d-a66c-b9c7cde4389e",
   "metadata": {},
   "outputs": [
    {
     "name": "stderr",
     "output_type": "stream",
     "text": [
      "2024-12-10 13:11:46.198009: I tensorflow/core/platform/cpu_feature_guard.cc:193] This TensorFlow binary is optimized with oneAPI Deep Neural Network Library (oneDNN) to use the following CPU instructions in performance-critical operations:  AVX2 FMA\n",
      "To enable them in other operations, rebuild TensorFlow with the appropriate compiler flags.\n"
     ]
    }
   ],
   "source": [
    "import os\n",
    "\n",
    "import numpy as np\n",
    "import tensorflow as tf\n",
    "from tensorflow.keras.datasets import imdb\n",
    "from tensorflow.keras import layers\n",
    "from tensorflow.keras.preprocessing import sequence\n",
    "from tensorflow.keras.utils import to_categorical\n",
    "from tensorflow.keras.models import Sequential, Model\n",
    "from tensorflow.keras.optimizers import Adam\n",
    "from tensorflow.keras.callbacks import EarlyStopping, ModelCheckpoint\n",
    "from sklearn.model_selection import train_test_split\n",
    "\n",
    "import matplotlib.pyplot as plt"
   ]
  },
  {
   "cell_type": "code",
   "execution_count": null,
   "id": "5de8f020-8ecd-4ae5-9375-cc5d2ec6504d",
   "metadata": {},
   "outputs": [],
   "source": []
  },
  {
   "cell_type": "markdown",
   "id": "779f5621-e4d7-4c86-a2c4-561ddb126ed9",
   "metadata": {},
   "source": [
    "## Config"
   ]
  },
  {
   "cell_type": "code",
   "execution_count": 2,
   "id": "862eeee8-f9d6-4f35-b522-bc4793ff82f6",
   "metadata": {},
   "outputs": [],
   "source": [
    "# used top-20000 frequent words\n",
    "vocab_size = 20000\n",
    "\n",
    "# restrict the length of document to 200\n",
    "maxlen = 200\n",
    "\n",
    "# model path\n",
    "base_model_dir = \"../model\"\n",
    "os.makedirs(base_model_dir, exist_ok=True)\n",
    "\n",
    "ckpt_path = os.path.join(base_model_dir, \"transformer_sentiment\", \"ckpt\")"
   ]
  },
  {
   "cell_type": "code",
   "execution_count": null,
   "id": "11b6a335-b125-4487-944f-f2db5e4cd033",
   "metadata": {},
   "outputs": [],
   "source": []
  },
  {
   "cell_type": "markdown",
   "id": "d3a8a744-d48c-4eab-aae6-166febad0c60",
   "metadata": {},
   "source": [
    "## Load Dataset"
   ]
  },
  {
   "cell_type": "code",
   "execution_count": 3,
   "id": "5479ef90-f473-4dbe-a7fb-7fdd24cd4472",
   "metadata": {},
   "outputs": [],
   "source": [
    "(X_train_raw, y_train_raw), (X_test_raw, y_test_raw) = imdb.load_data(num_words=vocab_size)\n",
    "word_to_idx = imdb.get_word_index()\n",
    "idx_to_word = {v: k for k, v in word_to_idx.items()}"
   ]
  },
  {
   "cell_type": "code",
   "execution_count": 4,
   "id": "b0e97232-8bba-4a24-a06b-3a86ab4c664c",
   "metadata": {},
   "outputs": [
    {
     "name": "stdout",
     "output_type": "stream",
     "text": [
      "num train: 25000\n",
      "num test: 25000\n"
     ]
    }
   ],
   "source": [
    "print(f\"num train: {len(X_train_raw)}\")\n",
    "print(f\"num test: {len(X_test_raw)}\")"
   ]
  },
  {
   "cell_type": "code",
   "execution_count": 5,
   "id": "9ad54549-4522-4756-a636-70081b4e7dea",
   "metadata": {},
   "outputs": [
    {
     "data": {
      "text/plain": [
       "Text(0, 0.5, 'Frequency')"
      ]
     },
     "execution_count": 5,
     "metadata": {},
     "output_type": "execute_result"
    },
    {
     "data": {
      "image/png": "[encoded data removed]",
      "text/plain": [
       "<Figure size 640x480 with 1 Axes>"
      ]
     },
     "metadata": {},
     "output_type": "display_data"
    }
   ],
   "source": [
    "num_train_words = list(map(len, X_train_raw))\n",
    "\n",
    "fig, ax = plt.subplots(1, 1)\n",
    "ax.hist(num_train_words, bins=50, edgecolor=\"white\")\n",
    "ax.set_xlabel(\"Num Words\")\n",
    "ax.set_ylabel(\"Frequency\")"
   ]
  },
  {
   "cell_type": "code",
   "execution_count": null,
   "id": "87058a7d-da1e-43e2-9945-b4d710d11fe5",
   "metadata": {},
   "outputs": [],
   "source": []
  },
  {
   "cell_type": "code",
   "execution_count": null,
   "id": "8b357efc-bbb0-4c2d-a281-f6ab008586be",
   "metadata": {},
   "outputs": [],
   "source": []
  },
  {
   "cell_type": "markdown",
   "id": "d0eef8e5-f6fc-4f09-babe-1bf0338526c3",
   "metadata": {},
   "source": [
    "## Preproess Dataset"
   ]
  },
  {
   "cell_type": "code",
   "execution_count": 6,
   "id": "c040d2ac-29b4-4f6f-b4e5-7422410b28f7",
   "metadata": {},
   "outputs": [],
   "source": [
    "# train/valid split\n",
    "X_train_raw, X_valid_raw, y_train_raw, y_valid_raw = train_test_split(X_train_raw, y_train_raw, random_state=1234)"
   ]
  },
  {
   "cell_type": "code",
   "execution_count": 7,
   "id": "11a4d13a-b88d-4567-b2e2-ab9051d0655e",
   "metadata": {},
   "outputs": [],
   "source": [
    "# restrict the length of document\n",
    "\n",
    "X_train = sequence.pad_sequences(X_train_raw, maxlen=maxlen)\n",
    "X_valid = sequence.pad_sequences(X_valid_raw, maxlen=maxlen)\n",
    "X_test = sequence.pad_sequences(X_test_raw, maxlen=maxlen)\n",
    "\n",
    "y_train = to_categorical(y_train_raw)\n",
    "y_valid = to_categorical(y_valid_raw)\n",
    "y_test = to_categorical(y_test_raw)"
   ]
  },
  {
   "cell_type": "code",
   "execution_count": 8,
   "id": "2af08b0d-cd08-49ec-938c-7284ac8e4cec",
   "metadata": {},
   "outputs": [
    {
     "data": {
      "text/plain": [
       "((18750, 200), (6250, 200), (25000, 200))"
      ]
     },
     "execution_count": 8,
     "metadata": {},
     "output_type": "execute_result"
    }
   ],
   "source": [
    "X_train.shape, X_valid.shape, X_test.shape"
   ]
  },
  {
   "cell_type": "code",
   "execution_count": 9,
   "id": "bddbe89c-2940-4dce-ad12-ec53252be79f",
   "metadata": {},
   "outputs": [
    {
     "data": {
      "text/plain": [
       "(218, 200)"
      ]
     },
     "execution_count": 9,
     "metadata": {},
     "output_type": "execute_result"
    }
   ],
   "source": [
    "len(X_train_raw[0]), len(X_train[0])"
   ]
  },
  {
   "cell_type": "code",
   "execution_count": 10,
   "id": "d8dd78b0-3db7-4d22-b8a2-07ffb8b3be61",
   "metadata": {},
   "outputs": [
    {
     "data": {
      "text/plain": [
       "array([ True,  True,  True,  True,  True,  True,  True,  True,  True,\n",
       "        True,  True,  True,  True,  True,  True,  True,  True,  True,\n",
       "        True,  True,  True,  True,  True,  True,  True,  True,  True,\n",
       "        True,  True,  True,  True,  True,  True,  True,  True,  True,\n",
       "        True,  True,  True,  True,  True,  True,  True,  True,  True,\n",
       "        True,  True,  True,  True,  True,  True,  True,  True,  True,\n",
       "        True,  True,  True,  True,  True,  True,  True,  True,  True,\n",
       "        True,  True,  True,  True,  True,  True,  True,  True,  True,\n",
       "        True,  True,  True,  True,  True,  True,  True,  True,  True,\n",
       "        True,  True,  True,  True,  True,  True,  True,  True,  True,\n",
       "        True,  True,  True,  True,  True,  True,  True,  True,  True,\n",
       "        True,  True,  True,  True,  True,  True,  True,  True,  True,\n",
       "        True,  True,  True,  True,  True,  True,  True,  True,  True,\n",
       "        True,  True,  True,  True,  True,  True,  True,  True,  True,\n",
       "        True,  True,  True,  True,  True,  True,  True,  True,  True,\n",
       "        True,  True,  True,  True,  True,  True,  True,  True,  True,\n",
       "        True,  True,  True,  True,  True,  True,  True,  True,  True,\n",
       "        True,  True,  True,  True,  True,  True,  True,  True,  True,\n",
       "        True,  True,  True,  True,  True,  True,  True,  True,  True,\n",
       "        True,  True,  True,  True,  True,  True,  True,  True,  True,\n",
       "        True,  True,  True,  True,  True,  True,  True,  True,  True,\n",
       "        True,  True,  True,  True,  True,  True,  True,  True,  True,\n",
       "        True,  True])"
      ]
     },
     "execution_count": 10,
     "metadata": {},
     "output_type": "execute_result"
    }
   ],
   "source": [
    "# note that pad_sequences select last maxlen words\n",
    "X_train_raw[0][-200:] == X_train[0]"
   ]
  },
  {
   "cell_type": "code",
   "execution_count": null,
   "id": "9c380539-daef-458a-97d7-48faebd0a11c",
   "metadata": {},
   "outputs": [],
   "source": []
  },
  {
   "cell_type": "markdown",
   "id": "c128f381-c9fc-4279-9c9a-26ea320e2800",
   "metadata": {},
   "source": [
    "## Build Model"
   ]
  },
  {
   "cell_type": "code",
   "execution_count": 11,
   "id": "c16b8d1b-9b3b-4931-bbcd-13aa32cac277",
   "metadata": {},
   "outputs": [],
   "source": [
    "class EncoderBlock(layers.Layer):\n",
    "    def __init__(\n",
    "        self,\n",
    "        embed_dim: int,\n",
    "        num_heads: int,\n",
    "        ff_dim: int,\n",
    "        rate: float = 0.1,\n",
    "    ) -> None:\n",
    "        super().__init__()\n",
    "\n",
    "        self.att = layers.MultiHeadAttention(num_heads=num_heads, key_dim=embed_dim)\n",
    "        self.ffn = Sequential(\n",
    "            [layers.Dense(ff_dim, activation=\"relu\"), layers.Dense(embed_dim),]\n",
    "        )\n",
    "        self.layers_norm1 = layers.LayerNormalization()\n",
    "        self.layers_norm2 = layers.LayerNormalization()\n",
    "        self.droupout1 = layers.Dropout(rate)\n",
    "        self.droupout2 = layers.Dropout(rate)\n",
    "\n",
    "    def call(\n",
    "        self,\n",
    "        inputs: tf.Tensor,\n",
    "        training: bool,\n",
    "    ) -> tf.Tensor:\n",
    "        # attention\n",
    "        att_out = self.att(inputs, inputs)\n",
    "        att_out = self.droupout1(att_out, training=training)\n",
    "        # residual connection (add+norm)\n",
    "        out = self.layers_norm1(inputs + att_out)\n",
    "        # feedforward\n",
    "        ffn_out = self.ffn(out)\n",
    "        ffn_out = self.droupout2(ffn_out, training=training)\n",
    "        # residual connection (add+norm)\n",
    "        return self.layers_norm2(out + ffn_out)"
   ]
  },
  {
   "cell_type": "code",
   "execution_count": 12,
   "id": "1e2d06a7-c14b-41e9-a7f9-06f470f90ed1",
   "metadata": {},
   "outputs": [],
   "source": [
    "class TokenAndPositionEmbedding(layers.Layer):\n",
    "    def __init__(\n",
    "        self,\n",
    "        maxlen: int,\n",
    "        vocab_size: int,\n",
    "        embed_dim: int,\n",
    "    ) -> None:\n",
    "        super().__init__()\n",
    "\n",
    "        self.token_emb = layers.Embedding(input_dim=vocab_size, output_dim=embed_dim)\n",
    "        # train position embedding vector here\n",
    "        self.pos_emb = layers.Embedding(input_dim=maxlen, output_dim=embed_dim)\n",
    "\n",
    "    def call(\n",
    "        self,\n",
    "        x: tf.Tensor,\n",
    "    ) -> tf.Tensor:\n",
    "        maxlen = tf.shape(x)[1]\n",
    "        pos = tf.range(0, limit=maxlen, delta=1)\n",
    "        pos = self.pos_emb(pos)\n",
    "        x = self.token_emb(x)\n",
    "        return x + pos"
   ]
  },
  {
   "cell_type": "code",
   "execution_count": 13,
   "id": "848f7a44-41dd-44d6-8bcb-239a5f98dee4",
   "metadata": {},
   "outputs": [],
   "source": [
    "def build_model(    \n",
    "    maxlen: int,\n",
    "    vocab_size: int,\n",
    "    embed_dim: int = 32,\n",
    "    num_heads: int = 2,\n",
    "    ff_dim: int = 32,\n",
    "    rate: float = 0.1\n",
    ") -> Model:\n",
    "    inputs = layers.Input(shape=(maxlen,))\n",
    "    embedding_layer = TokenAndPositionEmbedding(\n",
    "        maxlen=maxlen,\n",
    "        vocab_size=vocab_size,\n",
    "        embed_dim=embed_dim\n",
    "    )\n",
    "    x = embedding_layer(inputs)\n",
    "    x = EncoderBlock(embed_dim, num_heads, ff_dim)(x)\n",
    "    x = EncoderBlock(embed_dim, num_heads, ff_dim)(x)\n",
    "    x = layers.GlobalAvgPool1D()(x)\n",
    "    x = layers.Dropout(rate)(x)\n",
    "    x = layers.Dense(20, activation=\"relu\")(x)\n",
    "    x = layers.Dropout(rate)(x)\n",
    "    outputs = layers.Dense(2, activation=\"softmax\")(x)\n",
    "    model = Model(inputs=inputs, outputs=outputs)\n",
    "    return model"
   ]
  },
  {
   "cell_type": "code",
   "execution_count": 14,
   "id": "734f4889-81da-4cf5-b2cd-4749247a6a79",
   "metadata": {},
   "outputs": [],
   "source": [
    "embed_dim = 32\n",
    "num_heads = 2\n",
    "ff_dim = 32"
   ]
  },
  {
   "cell_type": "code",
   "execution_count": 15,
   "id": "af6ee2c9-d771-4a29-9294-c0ec243b8b72",
   "metadata": {},
   "outputs": [
    {
     "name": "stderr",
     "output_type": "stream",
     "text": [
      "2024-12-10 13:11:51.864372: I tensorflow/compiler/xla/stream_executor/cuda/cuda_gpu_executor.cc:981] successful NUMA node read from SysFS had negative value (-1), but there must be at least one NUMA node, so returning NUMA node zero\n",
      "2024-12-10 13:11:51.866699: I tensorflow/compiler/xla/stream_executor/cuda/cuda_gpu_executor.cc:981] successful NUMA node read from SysFS had negative value (-1), but there must be at least one NUMA node, so returning NUMA node zero\n",
      "2024-12-10 13:11:51.866848: I tensorflow/compiler/xla/stream_executor/cuda/cuda_gpu_executor.cc:981] successful NUMA node read from SysFS had negative value (-1), but there must be at least one NUMA node, so returning NUMA node zero\n",
      "2024-12-10 13:11:51.867190: I tensorflow/core/platform/cpu_feature_guard.cc:193] This TensorFlow binary is optimized with oneAPI Deep Neural Network Library (oneDNN) to use the following CPU instructions in performance-critical operations:  AVX2 FMA\n",
      "To enable them in other operations, rebuild TensorFlow with the appropriate compiler flags.\n",
      "2024-12-10 13:11:51.867472: I tensorflow/compiler/xla/stream_executor/cuda/cuda_gpu_executor.cc:981] successful NUMA node read from SysFS had negative value (-1), but there must be at least one NUMA node, so returning NUMA node zero\n",
      "2024-12-10 13:11:51.867617: I tensorflow/compiler/xla/stream_executor/cuda/cuda_gpu_executor.cc:981] successful NUMA node read from SysFS had negative value (-1), but there must be at least one NUMA node, so returning NUMA node zero\n",
      "2024-12-10 13:11:51.867748: I tensorflow/compiler/xla/stream_executor/cuda/cuda_gpu_executor.cc:981] successful NUMA node read from SysFS had negative value (-1), but there must be at least one NUMA node, so returning NUMA node zero\n",
      "2024-12-10 13:11:52.205789: I tensorflow/compiler/xla/stream_executor/cuda/cuda_gpu_executor.cc:981] successful NUMA node read from SysFS had negative value (-1), but there must be at least one NUMA node, so returning NUMA node zero\n",
      "2024-12-10 13:11:52.205933: I tensorflow/compiler/xla/stream_executor/cuda/cuda_gpu_executor.cc:981] successful NUMA node read from SysFS had negative value (-1), but there must be at least one NUMA node, so returning NUMA node zero\n",
      "2024-12-10 13:11:52.206035: I tensorflow/compiler/xla/stream_executor/cuda/cuda_gpu_executor.cc:981] successful NUMA node read from SysFS had negative value (-1), but there must be at least one NUMA node, so returning NUMA node zero\n",
      "2024-12-10 13:11:52.206118: I tensorflow/core/common_runtime/gpu/gpu_device.cc:1613] Created device /job:localhost/replica:0/task:0/device:GPU:0 with 6660 MB memory:  -> device: 0, name: NVIDIA GeForce RTX 2070, pci bus id: 0000:01:00.0, compute capability: 7.5\n"
     ]
    }
   ],
   "source": [
    "model = build_model(maxlen=maxlen, vocab_size=vocab_size)"
   ]
  },
  {
   "cell_type": "code",
   "execution_count": 16,
   "id": "28d38d0c-32fa-483d-9079-ec8635f66507",
   "metadata": {},
   "outputs": [
    {
     "name": "stdout",
     "output_type": "stream",
     "text": [
      "Model: \"model\"\n",
      "_________________________________________________________________\n",
      " Layer (type)                Output Shape              Param #   \n",
      "=================================================================\n",
      " input_1 (InputLayer)        [(None, 200)]             0         \n",
      "                                                                 \n",
      " token_and_position_embeddin  (None, 200, 32)          646400    \n",
      " g (TokenAndPositionEmbeddin                                     \n",
      " g)                                                              \n",
      "                                                                 \n",
      " encoder_block (EncoderBlock  (None, 200, 32)          10656     \n",
      " )                                                               \n",
      "                                                                 \n",
      " encoder_block_1 (EncoderBlo  (None, 200, 32)          10656     \n",
      " ck)                                                             \n",
      "                                                                 \n",
      " global_average_pooling1d (G  (None, 32)               0         \n",
      " lobalAveragePooling1D)                                          \n",
      "                                                                 \n",
      " dropout_4 (Dropout)         (None, 32)                0         \n",
      "                                                                 \n",
      " dense_4 (Dense)             (None, 20)                660       \n",
      "                                                                 \n",
      " dropout_5 (Dropout)         (None, 20)                0         \n",
      "                                                                 \n",
      " dense_5 (Dense)             (None, 2)                 42        \n",
      "                                                                 \n",
      "=================================================================\n",
      "Total params: 668,414\n",
      "Trainable params: 668,414\n",
      "Non-trainable params: 0\n",
      "_________________________________________________________________\n"
     ]
    }
   ],
   "source": [
    "# embedding params: 64600\n",
    "#   - vocab_size*embed_dim + input_length*embed_dim\n",
    "#   - (20000*32) + (200*32) = 640000 + 6400 = 646400\n",
    "# encoder block params: 10656\n",
    "#   - attention params + layer norm params + ff params + ff params + layer norm params\n",
    "#   - ((32*32*3 + 32*3)*2 + (32*2*32 + 32)) + (32*2) + (32*32 + 32) + (32*32 + 32) + (32*2) = 8416 + 64 + 1056 + 1056 + 64\n",
    "#      - (32*32*3 + 32*3)*2 ((embed_dim*key_dim*(Q,K,V) + bias_key_dim*(Q,K,V)))*num_heads\n",
    "#      - (32*2*32 + 32): output projection (64 -> 32)\n",
    "\n",
    "model.summary()"
   ]
  },
  {
   "cell_type": "code",
   "execution_count": 17,
   "id": "3c3ecba5-8add-4f87-b273-b673aee289df",
   "metadata": {},
   "outputs": [],
   "source": [
    "model.compile(\n",
    "    optimizer=Adam(1e-3),\n",
    "    loss=\"binary_crossentropy\",\n",
    "    metrics=\"accuracy\"\n",
    ")"
   ]
  },
  {
   "cell_type": "code",
   "execution_count": 18,
   "id": "2656c092-5b7e-4331-ae85-30f91822a831",
   "metadata": {},
   "outputs": [],
   "source": [
    "es_cb = EarlyStopping(monitor=\"val_loss\", mode=\"min\", verbose=1, patience=5)\n",
    "ckpt_cb = ModelCheckpoint(\n",
    "    filepath=ckpt_path,\n",
    "    monitor=\"val_loss\",\n",
    "    mode=\"min\",\n",
    "    save_weights_only=True,\n",
    "    save_best_only=True\n",
    ")"
   ]
  },
  {
   "cell_type": "code",
   "execution_count": 19,
   "id": "78dca85b-c7de-422c-8b85-3120ece9e146",
   "metadata": {},
   "outputs": [
    {
     "name": "stdout",
     "output_type": "stream",
     "text": [
      "Epoch 1/50\n"
     ]
    },
    {
     "name": "stderr",
     "output_type": "stream",
     "text": [
      "2024-12-10 13:11:56.638960: I tensorflow/compiler/xla/stream_executor/cuda/cuda_dnn.cc:428] Loaded cuDNN version 8100\n",
      "2024-12-10 13:11:56.795285: I tensorflow/compiler/xla/service/service.cc:173] XLA service 0x7fd0896c0ee0 initialized for platform CUDA (this does not guarantee that XLA will be used). Devices:\n",
      "2024-12-10 13:11:56.795326: I tensorflow/compiler/xla/service/service.cc:181]   StreamExecutor device (0): NVIDIA GeForce RTX 2070, Compute Capability 7.5\n",
      "2024-12-10 13:11:56.832851: I tensorflow/compiler/mlir/tensorflow/utils/dump_mlir_util.cc:268] disabling MLIR crash reproducer, set env var `MLIR_CRASH_REPRODUCER_DIRECTORY` to enable.\n",
      "2024-12-10 13:11:57.206418: I tensorflow/compiler/jit/xla_compilation_cache.cc:477] Compiled cluster using XLA!  This line is logged at most once for the lifetime of the process.\n"
     ]
    },
    {
     "name": "stdout",
     "output_type": "stream",
     "text": [
      "37/37 [==============================] - 13s 169ms/step - loss: 0.6406 - accuracy: 0.6378 - val_loss: 0.4458 - val_accuracy: 0.8171\n",
      "Epoch 2/50\n",
      "37/37 [==============================] - 6s 153ms/step - loss: 0.3418 - accuracy: 0.8609 - val_loss: 0.3437 - val_accuracy: 0.8552\n",
      "Epoch 3/50\n",
      "37/37 [==============================] - 6s 156ms/step - loss: 0.2019 - accuracy: 0.9305 - val_loss: 0.2976 - val_accuracy: 0.8829\n",
      "Epoch 4/50\n",
      "37/37 [==============================] - 5s 139ms/step - loss: 0.1197 - accuracy: 0.9641 - val_loss: 0.3374 - val_accuracy: 0.8837\n",
      "Epoch 5/50\n",
      "37/37 [==============================] - 5s 137ms/step - loss: 0.0811 - accuracy: 0.9781 - val_loss: 0.4110 - val_accuracy: 0.8755\n",
      "Epoch 6/50\n",
      "37/37 [==============================] - 5s 132ms/step - loss: 0.0608 - accuracy: 0.9826 - val_loss: 0.4765 - val_accuracy: 0.8694\n",
      "Epoch 7/50\n",
      "37/37 [==============================] - 5s 126ms/step - loss: 0.0499 - accuracy: 0.9861 - val_loss: 0.5306 - val_accuracy: 0.8699\n",
      "Epoch 8/50\n",
      "37/37 [==============================] - 5s 127ms/step - loss: 0.0421 - accuracy: 0.9882 - val_loss: 0.5572 - val_accuracy: 0.8659\n",
      "Epoch 8: early stopping\n"
     ]
    }
   ],
   "source": [
    "history = model.fit(\n",
    "    X_train,\n",
    "    y_train,\n",
    "    validation_data=(X_valid, y_valid),\n",
    "    epochs=50,\n",
    "    batch_size=512,\n",
    "    callbacks=[es_cb, ckpt_cb],\n",
    ")"
   ]
  },
  {
   "cell_type": "code",
   "execution_count": 20,
   "id": "db7f3ba9-8c80-4686-a308-95e5ba1fed5f",
   "metadata": {},
   "outputs": [
    {
     "data": {
      "text/plain": [
       "<matplotlib.legend.Legend at 0x7fd3a54152e0>"
      ]
     },
     "execution_count": 20,
     "metadata": {},
     "output_type": "execute_result"
    },
    {
     "data": {
      "image/png": "[encoded data removed]",
      "text/plain": [
       "<Figure size 640x480 with 1 Axes>"
      ]
     },
     "metadata": {},
     "output_type": "display_data"
    }
   ],
   "source": [
    "train_loss = history.history[\"loss\"]\n",
    "valid_loss = history.history[\"val_loss\"]\n",
    "\n",
    "fig, ax = plt.subplots(1, 1)\n",
    "ax.plot(train_loss, label=\"Train Loss\")\n",
    "ax.plot(valid_loss, label=\"Valid Loss\")\n",
    "ax.grid(linestyle=\":\")\n",
    "ax.set_xlabel(\"Epoch\", fontsize=12)\n",
    "ax.set_ylabel(\"Cross-Entropy\", fontsize=12)\n",
    "ax.legend()"
   ]
  },
  {
   "cell_type": "code",
   "execution_count": 21,
   "id": "191275a5-d9f5-4ef6-b725-52a0cd425f47",
   "metadata": {},
   "outputs": [
    {
     "data": {
      "text/plain": [
       "<tensorflow.python.checkpoint.checkpoint.CheckpointLoadStatus at 0x7fd3a539b640>"
      ]
     },
     "execution_count": 21,
     "metadata": {},
     "output_type": "execute_result"
    }
   ],
   "source": [
    "# load best model\n",
    "\n",
    "model.load_weights(ckpt_path)"
   ]
  },
  {
   "cell_type": "code",
   "execution_count": 22,
   "id": "4555aa50-d0cc-4967-9372-d441c13a36ed",
   "metadata": {},
   "outputs": [
    {
     "name": "stdout",
     "output_type": "stream",
     "text": [
      "586/586 [==============================] - 8s 13ms/step - loss: 0.1224 - accuracy: 0.9604\n"
     ]
    },
    {
     "data": {
      "text/plain": [
       "[0.1223575547337532, 0.9604266881942749]"
      ]
     },
     "execution_count": 22,
     "metadata": {},
     "output_type": "execute_result"
    }
   ],
   "source": [
    "# train loss / accuracy\n",
    "\n",
    "model.evaluate(X_train, y_train)"
   ]
  },
  {
   "cell_type": "code",
   "execution_count": 23,
   "id": "26ab0f13-5f0e-4dd3-b010-ccab9767f2d7",
   "metadata": {},
   "outputs": [
    {
     "name": "stdout",
     "output_type": "stream",
     "text": [
      "196/196 [==============================] - 3s 13ms/step - loss: 0.2976 - accuracy: 0.8829\n"
     ]
    },
    {
     "data": {
      "text/plain": [
       "[0.29760241508483887, 0.8828799724578857]"
      ]
     },
     "execution_count": 23,
     "metadata": {},
     "output_type": "execute_result"
    }
   ],
   "source": [
    "# valid loss / accuracy\n",
    "\n",
    "model.evaluate(X_valid, y_valid)"
   ]
  },
  {
   "cell_type": "code",
   "execution_count": 24,
   "id": "330e1b0d-55ab-46de-8d44-dbf3bc053407",
   "metadata": {},
   "outputs": [
    {
     "name": "stdout",
     "output_type": "stream",
     "text": [
      "782/782 [==============================] - 10s 12ms/step - loss: 0.3394 - accuracy: 0.8674\n"
     ]
    },
    {
     "data": {
      "text/plain": [
       "[0.3393910229206085, 0.8673999905586243]"
      ]
     },
     "execution_count": 24,
     "metadata": {},
     "output_type": "execute_result"
    }
   ],
   "source": [
    "# test loss / accuracy\n",
    "\n",
    "model.evaluate(X_test, y_test)"
   ]
  },
  {
   "cell_type": "code",
   "execution_count": null,
   "id": "30e6f3f2-e6dc-411c-ad42-e9e611ce440d",
   "metadata": {},
   "outputs": [],
   "source": []
  },
  {
   "cell_type": "code",
   "execution_count": null,
   "id": "64b5df51-235a-4881-915b-25c1e38e8ff6",
   "metadata": {},
   "outputs": [],
   "source": []
  },
  {
   "cell_type": "code",
   "execution_count": null,
   "id": "c3abbfdc-8266-48b5-be13-6333d15f7530",
   "metadata": {},
   "outputs": [],
   "source": []
  },
  {
   "cell_type": "code",
   "execution_count": null,
   "id": "00fe1ffb-48fe-48cb-98d0-b38218ceae71",
   "metadata": {},
   "outputs": [],
   "source": []
  }
 ],
 "metadata": {
  "kernelspec": {
   "display_name": "Python 3 (ipykernel)",
   "language": "python",
   "name": "python3"
  },
  "language_info": {
   "codemirror_mode": {
    "name": "ipython",
    "version": 3
   },
   "file_extension": ".py",
   "mimetype": "text/x-python",
   "name": "python",
   "nbconvert_exporter": "python",
   "pygments_lexer": "ipython3",
   "version": "3.8.10"
  }
 },
 "nbformat": 4,
 "nbformat_minor": 5
}
