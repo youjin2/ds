{
 "cells": [
  {
   "cell_type": "code",
   "execution_count": 1,
   "id": "05c1c282-57f9-4a8e-acbc-c04b1d81e921",
   "metadata": {},
   "outputs": [],
   "source": [
    "import sys\n",
    "sys.path.append(\"../\")"
   ]
  },
  {
   "cell_type": "code",
   "execution_count": 2,
   "id": "31996cfe-6b02-4300-bd84-b20e9423adea",
   "metadata": {},
   "outputs": [
    {
     "name": "stderr",
     "output_type": "stream",
     "text": [
      "2024-12-28 12:30:49.448088: I tensorflow/core/platform/cpu_feature_guard.cc:193] This TensorFlow binary is optimized with oneAPI Deep Neural Network Library (oneDNN) to use the following CPU instructions in performance-critical operations:  AVX2 FMA\n",
      "To enable them in other operations, rebuild TensorFlow with the appropriate compiler flags.\n"
     ]
    }
   ],
   "source": [
    "import os\n",
    "import logging\n",
    "from typing import List, Tuple\n",
    "\n",
    "import numpy as np\n",
    "import tensorflow as tf\n",
    "from sklearn.model_selection import train_test_split\n",
    "\n",
    "from src.models.vit import (\n",
    "    PatcheLayer,\n",
    "    PatchEncodeLayer,\n",
    "    FeedForwardLayer,\n",
    "    EncoderLayer,\n",
    "    Encoder,\n",
    "    VisionTransformer,\n",
    ")\n",
    "from src.utils.logger import get_logger\n",
    "from src.utils.session import reset_session\n",
    "from src.utils.plot import plot_history\n",
    "\n",
    "import matplotlib.pyplot as plt\n",
    "from matplotlib.gridspec import GridSpec"
   ]
  },
  {
   "cell_type": "code",
   "execution_count": 3,
   "id": "10d60772-6729-46b3-bb22-aeaee0d21145",
   "metadata": {},
   "outputs": [],
   "source": [
    "_ = get_logger()"
   ]
  },
  {
   "cell_type": "code",
   "execution_count": null,
   "id": "b4cffd50-11a1-42ab-a945-7db13657270a",
   "metadata": {},
   "outputs": [],
   "source": []
  },
  {
   "cell_type": "markdown",
   "id": "9cea2be2-7d92-4e91-8180-c4b278559b9d",
   "metadata": {},
   "source": [
    "## Load Dataset"
   ]
  },
  {
   "cell_type": "code",
   "execution_count": 4,
   "id": "2d1a66c4-8dbc-4370-b91e-37c270ef2c62",
   "metadata": {},
   "outputs": [
    {
     "name": "stdout",
     "output_type": "stream",
     "text": [
      "X_train: (60000, 28, 28, 1)\n",
      "y_train: (60000,)\n",
      "X_test: (10000, 28, 28, 1)\n",
      "y_test: (10000,)\n"
     ]
    }
   ],
   "source": [
    "(X_train_raw, y_train_raw), (X_test_raw, y_test_raw) = tf.keras.datasets.mnist.load_data()\n",
    "X_train_raw = np.expand_dims(X_train_raw, axis=3)\n",
    "X_test_raw = np.expand_dims(X_test_raw, axis=3)\n",
    "\n",
    "print(f\"X_train: {X_train_raw.shape}\")\n",
    "print(f\"y_train: {y_train_raw.shape}\")\n",
    "\n",
    "print(f\"X_test: {X_test_raw.shape}\")\n",
    "print(f\"y_test: {y_test_raw.shape}\")"
   ]
  },
  {
   "cell_type": "code",
   "execution_count": null,
   "id": "08473863-511e-4f76-9798-d3130fec5384",
   "metadata": {},
   "outputs": [],
   "source": []
  },
  {
   "cell_type": "markdown",
   "id": "cc836d8c-75d9-43c4-a88f-cb49d0300d6f",
   "metadata": {},
   "source": [
    "## Example: Patch Sequences"
   ]
  },
  {
   "cell_type": "code",
   "execution_count": 5,
   "id": "78c251dc-da7f-4411-ad97-48bb14ccd515",
   "metadata": {},
   "outputs": [
    {
     "name": "stderr",
     "output_type": "stream",
     "text": [
      "2024-12-28 12:30:51.825962: I tensorflow/compiler/xla/stream_executor/cuda/cuda_gpu_executor.cc:981] successful NUMA node read from SysFS had negative value (-1), but there must be at least one NUMA node, so returning NUMA node zero\n",
      "2024-12-28 12:30:51.834864: I tensorflow/compiler/xla/stream_executor/cuda/cuda_gpu_executor.cc:981] successful NUMA node read from SysFS had negative value (-1), but there must be at least one NUMA node, so returning NUMA node zero\n",
      "2024-12-28 12:30:51.835391: I tensorflow/compiler/xla/stream_executor/cuda/cuda_gpu_executor.cc:981] successful NUMA node read from SysFS had negative value (-1), but there must be at least one NUMA node, so returning NUMA node zero\n",
      "2024-12-28 12:30:51.836954: I tensorflow/core/platform/cpu_feature_guard.cc:193] This TensorFlow binary is optimized with oneAPI Deep Neural Network Library (oneDNN) to use the following CPU instructions in performance-critical operations:  AVX2 FMA\n",
      "To enable them in other operations, rebuild TensorFlow with the appropriate compiler flags.\n",
      "2024-12-28 12:30:51.838169: I tensorflow/compiler/xla/stream_executor/cuda/cuda_gpu_executor.cc:981] successful NUMA node read from SysFS had negative value (-1), but there must be at least one NUMA node, so returning NUMA node zero\n",
      "2024-12-28 12:30:51.838711: I tensorflow/compiler/xla/stream_executor/cuda/cuda_gpu_executor.cc:981] successful NUMA node read from SysFS had negative value (-1), but there must be at least one NUMA node, so returning NUMA node zero\n",
      "2024-12-28 12:30:51.839182: I tensorflow/compiler/xla/stream_executor/cuda/cuda_gpu_executor.cc:981] successful NUMA node read from SysFS had negative value (-1), but there must be at least one NUMA node, so returning NUMA node zero\n",
      "2024-12-28 12:30:52.221625: I tensorflow/compiler/xla/stream_executor/cuda/cuda_gpu_executor.cc:981] successful NUMA node read from SysFS had negative value (-1), but there must be at least one NUMA node, so returning NUMA node zero\n",
      "2024-12-28 12:30:52.221763: I tensorflow/compiler/xla/stream_executor/cuda/cuda_gpu_executor.cc:981] successful NUMA node read from SysFS had negative value (-1), but there must be at least one NUMA node, so returning NUMA node zero\n",
      "2024-12-28 12:30:52.221860: I tensorflow/compiler/xla/stream_executor/cuda/cuda_gpu_executor.cc:981] successful NUMA node read from SysFS had negative value (-1), but there must be at least one NUMA node, so returning NUMA node zero\n",
      "2024-12-28 12:30:52.221943: I tensorflow/core/common_runtime/gpu/gpu_device.cc:1613] Created device /job:localhost/replica:0/task:0/device:GPU:0 with 6660 MB memory:  -> device: 0, name: NVIDIA GeForce RTX 2070, pci bus id: 0000:01:00.0, compute capability: 7.5\n"
     ]
    }
   ],
   "source": [
    "bs = 16\n",
    "ps = 4\n",
    "inputs = X_train_raw[:bs]\n",
    "targets = y_train_raw[:bs]\n",
    "\n",
    "layer_p = PatcheLayer(ps)\n",
    "patches = layer_p(inputs)"
   ]
  },
  {
   "cell_type": "code",
   "execution_count": 6,
   "id": "d82731c8-61c5-472b-ad2c-10a61eb9471a",
   "metadata": {},
   "outputs": [],
   "source": [
    "def draw_patches(\n",
    "    raw: np.ndarray,\n",
    "    patches: np.ndarray,\n",
    "    patch_size: int = 4,\n",
    ") -> plt.Figure:\n",
    "    grid_size = int(raw.shape[0] / patch_size)\n",
    "    \n",
    "    fig = plt.figure()\n",
    "    subfigs = fig.subfigures(1, 2, width_ratios=(1, 1))\n",
    "    ax = subfigs[0].subplots(1, 1)\n",
    "    ax.imshow(raw)\n",
    "    ax.axis(\"off\")\n",
    "    \n",
    "    axs = subfigs[1].subplots(grid_size, grid_size)\n",
    "    for i, patch in enumerate(patches):\n",
    "        row, col = divmod(i, grid_size)\n",
    "        ax = axs[row, col]\n",
    "        ax.imshow(patch.reshape(patch_size, patch_size, -1))\n",
    "        ax.axis(\"off\")\n",
    "    \n",
    "    subfigs[0].suptitle(\"Original\", y=0.8)\n",
    "    \n",
    "    subfigs[1].suptitle(\"Patches\", y=0.8)\n",
    "    subfigs[1].subplots_adjust(top=0.76, bottom=0.23, wspace=0.1, hspace=0.1)\n",
    "    return fig"
   ]
  },
  {
   "cell_type": "code",
   "execution_count": 7,
   "id": "8818caf4-4b45-43cc-9df8-950e6a826167",
   "metadata": {},
   "outputs": [
    {
     "data": {
      "image/png": "[encoded data removed]",
      "text/plain": [
       "<Figure size 640x480 with 50 Axes>"
      ]
     },
     "metadata": {},
     "output_type": "display_data"
    }
   ],
   "source": [
    "i = 3\n",
    "ori = inputs[i]\n",
    "pcs = patches[i].numpy()\n",
    "_ = draw_patches(ori, pcs, patch_size=ps)"
   ]
  },
  {
   "cell_type": "code",
   "execution_count": 8,
   "id": "c06c0eee-b9ca-4db7-9e3b-6aaf7a2e3d3f",
   "metadata": {},
   "outputs": [
    {
     "data": {
      "image/png": "[encoded data removed]",
      "text/plain": [
       "<Figure size 640x480 with 50 Axes>"
      ]
     },
     "metadata": {},
     "output_type": "display_data"
    }
   ],
   "source": [
    "i = 7\n",
    "ori = inputs[i]\n",
    "pcs = patches[i].numpy()\n",
    "_ = draw_patches(ori, pcs, patch_size=ps)"
   ]
  },
  {
   "cell_type": "code",
   "execution_count": null,
   "id": "63385f53-93eb-47fe-b19f-0d92baf99a3d",
   "metadata": {},
   "outputs": [],
   "source": []
  },
  {
   "cell_type": "markdown",
   "id": "974990de-8b6d-421e-9425-d9618f5c0376",
   "metadata": {},
   "source": [
    "## Preprocess"
   ]
  },
  {
   "cell_type": "code",
   "execution_count": 9,
   "id": "69889b69-1450-4242-b1d1-bb795e79c7f7",
   "metadata": {},
   "outputs": [],
   "source": [
    "X_train = X_train_raw / 255.\n",
    "X_test = X_test_raw / 255.\n",
    "\n",
    "y_train = y_train_raw.astype(\"float\")\n",
    "y_test = y_test_raw.astype(\"float\")"
   ]
  },
  {
   "cell_type": "code",
   "execution_count": 10,
   "id": "91431f1b-000a-480e-8090-e2243aa18608",
   "metadata": {},
   "outputs": [
    {
     "name": "stdout",
     "output_type": "stream",
     "text": [
      "X_train: (54000, 28, 28, 1)\n",
      "y_train: (54000,)\n",
      "X_valid: (6000, 28, 28, 1)\n",
      "y_valid: (6000,)\n",
      "X_test: (10000, 28, 28, 1)\n",
      "y_test: (10000,)\n"
     ]
    }
   ],
   "source": [
    "X_train, X_valid, y_train, y_valid = train_test_split(\n",
    "    X_train,\n",
    "    y_train,\n",
    "    test_size=0.1,\n",
    "    random_state=1234\n",
    ")\n",
    "\n",
    "print(f\"X_train: {X_train.shape}\")\n",
    "print(f\"y_train: {y_train.shape}\")\n",
    "\n",
    "print(f\"X_valid: {X_valid.shape}\")\n",
    "print(f\"y_valid: {y_valid.shape}\")\n",
    "\n",
    "print(f\"X_test: {X_test.shape}\")\n",
    "print(f\"y_test: {y_test.shape}\")"
   ]
  },
  {
   "cell_type": "code",
   "execution_count": null,
   "id": "27ba09f4-1ec7-40d3-9e7b-f6cce7659363",
   "metadata": {},
   "outputs": [],
   "source": []
  },
  {
   "cell_type": "markdown",
   "id": "05a62fa9-8521-49f2-b3b2-db6fb4a79144",
   "metadata": {},
   "source": [
    "## Train model"
   ]
  },
  {
   "cell_type": "code",
   "execution_count": 11,
   "id": "35b4a877-c8b6-4d9d-99cc-45b280f0363a",
   "metadata": {},
   "outputs": [],
   "source": [
    "# model config\n",
    "input_shape = (28, 28, 1)\n",
    "num_classes = 10\n",
    "resize = 32\n",
    "patch_size = 4\n",
    "projection_dim = 64\n",
    "num_heads = 4\n",
    "num_encoder_blocks = 2\n",
    "mlp_hidden_units = [512, 128]\n",
    "dropout_rate = 0.1\n",
    "learning_rate = 1e-3\n",
    "\n",
    "\n",
    "# train config\n",
    "batch_size = 256\n",
    "epochs = 20\n",
    "\n",
    "base_model_dir = \"../model/\"\n",
    "os.makedirs(base_model_dir, exist_ok=True)\n",
    "ckpt_path = os.path.join(base_model_dir, \"vit_image_clf\", \"ckpt\")\n",
    "\n",
    "es_cb = tf.keras.callbacks.EarlyStopping(patience=10, mode=\"min\", verbose=1)\n",
    "ckpt_cb = tf.keras.callbacks.ModelCheckpoint(\n",
    "    filepath=ckpt_path,\n",
    "    mode=\"min\",\n",
    "    save_best_only=True,\n",
    "    save_weights_only=True,\n",
    "    verbose=1,    \n",
    ")\n",
    "callbacks = [es_cb, ckpt_cb]"
   ]
  },
  {
   "cell_type": "code",
   "execution_count": 12,
   "id": "171b4cf7-32cd-49b0-9d45-d1b31c9873db",
   "metadata": {},
   "outputs": [],
   "source": [
    "reset_session()"
   ]
  },
  {
   "cell_type": "code",
   "execution_count": 13,
   "id": "926fa45c-17af-4273-ab7f-69e944f1ed2e",
   "metadata": {},
   "outputs": [],
   "source": [
    "vit = VisionTransformer(\n",
    "    input_shape=input_shape,\n",
    "    num_classes=num_classes,\n",
    "    resize=resize,\n",
    "    patch_size=patch_size,\n",
    "    projection_dim=projection_dim,\n",
    "    num_heads=num_heads,\n",
    "    num_encoder_blocks=num_encoder_blocks,\n",
    "    mlp_hidden_units=mlp_hidden_units,\n",
    "    dropout_rate=dropout_rate,\n",
    "    learning_rate=learning_rate,\n",
    ")"
   ]
  },
  {
   "cell_type": "code",
   "execution_count": 14,
   "id": "75f6895d-0921-41d0-bbb7-f639acaea999",
   "metadata": {},
   "outputs": [],
   "source": [
    "vit.build()"
   ]
  },
  {
   "cell_type": "code",
   "execution_count": 15,
   "id": "5003ea2e-6c96-41c8-bb46-7343dd13274b",
   "metadata": {},
   "outputs": [],
   "source": [
    "model = vit.model"
   ]
  },
  {
   "cell_type": "code",
   "execution_count": 16,
   "id": "2e661048-7d2f-451c-bc41-b6170285e0d9",
   "metadata": {},
   "outputs": [
    {
     "name": "stdout",
     "output_type": "stream",
     "text": [
      "Model: \"model\"\n",
      "_________________________________________________________________\n",
      " Layer (type)                Output Shape              Param #   \n",
      "=================================================================\n",
      " input_1 (InputLayer)        [(None, 28, 28, 1)]       0         \n",
      "                                                                 \n",
      " resizing (Resizing)         (None, 32, 32, 1)         0         \n",
      "                                                                 \n",
      " encoder (Encoder)           (None, 64, 64)            171584    \n",
      "                                                                 \n",
      " layer_normalization_4 (Laye  (None, 64, 64)           128       \n",
      " rNormalization)                                                 \n",
      "                                                                 \n",
      " flatten (Flatten)           (None, 4096)              0         \n",
      "                                                                 \n",
      " dropout_4 (Dropout)         (None, 4096)              0         \n",
      "                                                                 \n",
      " feed_forward_layer_2 (FeedF  (None, 128)              2163328   \n",
      " orwardLayer)                                                    \n",
      "                                                                 \n",
      " dense_7 (Dense)             (None, 10)                1290      \n",
      "                                                                 \n",
      "=================================================================\n",
      "Total params: 2,336,330\n",
      "Trainable params: 2,336,330\n",
      "Non-trainable params: 0\n",
      "_________________________________________________________________\n"
     ]
    }
   ],
   "source": [
    "model.summary()"
   ]
  },
  {
   "cell_type": "code",
   "execution_count": 17,
   "id": "0211523a-c9bb-437f-9eab-5052c966b0a9",
   "metadata": {},
   "outputs": [
    {
     "name": "stdout",
     "output_type": "stream",
     "text": [
      "Epoch 1/20\n"
     ]
    },
    {
     "name": "stderr",
     "output_type": "stream",
     "text": [
      "2024-12-28 12:30:58.362575: I tensorflow/compiler/xla/stream_executor/cuda/cuda_dnn.cc:428] Loaded cuDNN version 8100\n",
      "2024-12-28 12:30:58.391642: I tensorflow/compiler/xla/service/service.cc:173] XLA service 0x7f779cb3d2a0 initialized for platform CUDA (this does not guarantee that XLA will be used). Devices:\n",
      "2024-12-28 12:30:58.391668: I tensorflow/compiler/xla/service/service.cc:181]   StreamExecutor device (0): NVIDIA GeForce RTX 2070, Compute Capability 7.5\n",
      "2024-12-28 12:30:58.394857: I tensorflow/compiler/mlir/tensorflow/utils/dump_mlir_util.cc:268] disabling MLIR crash reproducer, set env var `MLIR_CRASH_REPRODUCER_DIRECTORY` to enable.\n",
      "2024-12-28 12:30:58.486950: I tensorflow/compiler/jit/xla_compilation_cache.cc:477] Compiled cluster using XLA!  This line is logged at most once for the lifetime of the process.\n"
     ]
    },
    {
     "name": "stdout",
     "output_type": "stream",
     "text": [
      "209/211 [============================>.] - ETA: 0s - loss: 0.8128 - accuracy: 0.7454   \n",
      "Epoch 1: val_loss improved from inf to 0.23897, saving model to ../model/vit_image_clf/ckpt\n",
      "211/211 [==============================] - 13s 33ms/step - loss: 0.8087 - accuracy: 0.7469 - val_loss: 0.2390 - val_accuracy: 0.9292\n",
      "Epoch 2/20\n",
      "211/211 [==============================] - ETA: 0s - loss: 0.2950 - accuracy: 0.9164\n",
      "Epoch 2: val_loss improved from 0.23897 to 0.12027, saving model to ../model/vit_image_clf/ckpt\n",
      "211/211 [==============================] - 7s 33ms/step - loss: 0.2950 - accuracy: 0.9164 - val_loss: 0.1203 - val_accuracy: 0.9617\n",
      "Epoch 3/20\n",
      "211/211 [==============================] - ETA: 0s - loss: 0.1929 - accuracy: 0.9439\n",
      "Epoch 3: val_loss improved from 0.12027 to 0.08402, saving model to ../model/vit_image_clf/ckpt\n",
      "211/211 [==============================] - 7s 31ms/step - loss: 0.1929 - accuracy: 0.9439 - val_loss: 0.0840 - val_accuracy: 0.9742\n",
      "Epoch 4/20\n",
      "209/211 [============================>.] - ETA: 0s - loss: 0.1545 - accuracy: 0.9570\n",
      "Epoch 4: val_loss improved from 0.08402 to 0.06729, saving model to ../model/vit_image_clf/ckpt\n",
      "211/211 [==============================] - 7s 32ms/step - loss: 0.1545 - accuracy: 0.9570 - val_loss: 0.0673 - val_accuracy: 0.9768\n",
      "Epoch 5/20\n",
      "209/211 [============================>.] - ETA: 0s - loss: 0.1284 - accuracy: 0.9645\n",
      "Epoch 5: val_loss improved from 0.06729 to 0.05451, saving model to ../model/vit_image_clf/ckpt\n",
      "211/211 [==============================] - 7s 31ms/step - loss: 0.1282 - accuracy: 0.9646 - val_loss: 0.0545 - val_accuracy: 0.9830\n",
      "Epoch 6/20\n",
      "211/211 [==============================] - ETA: 0s - loss: 0.1157 - accuracy: 0.9672\n",
      "Epoch 6: val_loss did not improve from 0.05451\n",
      "211/211 [==============================] - 7s 32ms/step - loss: 0.1157 - accuracy: 0.9672 - val_loss: 0.0604 - val_accuracy: 0.9822\n",
      "Epoch 7/20\n",
      "210/211 [============================>.] - ETA: 0s - loss: 0.1019 - accuracy: 0.9719\n",
      "Epoch 7: val_loss improved from 0.05451 to 0.05031, saving model to ../model/vit_image_clf/ckpt\n",
      "211/211 [==============================] - 7s 34ms/step - loss: 0.1017 - accuracy: 0.9719 - val_loss: 0.0503 - val_accuracy: 0.9828\n",
      "Epoch 8/20\n",
      "211/211 [==============================] - ETA: 0s - loss: 0.0936 - accuracy: 0.9728\n",
      "Epoch 8: val_loss improved from 0.05031 to 0.04161, saving model to ../model/vit_image_clf/ckpt\n",
      "211/211 [==============================] - 7s 32ms/step - loss: 0.0936 - accuracy: 0.9728 - val_loss: 0.0416 - val_accuracy: 0.9863\n",
      "Epoch 9/20\n",
      "209/211 [============================>.] - ETA: 0s - loss: 0.0911 - accuracy: 0.9742\n",
      "Epoch 9: val_loss did not improve from 0.04161\n",
      "211/211 [==============================] - 6s 30ms/step - loss: 0.0909 - accuracy: 0.9742 - val_loss: 0.0433 - val_accuracy: 0.9868\n",
      "Epoch 10/20\n",
      "210/211 [============================>.] - ETA: 0s - loss: 0.0829 - accuracy: 0.9765\n",
      "Epoch 10: val_loss improved from 0.04161 to 0.03753, saving model to ../model/vit_image_clf/ckpt\n",
      "211/211 [==============================] - 7s 34ms/step - loss: 0.0830 - accuracy: 0.9765 - val_loss: 0.0375 - val_accuracy: 0.9872\n",
      "Epoch 11/20\n",
      "211/211 [==============================] - ETA: 0s - loss: 0.0796 - accuracy: 0.9774\n",
      "Epoch 11: val_loss did not improve from 0.03753\n",
      "211/211 [==============================] - 7s 32ms/step - loss: 0.0796 - accuracy: 0.9774 - val_loss: 0.0447 - val_accuracy: 0.9873\n",
      "Epoch 12/20\n",
      "210/211 [============================>.] - ETA: 0s - loss: 0.0734 - accuracy: 0.9794\n",
      "Epoch 12: val_loss did not improve from 0.03753\n",
      "211/211 [==============================] - 7s 31ms/step - loss: 0.0732 - accuracy: 0.9795 - val_loss: 0.0437 - val_accuracy: 0.9872\n",
      "Epoch 13/20\n",
      "211/211 [==============================] - ETA: 0s - loss: 0.0794 - accuracy: 0.9783\n",
      "Epoch 13: val_loss did not improve from 0.03753\n",
      "211/211 [==============================] - 7s 32ms/step - loss: 0.0794 - accuracy: 0.9783 - val_loss: 0.0385 - val_accuracy: 0.9877\n",
      "Epoch 14/20\n",
      "210/211 [============================>.] - ETA: 0s - loss: 0.0681 - accuracy: 0.9805\n",
      "Epoch 14: val_loss improved from 0.03753 to 0.03722, saving model to ../model/vit_image_clf/ckpt\n",
      "211/211 [==============================] - 7s 33ms/step - loss: 0.0681 - accuracy: 0.9805 - val_loss: 0.0372 - val_accuracy: 0.9880\n",
      "Epoch 15/20\n",
      "211/211 [==============================] - ETA: 0s - loss: 0.0670 - accuracy: 0.9803\n",
      "Epoch 15: val_loss improved from 0.03722 to 0.03527, saving model to ../model/vit_image_clf/ckpt\n",
      "211/211 [==============================] - 7s 33ms/step - loss: 0.0670 - accuracy: 0.9803 - val_loss: 0.0353 - val_accuracy: 0.9887\n",
      "Epoch 16/20\n",
      "211/211 [==============================] - ETA: 0s - loss: 0.0664 - accuracy: 0.9811\n",
      "Epoch 16: val_loss did not improve from 0.03527\n",
      "211/211 [==============================] - 7s 32ms/step - loss: 0.0664 - accuracy: 0.9811 - val_loss: 0.0371 - val_accuracy: 0.9865\n",
      "Epoch 17/20\n",
      "211/211 [==============================] - ETA: 0s - loss: 0.0625 - accuracy: 0.9818\n",
      "Epoch 17: val_loss improved from 0.03527 to 0.03340, saving model to ../model/vit_image_clf/ckpt\n",
      "211/211 [==============================] - 7s 34ms/step - loss: 0.0625 - accuracy: 0.9818 - val_loss: 0.0334 - val_accuracy: 0.9900\n",
      "Epoch 18/20\n",
      "211/211 [==============================] - ETA: 0s - loss: 0.0625 - accuracy: 0.9820\n",
      "Epoch 18: val_loss did not improve from 0.03340\n",
      "211/211 [==============================] - 7s 32ms/step - loss: 0.0625 - accuracy: 0.9820 - val_loss: 0.0371 - val_accuracy: 0.9875\n",
      "Epoch 19/20\n",
      "211/211 [==============================] - ETA: 0s - loss: 0.0585 - accuracy: 0.9832\n",
      "Epoch 19: val_loss improved from 0.03340 to 0.03087, saving model to ../model/vit_image_clf/ckpt\n",
      "211/211 [==============================] - 7s 31ms/step - loss: 0.0585 - accuracy: 0.9832 - val_loss: 0.0309 - val_accuracy: 0.9903\n",
      "Epoch 20/20\n",
      "211/211 [==============================] - ETA: 0s - loss: 0.0570 - accuracy: 0.9827\n",
      "Epoch 20: val_loss did not improve from 0.03087\n",
      "211/211 [==============================] - 6s 30ms/step - loss: 0.0570 - accuracy: 0.9827 - val_loss: 0.0456 - val_accuracy: 0.9863\n"
     ]
    }
   ],
   "source": [
    "history = model.fit(\n",
    "    x=X_train,\n",
    "    y=y_train,\n",
    "    validation_data=(X_valid, y_valid),\n",
    "    batch_size=batch_size,\n",
    "    epochs=epochs,\n",
    "    callbacks=callbacks,\n",
    ")"
   ]
  },
  {
   "cell_type": "code",
   "execution_count": 18,
   "id": "94bfd5b6-5570-47c2-988a-742f4a6843d8",
   "metadata": {},
   "outputs": [
    {
     "data": {
      "text/plain": [
       "(<Figure size 640x480 with 1 Axes>,\n",
       " <Axes: xlabel='Epoch', ylabel='Cross-Entropy'>)"
      ]
     },
     "execution_count": 18,
     "metadata": {},
     "output_type": "execute_result"
    },
    {
     "data": {
      "image/png": "[encoded data removed]",
      "text/plain": [
       "<Figure size 640x480 with 1 Axes>"
      ]
     },
     "metadata": {},
     "output_type": "display_data"
    }
   ],
   "source": [
    "plot_history(history, ylabel=\"Cross-Entropy\")"
   ]
  },
  {
   "cell_type": "code",
   "execution_count": 19,
   "id": "bcd2740d-2974-4bc6-b11f-cf20754fae82",
   "metadata": {},
   "outputs": [
    {
     "data": {
      "text/plain": [
       "<tensorflow.python.checkpoint.checkpoint.CheckpointLoadStatus at 0x7f7a22ffdeb0>"
      ]
     },
     "execution_count": 19,
     "metadata": {},
     "output_type": "execute_result"
    }
   ],
   "source": [
    "model.load_weights(ckpt_path)"
   ]
  },
  {
   "cell_type": "code",
   "execution_count": 20,
   "id": "a454d243-a8a5-4e85-9e8c-961bb36c438d",
   "metadata": {},
   "outputs": [
    {
     "name": "stdout",
     "output_type": "stream",
     "text": [
      "211/211 [==============================] - 3s 15ms/step - loss: 0.0128 - accuracy: 0.9958\n"
     ]
    },
    {
     "data": {
      "text/plain": [
       "[0.012807033956050873, 0.9958333373069763]"
      ]
     },
     "execution_count": 20,
     "metadata": {},
     "output_type": "execute_result"
    }
   ],
   "source": [
    "model.evaluate(X_train, y_train, batch_size=batch_size)"
   ]
  },
  {
   "cell_type": "code",
   "execution_count": 21,
   "id": "39477c44-8ab6-4a96-b54f-e7b12b6cb2f3",
   "metadata": {},
   "outputs": [
    {
     "name": "stdout",
     "output_type": "stream",
     "text": [
      "40/40 [==============================] - 1s 15ms/step - loss: 0.0374 - accuracy: 0.9880\n"
     ]
    },
    {
     "data": {
      "text/plain": [
       "[0.03742685168981552, 0.9879999756813049]"
      ]
     },
     "execution_count": 21,
     "metadata": {},
     "output_type": "execute_result"
    }
   ],
   "source": [
    "model.evaluate(X_test, y_test, batch_size=batch_size)"
   ]
  },
  {
   "cell_type": "code",
   "execution_count": null,
   "id": "7c3218bd-4607-4026-b0e5-8470f166f44a",
   "metadata": {},
   "outputs": [],
   "source": []
  },
  {
   "cell_type": "code",
   "execution_count": null,
   "id": "6ebd1b51-93d1-489d-8574-574ee38c11e2",
   "metadata": {},
   "outputs": [],
   "source": []
  },
  {
   "cell_type": "code",
   "execution_count": 22,
   "id": "eb072726-7f8e-4b2d-9046-5be99af637b3",
   "metadata": {},
   "outputs": [],
   "source": [
    "# inps = X_train[:bs]\n",
    "# tars = y_train[:bs]\n",
    "# outs = vit.model(inps)\n",
    "# tf.keras.losses.SparseCategoricalCrossentropy()(tars, outs)"
   ]
  },
  {
   "cell_type": "code",
   "execution_count": null,
   "id": "01c2eb45-62b7-41e3-95c0-029b5c0b884d",
   "metadata": {},
   "outputs": [],
   "source": []
  },
  {
   "cell_type": "code",
   "execution_count": null,
   "id": "bb4feb69-7315-45a2-b0f7-b1598bd1a269",
   "metadata": {},
   "outputs": [],
   "source": []
  },
  {
   "cell_type": "code",
   "execution_count": null,
   "id": "c2c2f653-686d-4b1e-8436-aacba3e55f76",
   "metadata": {},
   "outputs": [],
   "source": []
  },
  {
   "cell_type": "code",
   "execution_count": null,
   "id": "b518fdc7-7c41-44c8-b2e7-bf2124326f83",
   "metadata": {},
   "outputs": [],
   "source": []
  }
 ],
 "metadata": {
  "kernelspec": {
   "display_name": "Python 3 (ipykernel)",
   "language": "python",
   "name": "python3"
  },
  "language_info": {
   "codemirror_mode": {
    "name": "ipython",
    "version": 3
   },
   "file_extension": ".py",
   "mimetype": "text/x-python",
   "name": "python",
   "nbconvert_exporter": "python",
   "pygments_lexer": "ipython3",
   "version": "3.8.10"
  }
 },
 "nbformat": 4,
 "nbformat_minor": 5
}
