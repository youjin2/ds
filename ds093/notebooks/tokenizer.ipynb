{
 "cells": [
  {
   "cell_type": "code",
   "execution_count": 1,
   "id": "68352fe6-96fe-40fd-9c2e-92e93e427993",
   "metadata": {},
   "outputs": [],
   "source": [
    "import re\n",
    "import collections\n",
    "import urllib.request\n",
    "from typing import Dict, List, Tuple, Set\n",
    "\n",
    "import pandas as pd\n",
    "from IPython.display import display, Markdown, Latex\n",
    "from tokenizers import BertWordPieceTokenizer"
   ]
  },
  {
   "cell_type": "code",
   "execution_count": null,
   "id": "a3db92d8-4f02-4613-bad9-740da72e4866",
   "metadata": {},
   "outputs": [],
   "source": []
  },
  {
   "cell_type": "markdown",
   "id": "791ec5dd-129f-486b-a8b9-5b2a76495187",
   "metadata": {},
   "source": [
    "## BPE (Byte Pair Encoding)\n",
    "\n",
    "BPE is a data compression algorithm proposed in 1994.  \n",
    "Basically, it works by finding a pair of consecutive words most frequently appeared, and merged it into one letter.\n",
    "\n",
    "- e.g. `aaabdaaabac`\n",
    "    - `Z=aa` $\\rightarrow$   `ZabdZabac`\n",
    "    - `Z=aa, Y=ab` $\\rightarrow$  `ZYdZYac`\n",
    "    - `Z=aa, Y=ab, X=ZY` $\\rightarrow$  `XdXac`\n",
    "\n",
    "In natural language preprocessing, BPE is a subword segmentation algorithm, which means it splits exsiting word.\n",
    "- e.g. frequency of each word in train vocaburay\n",
    "    ```python\n",
    "    # dictionary (frequency of each word in train vocaburary)\n",
    "    low : 5, lower : 2, newest : 6, widest : 3\n",
    "\n",
    "    # vocabulary\n",
    "    low, lower, newest, widest\n",
    "\n",
    "        ↓\n",
    "\n",
    "    # dictionary\n",
    "    l o w : 5,  l o w e r : 2,  n e w e s t : 6,  w i d e s t : 3\n",
    "    \n",
    "    # vocabulary\n",
    "    l, o, w, e, r, n, s, t, i, d\n",
    "\n",
    "        ↓ (1st update, \"(e, s)\" is the most frequent pair)\n",
    "\n",
    "    # dictionary update\n",
    "    l o w : 5,\n",
    "    l o w e r : 2,\n",
    "    n e w es t : 6,\n",
    "    w i d es t : 3\n",
    "\n",
    "    # vocabulary update\n",
    "    l, o, w, e, r, n, s, t, i, d, es\n",
    "\n",
    "        ↓ (2nd update, \"(es, t)\" is the most frequent pair)\n",
    "\n",
    "    # dictionary update\n",
    "    l o w : 5,\n",
    "    l o w e r : 2,\n",
    "    n e w es t : 6,\n",
    "    w i d es t : 3\n",
    "\n",
    "    # vocabulary update\n",
    "    l, o, w, e, r, n, s, t, i, d, es, est\n",
    "\n",
    "    ↓ (3rd update, \"(l, o)\" is the most frequent pair)\n",
    "\n",
    "    # dictionary update\n",
    "    l o w : 5,\n",
    "    l o w e r : 2,\n",
    "    n e w es t : 6,\n",
    "    w i d es t : 3\n",
    "\n",
    "    # vocabulary update\n",
    "    l, o, w, e, r, n, s, t, i, d, es, est, lo\n",
    "\n",
    "    ...\n",
    "    ```\n",
    "- see [Sennrich et al., (2016)]\n",
    "\n",
    "\n",
    "[Sennrich et al., (2016)]: https://arxiv.org/abs/1508.07909"
   ]
  },
  {
   "cell_type": "code",
   "execution_count": 2,
   "id": "ec878a2c-7c0f-45c3-b951-c08b23194ff9",
   "metadata": {},
   "outputs": [],
   "source": [
    "def get_stats(dictionary: Dict[str, int]) -> Dict[str, int]:\n",
    "    pairs = collections.defaultdict(int)\n",
    "    for word, freq in dictionary.items():\n",
    "        symbols = word.split()\n",
    "        for i in range(len(symbols)-1):\n",
    "            pairs[symbols[i], symbols[i+1]] += freq\n",
    "    return pairs\n",
    "\n",
    "\n",
    "def merge_dictionary(pair: Tuple[str, str], v_in: Dict[str, int]) -> Dict[str, int]:\n",
    "    v_out = {}\n",
    "    bigram = re.escape(\" \".join(pair))\n",
    "    # (?<!\\S) => negative lookbehind\n",
    "    #   - ?<!X: case where there's no X right in front of the current location\n",
    "    #   - \\S: non-white-space character\n",
    "    # (?!\\S) => negative lookahead\n",
    "    p = re.compile(r'(?<!\\S)' + bigram + r'(?!\\S)')\n",
    "    for word in v_in:\n",
    "        w_out = p.sub(\"\".join(pair), word)\n",
    "        v_out[w_out] = v_in[word]\n",
    "    return v_out"
   ]
  },
  {
   "cell_type": "code",
   "execution_count": 3,
   "id": "92593b63-509c-4b16-addc-2764d29f022a",
   "metadata": {},
   "outputs": [],
   "source": [
    "num_merges = 10\n",
    "\n",
    "dictionary = {\n",
    "    \"l o w </w>\": 5,\n",
    "    \"l o w e r </w>\": 2,\n",
    "    \"n e w e s t </w>\": 6,\n",
    "    \"w i d e s t </w>\": 3,\n",
    "}"
   ]
  },
  {
   "cell_type": "code",
   "execution_count": 4,
   "id": "35262463-b121-4131-8806-8de82d8dd6a8",
   "metadata": {},
   "outputs": [
    {
     "data": {
      "text/plain": [
       "defaultdict(int,\n",
       "            {('l', 'o'): 7,\n",
       "             ('o', 'w'): 7,\n",
       "             ('w', '</w>'): 5,\n",
       "             ('w', 'e'): 8,\n",
       "             ('e', 'r'): 2,\n",
       "             ('r', '</w>'): 2,\n",
       "             ('n', 'e'): 6,\n",
       "             ('e', 'w'): 6,\n",
       "             ('e', 's'): 9,\n",
       "             ('s', 't'): 9,\n",
       "             ('t', '</w>'): 9,\n",
       "             ('w', 'i'): 3,\n",
       "             ('i', 'd'): 3,\n",
       "             ('d', 'e'): 3})"
      ]
     },
     "execution_count": 4,
     "metadata": {},
     "output_type": "execute_result"
    }
   ],
   "source": [
    "get_stats(dictionary)"
   ]
  },
  {
   "cell_type": "code",
   "execution_count": 5,
   "id": "d1776851-70e4-4bc3-9f46-01f39d24d64c",
   "metadata": {},
   "outputs": [],
   "source": [
    "bpe_codes = {}\n",
    "bpe_codes_reverse = {}\n",
    "for i in range(num_merges):\n",
    "    pairs = get_stats(dictionary)\n",
    "    most_frequent_pair = max(pairs, key=pairs.get)\n",
    "    \n",
    "    dictionary = merge_dictionary(most_frequent_pair, dictionary)\n",
    "\n",
    "    bpe_codes[most_frequent_pair] = i\n",
    "    bpe_codes_reverse[\"\".join(most_frequent_pair)] = most_frequent_pair"
   ]
  },
  {
   "cell_type": "code",
   "execution_count": 6,
   "id": "eb69c376-c5bd-4c2a-8b83-2af75d05214b",
   "metadata": {},
   "outputs": [
    {
     "data": {
      "text/plain": [
       "defaultdict(int,\n",
       "            {('low', 'e'): 2,\n",
       "             ('e', 'r'): 2,\n",
       "             ('r', '</w>'): 2,\n",
       "             ('wi', 'd'): 3,\n",
       "             ('d', 'est</w>'): 3})"
      ]
     },
     "execution_count": 6,
     "metadata": {},
     "output_type": "execute_result"
    }
   ],
   "source": [
    "get_stats(dictionary)"
   ]
  },
  {
   "cell_type": "code",
   "execution_count": 7,
   "id": "230cf0e1-fddb-4119-b158-52e1c50aa917",
   "metadata": {},
   "outputs": [
    {
     "data": {
      "text/plain": [
       "{('e', 's'): 0,\n",
       " ('es', 't'): 1,\n",
       " ('est', '</w>'): 2,\n",
       " ('l', 'o'): 3,\n",
       " ('lo', 'w'): 4,\n",
       " ('n', 'e'): 5,\n",
       " ('ne', 'w'): 6,\n",
       " ('new', 'est</w>'): 7,\n",
       " ('low', '</w>'): 8,\n",
       " ('w', 'i'): 9}"
      ]
     },
     "execution_count": 7,
     "metadata": {},
     "output_type": "execute_result"
    }
   ],
   "source": [
    "bpe_codes"
   ]
  },
  {
   "cell_type": "code",
   "execution_count": 8,
   "id": "4368e7a5-b580-4de1-b386-84a444b4a268",
   "metadata": {},
   "outputs": [
    {
     "data": {
      "text/plain": [
       "{'es': ('e', 's'),\n",
       " 'est': ('es', 't'),\n",
       " 'est</w>': ('est', '</w>'),\n",
       " 'lo': ('l', 'o'),\n",
       " 'low': ('lo', 'w'),\n",
       " 'ne': ('n', 'e'),\n",
       " 'new': ('ne', 'w'),\n",
       " 'newest</w>': ('new', 'est</w>'),\n",
       " 'low</w>': ('low', '</w>'),\n",
       " 'wi': ('w', 'i')}"
      ]
     },
     "execution_count": 8,
     "metadata": {},
     "output_type": "execute_result"
    }
   ],
   "source": [
    "bpe_codes_reverse"
   ]
  },
  {
   "cell_type": "code",
   "execution_count": null,
   "id": "b1ad453c-69ea-4ee9-adca-be02e595f491",
   "metadata": {},
   "outputs": [],
   "source": []
  },
  {
   "cell_type": "code",
   "execution_count": 9,
   "id": "86ffa70e-a469-4f72-9463-0f7c697cfdb7",
   "metadata": {},
   "outputs": [],
   "source": [
    "def get_pairs(word: Tuple[str]) -> Set[str]:\n",
    "    \"\"\"Return set of symbol pairs in a word.\n",
    "    Word is represented as a tuple of symbols (symbols being variable-length strings).\n",
    "    \"\"\"\n",
    "    if not word:\n",
    "        return set()\n",
    "    \n",
    "    pairs = set()\n",
    "    prev_char = word[0]\n",
    "    for char in word[1:]:\n",
    "        pairs.add((prev_char, char))\n",
    "        prev_char = char\n",
    "    return pairs\n",
    "\n",
    "\n",
    "def encode(word: str, bpe_codes: Dict[str, int]) ->  Tuple[str]:\n",
    "    \"\"\"Encode word based on list of BPE merge operations, which are applied consecutively\"\"\"\n",
    "\n",
    "    # e.g. word=\"loki\"\n",
    "    #  - chars = (\"l\", \"o\", \"k\", \"i\", \"</w>\")\n",
    "    #  - pairs = ((\"l\", \"o\"), (\"o\", \"k\"), (\"k\", \"i\"), (\"i\", \"</w>\"))\n",
    "    chars = tuple(word) + (\"</w>\", )\n",
    "    pairs = get_pairs(word)\n",
    "\n",
    "    if not pairs:\n",
    "        return word\n",
    "\n",
    "    num_iter = 0\n",
    "    while True:\n",
    "        num_iter += 1        \n",
    "        bigram = min(pairs, key=lambda pair: bpe_codes.get(pair, float(\"inf\")))\n",
    "\n",
    "        # there's no further merge\n",
    "        if bigram not in bpe_codes:\n",
    "            break\n",
    "        \n",
    "        c1, c2 = bigram\n",
    "        new = []\n",
    "        i = 0\n",
    "        while i < len(chars):\n",
    "            cur = chars[i]\n",
    "            # update i until cur == c1\n",
    "            if c1 != cur:\n",
    "                new.append(cur)\n",
    "                i += 1\n",
    "                continue\n",
    "\n",
    "            # in case of (..., c1, c2, ...), merge c1 and c2\n",
    "            #                  i       next \n",
    "            if c1 == cur and i < len(chars)-1 and c2 == chars[i+1]:                \n",
    "                new.append(c1+c2)\n",
    "                i += 2\n",
    "            # in case of (..., c1, c3, ...), where c2 != c3\n",
    "            #                  i   next\n",
    "            else:\n",
    "                new.append(c1)\n",
    "                i += 1\n",
    "\n",
    "        chars = tuple(new)\n",
    "        if len(chars) == 1:\n",
    "            break\n",
    "        else:\n",
    "            pairs = get_pairs(chars)\n",
    "\n",
    "    # ignore </w> token\n",
    "    if chars[-1] == \"</w>\":\n",
    "        chars = chars[:-1]\n",
    "    elif chars[-1].endswith(\"</w>\"):\n",
    "        chars = chars[:-1] + (chars[-1].replace(\"</w>\", \"\"),)\n",
    "\n",
    "    return chars"
   ]
  },
  {
   "cell_type": "code",
   "execution_count": 14,
   "id": "8a8617c7-7d14-43b4-8a5c-6124d397c5e5",
   "metadata": {},
   "outputs": [
    {
     "data": {
      "text/plain": [
       "''"
      ]
     },
     "execution_count": 14,
     "metadata": {},
     "output_type": "execute_result"
    }
   ],
   "source": [
    "encode(\"\", bpe_codes)"
   ]
  },
  {
   "cell_type": "code",
   "execution_count": 15,
   "id": "d7fd50c2-1085-4608-bf20-0e83ccfd933c",
   "metadata": {},
   "outputs": [
    {
     "data": {
      "text/plain": [
       "('lo', 'k', 'i')"
      ]
     },
     "execution_count": 15,
     "metadata": {},
     "output_type": "execute_result"
    }
   ],
   "source": [
    "encode(\"loki\", bpe_codes)"
   ]
  },
  {
   "cell_type": "code",
   "execution_count": 16,
   "id": "a2776e08-f1f8-40fc-803c-0bb14923191b",
   "metadata": {},
   "outputs": [
    {
     "data": {
      "text/plain": [
       "('low', 'est')"
      ]
     },
     "execution_count": 16,
     "metadata": {},
     "output_type": "execute_result"
    }
   ],
   "source": [
    "encode(\"lowest\", bpe_codes)"
   ]
  },
  {
   "cell_type": "code",
   "execution_count": 17,
   "id": "f8296fcf-36e7-4470-bc3f-34a7cacc1e14",
   "metadata": {},
   "outputs": [
    {
     "data": {
      "text/plain": [
       "('low', 'i', 'n', 'g')"
      ]
     },
     "execution_count": 17,
     "metadata": {},
     "output_type": "execute_result"
    }
   ],
   "source": [
    "encode(\"lowing\", bpe_codes)"
   ]
  },
  {
   "cell_type": "code",
   "execution_count": 18,
   "id": "8bf4a564-3acb-4583-becc-3347684d3e46",
   "metadata": {},
   "outputs": [
    {
     "data": {
      "text/plain": [
       "('h', 'i', 'g', 'h', 'i', 'n', 'g')"
      ]
     },
     "execution_count": 18,
     "metadata": {},
     "output_type": "execute_result"
    }
   ],
   "source": [
    "encode(\"highing\", bpe_codes)"
   ]
  },
  {
   "cell_type": "code",
   "execution_count": null,
   "id": "41caef4e-2210-4fcd-8189-174067845097",
   "metadata": {},
   "outputs": [],
   "source": []
  },
  {
   "cell_type": "code",
   "execution_count": null,
   "id": "361ce88a-8bf6-449c-b85e-dedba7996c91",
   "metadata": {},
   "outputs": [],
   "source": []
  },
  {
   "cell_type": "markdown",
   "id": "e075791d-7edf-40b8-ac0e-5cf7abe1c8ea",
   "metadata": {},
   "source": [
    "## SentencePiece"
   ]
  },
  {
   "cell_type": "code",
   "execution_count": null,
   "id": "618d00e2-9643-40d0-9007-90517996b022",
   "metadata": {},
   "outputs": [],
   "source": []
  },
  {
   "cell_type": "code",
   "execution_count": null,
   "id": "95e38f34-5127-4c9c-b617-4d0f7a1dbaea",
   "metadata": {},
   "outputs": [],
   "source": []
  },
  {
   "cell_type": "markdown",
   "id": "346ef896-9c29-4919-82f5-e30c7014204b",
   "metadata": {},
   "source": [
    "## SubwodTextEncoder"
   ]
  },
  {
   "cell_type": "code",
   "execution_count": null,
   "id": "846bd532-2a29-4732-b15b-c1e43b31a741",
   "metadata": {},
   "outputs": [],
   "source": []
  },
  {
   "cell_type": "code",
   "execution_count": null,
   "id": "e665353f-578a-4330-90db-63efb8ae325c",
   "metadata": {},
   "outputs": [],
   "source": []
  },
  {
   "cell_type": "markdown",
   "id": "5bb8dd1e-4bec-428d-8c82-0738e5a71970",
   "metadata": {},
   "source": [
    "## Huggingface Tokenizer"
   ]
  },
  {
   "cell_type": "code",
   "execution_count": null,
   "id": "1cc37218-72e2-4078-bbd4-cc3f25497cf1",
   "metadata": {},
   "outputs": [],
   "source": []
  },
  {
   "cell_type": "code",
   "execution_count": null,
   "id": "f6f7d921-0138-4cfd-b212-1419c2f933ac",
   "metadata": {},
   "outputs": [],
   "source": []
  },
  {
   "cell_type": "code",
   "execution_count": null,
   "id": "ffc39e06-66cb-45f8-9b88-7792ba6d4531",
   "metadata": {},
   "outputs": [],
   "source": []
  }
 ],
 "metadata": {
  "kernelspec": {
   "display_name": "Python 3 (ipykernel)",
   "language": "python",
   "name": "python3"
  },
  "language_info": {
   "codemirror_mode": {
    "name": "ipython",
    "version": 3
   },
   "file_extension": ".py",
   "mimetype": "text/x-python",
   "name": "python",
   "nbconvert_exporter": "python",
   "pygments_lexer": "ipython3",
   "version": "3.8.10"
  }
 },
 "nbformat": 4,
 "nbformat_minor": 5
}
