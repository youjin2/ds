{
 "cells": [
  {
   "cell_type": "code",
   "execution_count": 1,
   "id": "1cde6b2a-4bc6-4f54-9657-6ec35424111c",
   "metadata": {},
   "outputs": [],
   "source": [
    "import os\n",
    "import re\n",
    "import glob\n",
    "from typing import List\n",
    "\n",
    "import numpy as np\n",
    "import pandas as pd\n",
    "from gensim.models.doc2vec import TaggedDocument\n",
    "from gensim.models.doc2vec import Doc2Vec\n",
    "from kiwipiepy import Kiwi\n",
    "from sklearn.model_selection import train_test_split\n",
    "from sklearn.linear_model import LogisticRegression\n",
    "from sklearn.metrics import accuracy_score"
   ]
  },
  {
   "cell_type": "code",
   "execution_count": null,
   "id": "de3be48c-e679-4920-a464-2b24a27d3606",
   "metadata": {},
   "outputs": [],
   "source": []
  },
  {
   "cell_type": "markdown",
   "id": "ca82282c-d0d1-4eb5-ba32-44bd8ce812bd",
   "metadata": {},
   "source": [
    "## Config"
   ]
  },
  {
   "cell_type": "code",
   "execution_count": 2,
   "id": "ce7ae6e3-6cd4-4ba5-b992-169e488bf5d0",
   "metadata": {},
   "outputs": [],
   "source": [
    "base_dir = \"/opt/data/\"\n",
    "\n",
    "kr_docs_dir = os.path.join(base_dir, \"example_Kr_docs/\")\n",
    "movie_review_path = os.path.join(base_dir, \"Korean_movie_reviews_2016.txt\")"
   ]
  },
  {
   "cell_type": "code",
   "execution_count": null,
   "id": "e3982141-8895-451c-90bb-dc3ad135f6c7",
   "metadata": {},
   "outputs": [],
   "source": []
  },
  {
   "cell_type": "markdown",
   "id": "34c803a1-6990-4e25-a84b-086dec231921",
   "metadata": {},
   "source": [
    "## Example1: Doc Similarity"
   ]
  },
  {
   "cell_type": "markdown",
   "id": "ec3d9539-4e04-4dd9-bfd6-f510442ad415",
   "metadata": {},
   "source": [
    "### Read Data"
   ]
  },
  {
   "cell_type": "code",
   "execution_count": 3,
   "id": "c7033295-f6a4-4e09-92e1-32f2d157e626",
   "metadata": {},
   "outputs": [
    {
     "name": "stdout",
     "output_type": "stream",
     "text": [
      "num docs: 13\n"
     ]
    }
   ],
   "source": [
    "paths = glob.glob(os.path.join(kr_docs_dir, \"**\", \"**.txt\"), recursive=True)\n",
    "raw_docs = []\n",
    "for p in paths:\n",
    "    with open(p, \"r\", encoding=\"utf-8\") as f:\n",
    "        doc = f.read()\n",
    "    raw_docs.append(doc)\n",
    "\n",
    "print(f\"num docs: {len(raw_docs)}\")"
   ]
  },
  {
   "cell_type": "code",
   "execution_count": null,
   "id": "105cc631-aa08-4b8e-bed6-b25885eb239b",
   "metadata": {},
   "outputs": [],
   "source": []
  },
  {
   "cell_type": "markdown",
   "id": "fd00651f-bc52-48fc-88da-f05f81b8c291",
   "metadata": {},
   "source": [
    "### Preprocess Data"
   ]
  },
  {
   "cell_type": "code",
   "execution_count": 4,
   "id": "5c9f2e68-5fc9-4468-a159-2ae862b734a7",
   "metadata": {},
   "outputs": [],
   "source": [
    "def preprocess(\n",
    "    content: str,\n",
    "    tokenizer: Kiwi,\n",
    ") -> List[str]:\n",
    "    # replace characters which is not a subset of space or words or digits with \" \"\n",
    "    replaced = re.sub(r\"[^\\s\\w\\d]\", \" \", content)\n",
    "    tokens = tokenizer.tokenize(replaced)\n",
    "    outputs = [token.form for token in tokens]\n",
    "    return outputs"
   ]
  },
  {
   "cell_type": "code",
   "execution_count": 5,
   "id": "d190ec50-0eae-461d-a3ee-a5b9b3d64438",
   "metadata": {},
   "outputs": [],
   "source": [
    "# tokenizer\n",
    "kiwi = Kiwi()"
   ]
  },
  {
   "cell_type": "code",
   "execution_count": 6,
   "id": "69dfa780-0d63-4ce1-a63b-f4c1fc228884",
   "metadata": {},
   "outputs": [
    {
     "name": "stdout",
     "output_type": "stream",
     "text": [
      "==> Example: \n",
      "['정기', '석', '코로나', '19', '특별', '대응', '단장', '겸', '국가', '감염병', '위기', '대응', '자문', '위원장', '은', '21', '일', '접종', '부작용', '을', '어느', '정도', '는', '감수', '하', '고', '맞', '을', '가치', '가', '있', '다', '이', '라면서', '겨울철', '코로나', '19', '백신', '접종', '을', '독려', '하', '었', '다', '정', '위원장', '은', '이날', '코로나', '19', '정례', '브리핑', '에서', '기존', '에', '겨울', '에', '가장', '위험', '하', '었', '던', '독감', '보다', '코로나', '19', '가', '더', '위험', '하', 'ᆫ', '감염병', '으로', '이제', '코로나', '19', '백신', '은', '몇', '차', '접종', '개념', '이', '아니', '라', '겨울', '이', '되', '면', '되', '면', '맞', '는', '위험', '회피', '수단', '이', '라며', '이', '같이', '강조', '하', '었', '다', '정', '위원장', '은', '코로나', '19', '누적', '사망자', '가', '3', '만', '명', '을', '넘기', 'ᆫ', '것', '에', '대하', '어', '연', '평균', '코로나', '19', '사망자', '가', '독감', '으로', '인하', 'ᆫ', '사망자', '의', '100', '배', '를', '넘', '는', '셈', '이', 'ᆫ데', '아직', '도', '코로나', '19', '백신', '접종', '률', '이', '독감', '백신', '접종', '률', '에', '크', '게', '못', '미치', '어', '아쉽', '다', '고', '지적', '하', '었', '다', '정', '위원장', '은', '코로나', '19', '백신', '이', '감염', '과', '중증', '화', '및', '사망', '뿐', '만', '아니', '라', '감염', '으로', '인', '하', 'ᆫ', '급성', '심근', '경색', '뇌졸중', '등', '후유증', '도', '감소', '시키', 'ᆫ다는', '연구', '결과', '를', '인용', '하', '며', '특히', '개량', '백신', '이', '후유증', '을', '줄이', 'ᆯ', '수', '있', '다는', '연구', '결과', '도', '있', '고', '우수', '성', '이', '예측', '되', '는', '만큼', '아직', '고위험군', '은', '반드시', '맞', '어', '주', '기', 'ᆯ', '바라', 'ᆫ다', '고', '말', '하', '었', '다', '또', '재', '감염', '시', '사망', '위험', '이', '2', '배', '입원', '확률', '이', '3', '배', '이', '라는', '미국', '보건부', '의', '연구', '결과', '등', '을', '제시', '하', '면서', '코로나', '19', '는', '감염', '횟수', '가', '많아지', 'ᆯ', '수록', '위험도', '가', '훨씬', '올라가', '는', '만큼', '재', '감염', '예방', '을', '위하', '어서', '도', '백신', '접종', '이', '필요', '하', '다', '이', '고', '밝히', '었', '다', '백신', '부작용', '우려', '에', '대하', '어서', 'ᆫ', '전', '세계', '적', '으로', '130', '억', '회', '분', '이', '접종', '되', '었', '으나', '안전', '성', '문제', '로', '백신', '접종', '정책', '을', '달리', '하', 'ᆫ', '나라', '는', '없', '다', '이', '며', '새롭', '은', '백신', '이나', '약제', '에', '대하', 'ᆫ', '두려움', '은', '누구', '에게', '나', '다', '있', '지만', '이렇', '게', '수', '많', '은', '백신', '이', '크', 'ᆫ', '문제', '없이', '접종', '되', '며', '전', '세계', '적', '으로', '인정', '되', '었', '고', '부작용', '이슈', '는', '이제', '는', '많이', '안정', '되', '었', '다', '고', '강조', '하', '었', '다', '이어', '백신', '을', '비롯', '하', 'ᆫ', '모든', '약제', '등', '몸', '에', '들어가', '는', '이물질', '은', '절대', '안전', '하', '지', '않', '지만', '어느', '정도', '그', '위험', '을', '무릅쓰', '고', '이', '라도', '위험', '과', '예방', '접종', '이나', '약', '시술', '수술', '등', '의', '형평', '성', '을', '따지', '어서', '의료', '행위', '를', '하', 'ᆫ다', '이', '며', '개량', '백신', '은', '어느', '정도', '위험', '을', '감수', '하', '고', '맞', '을', '가치', '가', '있', '다', '고', '말', '하', '었', '다', '정', '위원장', '은', '요양', '병원', '등', '감염', '취약', '시설', '의', '코로나', '19', '추가', '접종', '률', '이', '17', '대', '로', '낮', '다는', '점', '을', '지적', '하', '며', '일반인', '보다', '치명', '률', '이', '훨씬', '높', '은', '고위험군', '에', '대하', 'ᆫ', '접종', '제공', '은', '국가', '와', '시설', '관리자', '의', '의무', '이', '라고', '강조', '하', '었', '다', '최근', '코로나', '19', '확진자', '증가세', '는', '주춤', '하', '지만', '위', '중증', '환자', '가', '늘어나', '는', '현상', '에', '대하', '어서', '는', '코로나', '19', '검사', '를', '안', '받', '는', '사람', '이', '늘어나', '는', '추세', '때문', '이', '라고', '분석', '하', '었', '다', '그', '는', '검사', '를', '강제', '하', 'ᆯ', '수', '는', '없', '기', '때문', '에', '위', '중증', '이나', '사망자', '가', '증가', '하', '는', '것', '을', '보', '고', '확진자', '증가', '를', '역', '으로', '추정', '하', 'ᆯ', '수', '밖에', '없', '다', '이', '며', '위', '중증', '정의', '역시', '의료', '기관', '마다', '달라', '어', '위', '중증', '환자', '에', '대하', '어', '좀', '더', '섬세', '하', 'ᆫ', '접근', '이', '필요', '하', '다', '이', '고', '덧붙이', '었', '다']\n"
     ]
    }
   ],
   "source": [
    "# preprocess\n",
    "docs = [preprocess(doc, tokenizer=kiwi) for doc in raw_docs]\n",
    "\n",
    "print(\"==> Example: \")\n",
    "print(docs[0])"
   ]
  },
  {
   "cell_type": "code",
   "execution_count": 7,
   "id": "b7dbbfef-2178-4681-98c9-9cb9b13603b7",
   "metadata": {},
   "outputs": [
    {
     "name": "stdout",
     "output_type": "stream",
     "text": [
      "==> Example: \n",
      "TaggedDocument<['정기', '석', '코로나', '19', '특별', '대응', '단장', '겸', '국가', '감염병', '위기', '대응', '자문', '위원장', '은', '21', '일', '접종', '부작용', '을', '어느', '정도', '는', '감수', '하', '고', '맞', '을', '가치', '가', '있', '다', '이', '라면서', '겨울철', '코로나', '19', '백신', '접종', '을', '독려', '하', '었', '다', '정', '위원장', '은', '이날', '코로나', '19', '정례', '브리핑', '에서', '기존', '에', '겨울', '에', '가장', '위험', '하', '었', '던', '독감', '보다', '코로나', '19', '가', '더', '위험', '하', 'ᆫ', '감염병', '으로', '이제', '코로나', '19', '백신', '은', '몇', '차', '접종', '개념', '이', '아니', '라', '겨울', '이', '되', '면', '되', '면', '맞', '는', '위험', '회피', '수단', '이', '라며', '이', '같이', '강조', '하', '었', '다', '정', '위원장', '은', '코로나', '19', '누적', '사망자', '가', '3', '만', '명', '을', '넘기', 'ᆫ', '것', '에', '대하', '어', '연', '평균', '코로나', '19', '사망자', '가', '독감', '으로', '인하', 'ᆫ', '사망자', '의', '100', '배', '를', '넘', '는', '셈', '이', 'ᆫ데', '아직', '도', '코로나', '19', '백신', '접종', '률', '이', '독감', '백신', '접종', '률', '에', '크', '게', '못', '미치', '어', '아쉽', '다', '고', '지적', '하', '었', '다', '정', '위원장', '은', '코로나', '19', '백신', '이', '감염', '과', '중증', '화', '및', '사망', '뿐', '만', '아니', '라', '감염', '으로', '인', '하', 'ᆫ', '급성', '심근', '경색', '뇌졸중', '등', '후유증', '도', '감소', '시키', 'ᆫ다는', '연구', '결과', '를', '인용', '하', '며', '특히', '개량', '백신', '이', '후유증', '을', '줄이', 'ᆯ', '수', '있', '다는', '연구', '결과', '도', '있', '고', '우수', '성', '이', '예측', '되', '는', '만큼', '아직', '고위험군', '은', '반드시', '맞', '어', '주', '기', 'ᆯ', '바라', 'ᆫ다', '고', '말', '하', '었', '다', '또', '재', '감염', '시', '사망', '위험', '이', '2', '배', '입원', '확률', '이', '3', '배', '이', '라는', '미국', '보건부', '의', '연구', '결과', '등', '을', '제시', '하', '면서', '코로나', '19', '는', '감염', '횟수', '가', '많아지', 'ᆯ', '수록', '위험도', '가', '훨씬', '올라가', '는', '만큼', '재', '감염', '예방', '을', '위하', '어서', '도', '백신', '접종', '이', '필요', '하', '다', '이', '고', '밝히', '었', '다', '백신', '부작용', '우려', '에', '대하', '어서', 'ᆫ', '전', '세계', '적', '으로', '130', '억', '회', '분', '이', '접종', '되', '었', '으나', '안전', '성', '문제', '로', '백신', '접종', '정책', '을', '달리', '하', 'ᆫ', '나라', '는', '없', '다', '이', '며', '새롭', '은', '백신', '이나', '약제', '에', '대하', 'ᆫ', '두려움', '은', '누구', '에게', '나', '다', '있', '지만', '이렇', '게', '수', '많', '은', '백신', '이', '크', 'ᆫ', '문제', '없이', '접종', '되', '며', '전', '세계', '적', '으로', '인정', '되', '었', '고', '부작용', '이슈', '는', '이제', '는', '많이', '안정', '되', '었', '다', '고', '강조', '하', '었', '다', '이어', '백신', '을', '비롯', '하', 'ᆫ', '모든', '약제', '등', '몸', '에', '들어가', '는', '이물질', '은', '절대', '안전', '하', '지', '않', '지만', '어느', '정도', '그', '위험', '을', '무릅쓰', '고', '이', '라도', '위험', '과', '예방', '접종', '이나', '약', '시술', '수술', '등', '의', '형평', '성', '을', '따지', '어서', '의료', '행위', '를', '하', 'ᆫ다', '이', '며', '개량', '백신', '은', '어느', '정도', '위험', '을', '감수', '하', '고', '맞', '을', '가치', '가', '있', '다', '고', '말', '하', '었', '다', '정', '위원장', '은', '요양', '병원', '등', '감염', '취약', '시설', '의', '코로나', '19', '추가', '접종', '률', '이', '17', '대', '로', '낮', '다는', '점', '을', '지적', '하', '며', '일반인', '보다', '치명', '률', '이', '훨씬', '높', '은', '고위험군', '에', '대하', 'ᆫ', '접종', '제공', '은', '국가', '와', '시설', '관리자', '의', '의무', '이', '라고', '강조', '하', '었', '다', '최근', '코로나', '19', '확진자', '증가세', '는', '주춤', '하', '지만', '위', '중증', '환자', '가', '늘어나', '는', '현상', '에', '대하', '어서', '는', '코로나', '19', '검사', '를', '안', '받', '는', '사람', '이', '늘어나', '는', '추세', '때문', '이', '라고', '분석', '하', '었', '다', '그', '는', '검사', '를', '강제', '하', 'ᆯ', '수', '는', '없', '기', '때문', '에', '위', '중증', '이나', '사망자', '가', '증가', '하', '는', '것', '을', '보', '고', '확진자', '증가', '를', '역', '으로', '추정', '하', 'ᆯ', '수', '밖에', '없', '다', '이', '며', '위', '중증', '정의', '역시', '의료', '기관', '마다', '달라', '어', '위', '중증', '환자', '에', '대하', '어', '좀', '더', '섬세', '하', 'ᆫ', '접근', '이', '필요', '하', '다', '이', '고', '덧붙이', '었', '다'], [0]>\n"
     ]
    }
   ],
   "source": [
    "tagged_docs = [TaggedDocument(doc, tags=[i]) for i, doc in enumerate(docs)]\n",
    "\n",
    "print(\"==> Example: \")\n",
    "print(tagged_docs[0])"
   ]
  },
  {
   "cell_type": "code",
   "execution_count": null,
   "id": "5d0d14a2-1aec-4108-bc59-e5bebf55ef27",
   "metadata": {},
   "outputs": [],
   "source": []
  },
  {
   "cell_type": "markdown",
   "id": "4d51d9f2-a31f-4557-8f75-8d702ae20a53",
   "metadata": {},
   "source": [
    "### Train Model\n",
    "- `vector_size`: embedding dimension\n",
    "- `dm`:\n",
    "    - 1: applies Distributed Memory\n",
    "        - similar to CBOW in Word2Vec, DM use neighboring words to predict the target word\n",
    "    - 0: applies Distributed Bag of Words(DBOW)\n",
    "        - similar to skip-gram in Word2Vec, DBOW uses document specific inputs and predicts whether an arbitrary word is in the document or not\n",
    "- `min_count`: threshold to exclude words where a count is lower than min_count\n",
    "- `negative`: negative sampling word countt"
   ]
  },
  {
   "cell_type": "code",
   "execution_count": 8,
   "id": "03b947fb-fcc1-42d1-8c57-22caec91abb8",
   "metadata": {},
   "outputs": [],
   "source": [
    "model = Doc2Vec(\n",
    "    documents=tagged_docs,\n",
    "    vector_size=100,\n",
    "    dm=1,\n",
    "    min_count=3,\n",
    "    negative=5,\n",
    "    alpha=0.001,\n",
    "    epochs=1000,\n",
    ")"
   ]
  },
  {
   "cell_type": "code",
   "execution_count": 9,
   "id": "ee93bac2-7aa2-4e17-b6a2-a439d6647637",
   "metadata": {},
   "outputs": [
    {
     "data": {
      "text/plain": [
       "13"
      ]
     },
     "execution_count": 9,
     "metadata": {},
     "output_type": "execute_result"
    }
   ],
   "source": [
    "# 13 = # of documents\n",
    "len(model.dv)"
   ]
  },
  {
   "cell_type": "code",
   "execution_count": 10,
   "id": "ac25a8ff-3db1-42e2-b26c-c983f8226194",
   "metadata": {},
   "outputs": [
    {
     "data": {
      "text/plain": [
       "(100,)"
      ]
     },
     "execution_count": 10,
     "metadata": {},
     "output_type": "execute_result"
    }
   ],
   "source": [
    "model.dv[0].shape"
   ]
  },
  {
   "cell_type": "code",
   "execution_count": 11,
   "id": "a869a13f-37ad-4740-9b39-1559ce1bfe54",
   "metadata": {},
   "outputs": [],
   "source": [
    "def cosine_similarity(v1: np.ndarray, v2: np.ndarray) -> float:\n",
    "    num = v1.dot(v2)\n",
    "    denom = np.linalg.norm(v1) * np.linalg.norm(v2)\n",
    "    return num / (denom+1e-6)"
   ]
  },
  {
   "cell_type": "code",
   "execution_count": 12,
   "id": "72d58cb2-5f89-40d4-8158-1e530ebf182d",
   "metadata": {},
   "outputs": [
    {
     "data": {
      "text/plain": [
       "0.19172255952455314"
      ]
     },
     "execution_count": 12,
     "metadata": {},
     "output_type": "execute_result"
    }
   ],
   "source": [
    "cosine_similarity(model.dv[0], model.dv[1])"
   ]
  },
  {
   "cell_type": "code",
   "execution_count": 13,
   "id": "1914a803-589f-4158-b19c-a989e2e43614",
   "metadata": {},
   "outputs": [
    {
     "name": "stdout",
     "output_type": "stream",
     "text": [
      "Input: 정기석 코로나19 특별대응단장 겸 국가감염병위기대응자문위원장은 21일 \"(접종) 부작용을 어느 정도는 감수하고 맞을 가치가 있다\"라면서 겨울철 코로나19 백신 접종을 독려했다.\n",
      "\n",
      "정 위원장은 이날 코로나19 정례브리핑에서 \"기존에 겨울에 가장 위험했던 독감보다 코로나19가 더 위험한 감염병으로, 이제 코로나19 백신은 '몇차 접종' 개념이 아니라 겨울이 되면 되면 맞는 위험 회피 수단\"이라며 이같이 강조했다.\n",
      "\n",
      "정 위원장은 코로나19 누적 사망자가 3만명을 넘긴 것에 대해 \"연평균 코로나19 사망자가 독감으로 인한 사망자의 100배를 넘는 셈인데 아직도 코로나19 백신 접종률이 독감 백신 접종률에 크게 못미쳐 아쉽다\"고 지적했다.\n",
      "\n",
      "정 위원장은 코로나19 백신이 감염과 중증화 및 사망 뿐만 아니라 감염으로 인한 급성심근경색, 뇌졸중 등 후유증도 감소시킨다는 연구 결과를 인용하며 \"특히 개량백신이 후유증을 줄일 수 있다는 연구 결과도 있고 우수성이 예측되는 만큼 아직 고위험군은 반드시 맞아주길 바란다\"고 말했다.\n",
      "\n",
      "또 재감염시 사망 위험이 2배, 입원 확률이 3배라는 미국 보건부의 연구 결과 등을 제시하면서 \"코로나19는 감염 횟수가 많아질 수록 위험도가 훨씬 올라가는 만큼, 재감염 예방을 위해서도 백신 접종이 필요하다\"고 밝혔다.\n",
      "\n",
      "백신 부작용 우려에 대해선 \"전 세계적으로 130억회분이 접종됐으나 안전성 문제로 백신 접종 정책을 달리한 나라는 없다\"며 \"새로운 백신이나 약제에 대한 두려움은 누구에게나 다 있지만 이렇게 수 많은 백신이 큰 문제없이 접종되며 전 세계적으로 인정됐고 부작용 이슈는 이제는 많이 안정됐다\"고 강조했다.\n",
      "\n",
      "이어 \"백신을 비롯한 모든 약제 등 몸에 들어가는 이물질은 절대 안전하지 않지만 어느 정도 그 위험을 무릅쓰고라도 위험과 예방접종이나 약, 시술·수술 등의 형평성을 따져서 의료행위를 한다\"며 \"개량백신은 어느 정도 위험을 감수하고 맞을 가치가 있다\"고 말했다.\n",
      "\n",
      "정 위원장은 요양병원 등 감염취약시설의 코로나19 추가 접종률이 17%대로 낮다는 점을 지적하며 \"일반인보다 치명률이 훨씬 높은 고위험군에 대한 접종 제공은 국가와 시설 관리자의 의무\"라고 강조했다.\n",
      "\n",
      "최근 코로나19 확진자 증가세는 주춤하지만 위중증 환자가 늘어나는 현상에 대해서는 \"코로나19 검사를 안 받는 사람이 늘어나는 추세 때문\"이라고 분석했다.\n",
      "\n",
      "그는 \"검사를 강제할 수는 없기 때문에 위중증이나 사망자가 증가하는 것을 보고 (확진자 증가를) 역으로 추정할 수밖에 없다\"며 \"위중증 정의 역시 의료기관마다 달라 위중증 환자에 대해 좀 더 섬세한 접근이 필요하다\"고 덧붙였다.\n",
      "\n",
      "\n",
      "\n",
      "==> Positive Examples\n",
      "정기석 코로나19 특별대응단장 겸 국가감염병위기대응자문위원장은 21일 코로나19 백신 예방접종이 중증·사망 뿐만 아니라 후유증까지 낮춰준다며 “(접종) 부작용을 어느 정도는 감수하고 맞을 가치가 있다”고 말했다.\n",
      "\n",
      "정 위원장은 이날 코로나19 정례브리핑에서 “기존에 겨울에 가장 위험했던 독감보다 코로나19가 더 위험한 감염병으로, 이제 코로나19 백신은 ‘몇 차 접종’ 개념이 아니라 겨울이 되면 되면 맞는 위험 회피 수단”이라며 이같이 강조했다.\n",
      "\n",
      "정 위원장은 “코로나 누적 사망자 3만명은 코로나 이전 10년간 연평균 독감환자의 100배를 넘는 숫자”라며 “아직도 코로나19 백신 접종률이 독감 백신 접종률에 크게 못 미쳐 아쉽다”고 지적했다. 2010년∼2019년 연평균 독감 사망자가 210명이다.\n",
      "\n",
      "정 위원장은 코로나19 백신이 감염과 중증화 및 사망 뿐만 아니라 감염으로 인한 급성심근경색, 뇌졸중 등 후유증도 감소시킨다는 연구 결과를 인용하며 “특히 개량백신이 후유증을 줄일 수 있다는 연구 결과도 있고 우수성이 예측되는 만큼 아직 고위험군은 반드시 맞아주길 바란다”고 말했다.\n",
      "\n",
      "정 위원장은 개량 백신 중에서도 BA.4/5 기반 백신이 조금 더 효과가 있어보인다고 언급했다.\n",
      "\n",
      "정 위원장은 재감염시 사망 위험이 2배, 입원 확률이 3배라는 미국 보건부의 연구 결과 등을 인용, “코로나19는 감염 횟수가 많아질 수록 위험도가 훨씬 올라가는 만큼, 재감염 예방을 위해서도 백신 접종이 필요하다”고 밝혔다.\n",
      "\n",
      "정 위원장은 코로나19 백신 안정성 우려와 관련해 “코로나19 백신은 우리나라에서 1억3000만회분, 전 세계적으로 130억회분이 접종됐다”며 “어느 국가에서도 안전성 문제로 이 백신접종 정책을 달리한 곳은 없다”고 말했다. 그러면서 “새로운 백신이나 약제에 대한 두려움은 누구에게나 다 있지만 이렇게 수많은 백신이 큰 문제없이 접종되며 전 세계적으로 인정됐고 부작용 이슈는 이제는 많이 안정됐다”고 강조했다.\n",
      "\n",
      "그는 “백신을 비롯한 모든 약제 등 몸에 들어가는 이물질은 절대 안전하지 않지만 어느 정도 그 위험을 무릅쓰고라도 위험과 예방접종이나 약, 시술·수술 등의 형평성을 따져서 의료행위를 한다”며 “개량백신은 어느 정도 위험을 감수하고 맞을 가치가 있다”고 말했다.\n",
      "\n",
      "정 위원장은 요양병원 등 감염취약시설의 코로나19 추가 접종률이 17%대로 낮다는 점을 지적하며 “일반인보다 치명률이 훨씬 높은 고위험군에 대한 접종 제공은 국가와 시설 관리자의 의무”라고 강조했다.\n",
      "\n",
      "정 위원장은 아울러 고위험군에 대해 항바이러스제 치료제 처방이 더욱 적극적으로 이뤄져야 한다고 의료진에게 당부했다. 그는 “홍콩에서 팍스로비드의 중증·사망 감소 효과는 43%, 라게브리오는 40%라는 연구 결과가 있다”며 “팍스로비드가 병용금기약물이 많아서 처방이 곤란하다면 라게브리오 처방을 적극적으로 해야 한다. 고위험군에게 두 가지 약 중 어떤 약이라도 꼭 들어가길 바란다”고 말했다.\n",
      "\n",
      "정 위원장은 끝으로 “고위험층이 예방접종을 통해 면역력을 갖추고 치료제 복용도 한다면 매일 발생하는 40명 안팎의 사망자 숫자의 30% 정도, 하루에 10여명 정도는 더 줄일 수 있을 것으로 기대할 수 있다”고 밝혔다.\n",
      "\n",
      "정 위원장은 최근 코로나19 확진자 증가세는 주춤하지만 위중증 환자가 늘어나는 현상에 대해 “코로나19 검사를 안 받는 사람이 늘어나는 추세 때문”이라고 분석했다. 그는 “검사를 강제할 수는 없기 때문에 위중증이나 사망자가 증가하는 것을 보고 (확진자 증가를) 역으로 추정할 수밖에 없다”며 “위중증 정의 역시 의료기관마다 달라 위중증 환자에 대해 좀 더 섬세한 접근이 필요하다”고 덧붙였다.\n",
      "\n",
      "\n",
      "코로나19 확진자 증가세가 주춤한 가운데 21일 신규 확진자 수가 2만 명대를 기록했다. 이에 정기석 코로나19 특별대응단장 겸 국가감염병위기대응자문위원장은 21일 \"(접종) 부작용을 어느 정도는 감수하고 맞을 가치가 있다\"라면서 겨울철 코로나19 백신 접종을 독려했다.\n",
      "\n",
      "중앙방역대책본부는 21일 0시 기준 코로나19 확진자가 2만3091명 늘었다고 밝혔다. 신규 확진자 수는 전날(4만6011명)보다 2만2920명 줄어 절반 수준이다. 이는 일요일 진단검사 건수 감소가 영향을 미친 것으로 보인다. 신규 확진자 수는 1주일 전인 지난 14일(2만3751명)과 비교해도 660명이 감소했다.\n",
      "\n",
      "신규 확진자 수는 나흘 연속 전주 대비 줄어드는 모습이다. 방역 당국은 확진자 수가 증감을 반복하면서도 증가 경향을 유지할 것으로 보고 있다.\n",
      "\n",
      "신규 확진 증가세는 주춤하고 있지만 확진자 수 증감을 2∼3주 간격으로 반영하는 재원중 위중증 환자, 사망자 수는 높은 수준이다. 위중증 환자 수는 전날(451명)보다 14명 증가한 465명이다. 9월 21일(494명) 이후 두달 사이 가장 많은 수준이다.\n",
      "\n",
      "한편, 정 위원장은 21일 오전 코로나19 정례브리핑에서 \"기존에 겨울에 가장 위험했던 독감보다 코로나19가 더 위험한 감염병으로, 이제 코로나19 백신은 '몇차 접종' 개념이 아니라 겨울이 되면 되면 맞는 위험 회피 수단\"이라며 백신 접종을 강조했다.\n",
      "\n",
      "정 위원장은 현재 코로나19 누적 사망자가 3만명을 넘긴 것에 대해 \"연평균 코로나19 사망자가 독감 때문인 사망자의 100배를 넘는 셈인데 아직도 코로나19 백신 접종률이 독감 백신 접종률에 크게 못 미쳐 아쉽다\"고 지적했다.\n",
      "\n",
      "정 위원장은 코로나19 백신이 감염과 중증화 및 사망뿐만 아니라 감염 탓인 급성심근경색, 뇌졸중 등 후유증도 감소시킨다는 연구 결과를 인용하며 \"특히 개량백신이 후유증을 줄일 수 있다는 연구 결과도 있고 우수성이 예측되는 만큼 아직 고위험군은 반드시 맞아주길 바란다\"고 말했다.\n",
      "\n",
      "또, 미국 보건부의 연구 결과 등을 제시하며 재감염시 사망 위험이 2배, 입원 확률이 3배라 강조하고 \"코로나19는 감염 횟수가 많아질수록 위험도가 훨씬 올라가는 만큼, 재감염 예방을 위해서도 백신 접종이 필요하다\"고 설명했다.\n",
      "\n",
      "일각에서 제시하는 백신 부작용 우려에 대해선 \"전 세계적으로 130억회분이 접종됐으나 안전성 문제로 백신 접종 정책을 달리한 나라는 없다\"며 \"새로운 백신이나 약제에 대한 두려움은 누구에게나 다 있지만 이렇게 수많은 백신이 큰 문제 없이 접종되며 전 세계적으로 인정됐고 부작용 이슈는 이제는 많이 안정됐다\"고 강조했다.\n",
      "\n",
      "이어 \"백신을 비롯한 모든 약제 등 몸에 들어가는 이물질은 절대 안전하지 않지만 어느 정도 그 위험을 무릅쓰고라도 위험과 예방접종이나 약, 시술·수술 등의 형평성을 따져서 의료행위를 한다\"며 \"개량백신은 어느 정도 위험을 감수하고 맞을 가치가 있다\"고 말했다.\n",
      "\n",
      "\n",
      "\n",
      "\n",
      "==> Negative Examples\n",
      "‘재벌집 막내아들’이 송중기와 순양가의 전쟁이 거세지면서 '우영우'의 인기를 넘어 수도권 시청률 21.8%를 돌파했다.\n",
      "\n",
      "지난 4일 방송된 JTBC 금토일 드라마 '재벌집 막내아들' 8회는 자체 최고인 전국 19.4% 수도권 21.8%를 돌파하며 전 채널 1위에 올랐다. 타깃 2049 시청률에서도 9.3%를 기록, 연일 자체 최고를 경신하며 전 채널 1위를 이어갔다. (닐슨코리아, 유료가구 기준) 올해 최고 시청률로 주목을 받았던 ENA채널 수목극 '이상한 변호사 우영우'(17.534%, 전국 기준)를 넘어섰다.\n",
      "\n",
      "이날 방송에서 일사천리로 진행되는 진성준(김남희 분)과 모현민(박지현 분)의 결혼은 순양의 후계 구도를 진성준으로 안착시키는 듯했다. 순양을 사겠다는 진도준의 목표를 달성하려면 반드시 디지털미디어시티 프로젝트가 부활해야만 하는 상황이었고 그는 뜻밖의 돌파구를 찾아냈다. 진도준은 대영그룹 총수 주영일(이병준 분)을 찾아가 대영물류가 순양을 제칠 수 있는 방법으로 홈쇼핑 채널을 인수하라고 조언했다. 필요한 것이 아닌 갖고 싶은 것을 사는 시대, 커져가는 홈쇼핑 시장을 선점하면 물류업계 1위 자리 역시 되찾을 수 있을 것이라는 이야기였다. 주영일은 이를 받아들여 디지털미디어시티에의 입주까지 약속했다.\n",
      "\n",
      "결혼식 본식 후 이 사실을 알게된 진양철과 진성준은 경악했지만 반전이 기다리고 있었다. 이어진 피로연 자리에서 모두가 진성준의 ‘대관식’이 될 거라고 예상했지만 진양철이 “오늘부로 우리 순양에 장자 승계 원칙은 없다”고 선언했다. 그가 가장 사랑하는 자식인 순양을 더욱 크게 키워줄 후계자를 찾기 위한 선택이었다.\n",
      "\n",
      "모두에게 공평한 기회가 주어져 진영기(윤제문 분), 진동기(조한철 분), 진화영 삼 남매가 쥔 계열사에도 변화가 생겼다. 진화영이 가지고 있던 순양백화점을 필두로 분리된 ‘순양유통그룹’의 탄생이 가장 눈에 띄었다. 하지만 각 계열사들이 가진 막대한 채무에 진화영은 쉽사리 기뻐하지 못했고 그는 장자 승계 원칙이 사라진 이유가 진도준 때문이란 걸 짐작했다. 진화영은 이해인(정혜영 분)에게 모욕을 주는 방식으로 진도준과의 서열을 정리하려 했지만 이는 오히려 진도준의 분노를 부른 방아쇠가 됐다.\n",
      "\n",
      "진화영에게 복수하려고 진도준은 ‘뉴데이터테크놀로지’라는 벤처 기업을 이용했다. 증시 역사상 가장 뜨겁게 사랑받은 이 기업은 곧 분식 회계로 가장 처참하게 버림받은 닷컴 버블의 신화적인 존재이기도 했다. 이번에도 이 사실을 알고 있는 것은 진도준뿐이었다. 그는 부채 상환 자금이 부족한 진화영의 상황을 이용해, 오세현(박혁권 분)을 앞세워 순양백화점의 지분을 담보로 4000억원을 대출해줬다. 오세현은 진화영과 대화하면서 뉴데이터테크놀로지에 대한 정보를 슬쩍 흘렸고, 진도준의 예상대로 진화영은 그룹 내 현금을 모두 끌어모아 주식에 투자했다.\n",
      "\n",
      "처음 박혁권의 조언대로 딱 네 배의 수익을 낸 뒤 주식을 모두 팔았다. 하지만 주식은 하루가 다르게 상한가를 찍었고, 김신록은 달아오르는 탐욕과 아쉬움에 어쩔 줄 몰라했다. 그런 와중에 찾아온 송중기는 그를 걱정하는 척, 뉴데이터테크놀로지 뒤에 작전 세력이 있음을 알리며 금액이 더 오를 것이라는 암시를 남겼다. 결국 김신록은 백화점 대금 1400억 원을 빼돌려 다시금 위험한 투자에 뛰어들었다. 이 순간을 예감한 듯한 송중기의 차가운 얼굴은 다가올 김신록의 몰락을 예고하며 이어질 이야기를 궁금케 했다.\n",
      "\n",
      "진양철이 장계 승계를 철회하면서 순양가와 진도준의 움직임은 다시 한 번 변화했다. “지금까지와는 전혀 다른 새로운 얼굴들을 보여줄 겁니다. 순양의 주인이 될 기회가 형제들 모두에게 주어졌고, 우애를 지키기에는 돈이 너무 많잖아요”라는 진도준의 말처럼, 서로의 몫을 노리는 이들의 맹수같은 모습은 가족관계를 무색케 했다. 과연 순양그룹을 차지하고 욕망의 정점에 설 단 한 명은 누구일지, 더욱 치열해진 승계 전쟁이 시청자들의 이목을 집중시키고 있다.\n",
      "\n",
      "\n",
      "\n",
      "‘재벌집 막내아들’이 ‘이상한 변호사 우영우’를 넘었다.\n",
      "\n",
      "5일 닐슨코리아에 따르면, 전날 방송된 JTBC 금토일드라마 ‘재벌집 막내아들’(연출 정대윤 김상호, 극본 김태희 장은재, 제작 SLL 래몽래인 재벌집막내아들문화산업전문회사) 8회는 전국 유료플랫폼 가구 기준 19.4%, 수도권 기준으로는 21.8%의 시청률을 돌파하며 전 채널 1위에 올랐다.\n",
      "\n",
      "올해 최고 시청률로 주목 받은 ENA 수목극 ‘이상한 변호사 우영우’(17.534%, 전국 기준)를 넘어섰다.\n",
      "\n",
      "이날 방송에서는 장계 승계 원칙의 철회와 함께 한층 맹렬해진 승계 전쟁이 그려졌다. 디지털미디어시티 프로젝트를 통해 다시금 진도준(송중기 분)의 능력을 확인한 진양철(이성민 분)은 순양그룹을 위한 결단을 내렸다. 장자, 장손이 아닌 모두에게 똑같이 순양의 주인이 될 기회를 주는 것.\n",
      "\n",
      "진양철의 마음에 일어난 변화가 진도준 때문임을 알게 된 삼 남매는 각자의 방식으로 진도준을 경계하기 시작했다. 이에 먼저 진화영(김신록 분)을 무너뜨리기 위해 판을 짜는 진도준의 모습은 격화되는 게임에 궁금증을 폭발시켰다.\n",
      "\n",
      "순양을 사겠다는 진도준의 목표가 이뤄지기 위해서는 반드시 디지털미디어시티 프로젝트가 부활해야만 하는 상황이었다. 이 가운데 그는 예상 밖의 돌파구를 발견했다. 진도준이 찾아간 사람은 대영그룹 총수 주영일(이병준 분)이었다. 진도준은 그에게 대영물류가 순양을 제칠 수 있는 방법으로 홈쇼핑 채널을 인수하라고 조언했다. 필요한 것이 아닌 갖고 싶은 것을 사는 시대, 커져가는 홈쇼핑 시장을 선점하게 된다면 물류업계 1위 자리 역시 되찾을 수 있을 것이라는 게 그의 이야기였다. 주영일은 이를 받아들였고, 디지털미디어시티에의 입주까지 약속했다.\n",
      "\n",
      "결혼식 본식이 끝난 직후 이 사실을 안 진양철과 진성준은 경악했다. 그러나 반전은 또 있었다. 이어진 피로연 자리, 모두가 진성준의 ‘대관식’이 될 거라고 예상한 그곳에서 진양철이 “오늘부로 우리 순양에 장자 승계 원칙은 없다”고 선언한 것. 그가 가장 사랑하는 자식, 순양을 더욱 크게 키워줄 후계자를 찾기 위한 선택이었다.\n",
      "\n",
      "모두에게 공평한 기회가 주어진 만큼 진영기(윤제문 분), 진동기(조한철 분), 진화영 삼 남매가 쥔 계열사들에도 변화가 생겼다. 그중 가장 눈에 띄는 것은 진화영이 가지고 있던 순양백화점을 필두로 분리된 ‘순양유통그룹’의 탄생이었다. 하지만 각 계열사들이 가진 막대한 채무에 진화영은 쉽사리 기뻐하지 못했다. 또한 그는 장자 승계 원칙이 사라진 이유가 진도준 때문임을 짐작하고 있었다. 때문에 이해인(정혜영 분)에게 모욕을 주는 방식으로 진도준과의 서열을 정리하려 했던 진화영. 하지만 이는 오히려 진도준의 분노를 부른 방아쇠가 됐다.\n",
      "\n",
      "진화영에게 복수하기 위해 진도준이 이용한 것은 ‘뉴데이터테크놀로지’라는 벤처 기업이었다. 증시 역사상 가장 뜨겁게 사랑 받은 이 기업은 곧 분식 회계로 인해 또한 가장 처참하게 버림 받은 닷컴 버블의 신화적인 존재이기도 했다.\n",
      "\n",
      "이 사실을 알고 있는 것은 진도준 뿐이었다. 부채 상환 자금이 부족한 진화영의 상황을 이용해 오세현(박혁권 분)을 앞세워 순양백화점의 지분을 담보로 4000억원을 대출해줬다. 오세현은 진화영과의 대화 속에서 뉴데이터테크놀로지에 대한 정보를 슬쩍 흘렸고, 진도준의 예상대로 진화영은 그룹 내 현금을 모두 끌어모아 주식 투자에 나섰다.\n",
      "\n",
      "진화영은 처음 오세현의 조언대로 딱 네 배의 수익을 낸 뒤 주식을 모두 팔았다. 하지만 주식은 하루가 다르게 상한가를 찍었고, 진화영은 달아오르는 탐욕과 아쉬움에 어쩔 줄 몰라했다. 그런 와중에 찾아온 진도준은 그를 걱정하는 척, 뉴데이터테크놀로지 뒤에 작전 세력이 있음을 알리며 금액이 더 오를 것이라는 암시를 남겼다.\n",
      "\n",
      "결국 진화영은 백화점 대금 1400억 원을 빼돌려 다시금 위험한 투자에 뛰어들었다. 이 순간을 예감한 듯한 진도준의 차가운 얼굴은 다가올 진화영의 몰락을 예고하며 이어질 이야기를 궁금케 했다.\n",
      "\n",
      "진양철이 장계 승계를 철회함과 동시에 순양가 그리고 진도준의 움직임은 또 한 번 변화했다. “지금까지와는 전혀 다른 새로운 얼굴들을 보여줄 겁니다. 순양의 주인이 될 기회가 형제들 모두에게 주어졌고, 우애를 지키기에는 돈이 너무 많잖아요”라는 진도준의 말처럼, 순양그룹을 차지하고 욕망의 정점에 설 단 한 명이 누구일지 더욱 치열해진 승계 전쟁에 이목이 집중됐다.\n",
      "\n",
      "\n"
     ]
    }
   ],
   "source": [
    "# print examples\n",
    "\n",
    "doc_id = 0\n",
    "\n",
    "pos_examples = model.dv.most_similar(positive=doc_id, topn=2)\n",
    "neg_examples = model.dv.most_similar(negative=doc_id, topn=2)\n",
    "\n",
    "print(f\"Input: {raw_docs[doc_id]}\")\n",
    "\n",
    "print(\"\\n\\n==> Positive Examples\")\n",
    "for pos_doc_id, _ in pos_examples:\n",
    "    print(raw_docs[pos_doc_id])\n",
    "    print(\"\\n\")\n",
    "\n",
    "print(\"\\n\\n==> Negative Examples\")\n",
    "for neg_doc_id, _ in neg_examples:\n",
    "    print(raw_docs[neg_doc_id])\n",
    "    print(\"\\n\")"
   ]
  },
  {
   "cell_type": "code",
   "execution_count": null,
   "id": "1612cf57-7013-4ab6-8615-c230cbc6f7a6",
   "metadata": {},
   "outputs": [],
   "source": []
  },
  {
   "cell_type": "markdown",
   "id": "acf660cf-dff1-4ff2-8137-0a267b1f8829",
   "metadata": {},
   "source": [
    "## Example2: Sentiment Analysis"
   ]
  },
  {
   "cell_type": "markdown",
   "id": "87354271-18c0-4062-af6a-3d0826dda3b8",
   "metadata": {},
   "source": [
    "### Read Data"
   ]
  },
  {
   "cell_type": "code",
   "execution_count": 14,
   "id": "60c24e3f-61ee-4c38-83f3-9e1c92087c8b",
   "metadata": {},
   "outputs": [],
   "source": [
    "docs = []\n",
    "labels = []\n",
    "exceptions = []\n",
    "with open(movie_review_path, \"r\") as f:\n",
    "    for line in f:\n",
    "        content = line.strip()\n",
    "        try:\n",
    "            doc, label = content.split(\"\\t\")\n",
    "        except Exception as e:\n",
    "            exceptions.append([content, str(e)])\n",
    "        docs.append(doc)\n",
    "        labels.append(int(label))"
   ]
  },
  {
   "cell_type": "code",
   "execution_count": 15,
   "id": "5edc83e8-5ebe-4c11-bf5a-e755b1394102",
   "metadata": {},
   "outputs": [
    {
     "name": "stdout",
     "output_type": "stream",
     "text": [
      "num docs: 166039\n",
      "num exceptions: 655\n"
     ]
    }
   ],
   "source": [
    "print(f\"num docs: {len(docs)}\")\n",
    "print(f\"num exceptions: {len(exceptions)}\")"
   ]
  },
  {
   "cell_type": "code",
   "execution_count": 16,
   "id": "36874954-84bb-480f-99d3-01fbaa8402ea",
   "metadata": {},
   "outputs": [
    {
     "data": {
      "text/plain": [
       "[['1', 'not enough values to unpack (expected 2, got 1)'],\n",
       " ['1', 'not enough values to unpack (expected 2, got 1)'],\n",
       " ['0', 'not enough values to unpack (expected 2, got 1)'],\n",
       " ['1', 'not enough values to unpack (expected 2, got 1)'],\n",
       " ['0', 'not enough values to unpack (expected 2, got 1)']]"
      ]
     },
     "execution_count": 16,
     "metadata": {},
     "output_type": "execute_result"
    }
   ],
   "source": [
    "exceptions[:5]"
   ]
  },
  {
   "cell_type": "code",
   "execution_count": null,
   "id": "b6e7a4bd-0302-437a-9785-4adefc7eff1f",
   "metadata": {},
   "outputs": [],
   "source": []
  },
  {
   "cell_type": "markdown",
   "id": "2c84a368-5624-4672-9db6-bcd7348f42b7",
   "metadata": {},
   "source": [
    "### Preprocess Data"
   ]
  },
  {
   "cell_type": "code",
   "execution_count": 17,
   "id": "e4345a84-755b-4e58-9f36-ec32a82a9d0c",
   "metadata": {},
   "outputs": [],
   "source": [
    "doc_words = [doc.strip().split() for doc in docs]"
   ]
  },
  {
   "cell_type": "code",
   "execution_count": 18,
   "id": "fb984405-3603-4123-910c-26ff8fae61bf",
   "metadata": {},
   "outputs": [
    {
     "data": {
      "text/plain": [
       "['부산 행 때문 너무 기대하고 봤', '한국 좀비 영화 어색하지 않게 만들어졌 놀랍']"
      ]
     },
     "execution_count": 18,
     "metadata": {},
     "output_type": "execute_result"
    }
   ],
   "source": [
    "docs[:2]"
   ]
  },
  {
   "cell_type": "code",
   "execution_count": 19,
   "id": "0a29d7a0-5d9e-45f4-8fc3-d97f7cde6382",
   "metadata": {},
   "outputs": [
    {
     "data": {
      "text/plain": [
       "[['부산', '행', '때문', '너무', '기대하고', '봤'],\n",
       " ['한국', '좀비', '영화', '어색하지', '않게', '만들어졌', '놀랍']]"
      ]
     },
     "execution_count": 19,
     "metadata": {},
     "output_type": "execute_result"
    }
   ],
   "source": [
    "doc_words[:2]"
   ]
  },
  {
   "cell_type": "code",
   "execution_count": 20,
   "id": "c4ca44b1-5723-40a0-b9d8-4fe51761be02",
   "metadata": {},
   "outputs": [],
   "source": [
    "tagged_docs = [TaggedDocument(doc, tags=[i]) for i, doc in enumerate(doc_words)]"
   ]
  },
  {
   "cell_type": "code",
   "execution_count": 21,
   "id": "05807fda-62bf-46aa-bf9a-80b28c620513",
   "metadata": {},
   "outputs": [
    {
     "data": {
      "text/plain": [
       "[TaggedDocument(words=['부산', '행', '때문', '너무', '기대하고', '봤'], tags=[0]),\n",
       " TaggedDocument(words=['한국', '좀비', '영화', '어색하지', '않게', '만들어졌', '놀랍'], tags=[1])]"
      ]
     },
     "execution_count": 21,
     "metadata": {},
     "output_type": "execute_result"
    }
   ],
   "source": [
    "tagged_docs[:2]"
   ]
  },
  {
   "cell_type": "code",
   "execution_count": null,
   "id": "d077b240-97b1-4e7c-8035-4ecf4f871f00",
   "metadata": {},
   "outputs": [],
   "source": []
  },
  {
   "cell_type": "markdown",
   "id": "81b3010b-23df-4519-a9a1-2ca9872603e2",
   "metadata": {},
   "source": [
    "### Train Model"
   ]
  },
  {
   "cell_type": "code",
   "execution_count": 22,
   "id": "cba33ed7-8b80-44ed-9bab-705c52f5dc87",
   "metadata": {},
   "outputs": [],
   "source": [
    "model = Doc2Vec(\n",
    "    documents=tagged_docs,\n",
    "    vector_size=100,\n",
    "    min_count=3,\n",
    "    window=3,\n",
    "    epochs=30,\n",
    "    dm=1,\n",
    "    negative=5,\n",
    "    alpha=0.001,\n",
    "    workers=os.cpu_count(),\n",
    ")"
   ]
  },
  {
   "cell_type": "code",
   "execution_count": 23,
   "id": "382effec-1543-4286-91be-7393a756aa14",
   "metadata": {},
   "outputs": [],
   "source": [
    "raw_docs = docs"
   ]
  },
  {
   "cell_type": "code",
   "execution_count": 24,
   "id": "9ea86283-e816-41f0-87e5-e23df1b87627",
   "metadata": {},
   "outputs": [
    {
     "name": "stdout",
     "output_type": "stream",
     "text": [
      "Input: 부산 행 때문 너무 기대하고 봤\n",
      "\n",
      "\n",
      "==> Positive Examples\n",
      "노잼 노잼 노잼 개핵 노잼 보지 마시\n",
      "\n",
      "\n",
      "인생 영화 가장 짙은 향수\n",
      "\n",
      "\n",
      "\n",
      "\n",
      "==> Negative Examples\n",
      "예고편 제일 재밌다 스토리 전개 모두 한숨 나옴 매력 있는 캐릭터 연기 잘하는 배우 좋 설정 가지 엉망 만들어\n",
      "\n",
      "\n",
      "지루한 하나 정말 봤 여운 남는 영화 입니 잔인 영화 만들 이런 영화 봅\n",
      "\n",
      "\n"
     ]
    }
   ],
   "source": [
    "# print examples\n",
    "\n",
    "doc_id = 0\n",
    "\n",
    "pos_examples = model.dv.most_similar(positive=doc_id, topn=2)\n",
    "neg_examples = model.dv.most_similar(negative=doc_id, topn=2)\n",
    "\n",
    "print(f\"Input: {raw_docs[doc_id]}\")\n",
    "\n",
    "print(\"\\n\\n==> Positive Examples\")\n",
    "for pos_doc_id, _ in pos_examples:\n",
    "    print(raw_docs[pos_doc_id])\n",
    "    print(\"\\n\")\n",
    "\n",
    "print(\"\\n\\n==> Negative Examples\")\n",
    "for neg_doc_id, _ in neg_examples:\n",
    "    print(raw_docs[neg_doc_id])\n",
    "    print(\"\\n\")"
   ]
  },
  {
   "cell_type": "code",
   "execution_count": null,
   "id": "1df25f8b-f037-4693-883b-49ee0eb8afad",
   "metadata": {},
   "outputs": [],
   "source": []
  },
  {
   "cell_type": "markdown",
   "id": "46cd5cf6-a787-417a-abc4-9bd3317cf847",
   "metadata": {},
   "source": [
    "### Train Classification Model"
   ]
  },
  {
   "cell_type": "code",
   "execution_count": 25,
   "id": "f2ceabde-7fa8-45fe-b5b5-6444f0060a69",
   "metadata": {},
   "outputs": [
    {
     "name": "stdout",
     "output_type": "stream",
     "text": [
      "(166039, 100)\n"
     ]
    }
   ],
   "source": [
    "# 100 = embedding dim\n",
    "\n",
    "doc_vectors = model.dv.vectors\n",
    "\n",
    "print(doc_vectors.shape)"
   ]
  },
  {
   "cell_type": "code",
   "execution_count": 26,
   "id": "e10fbe51-517c-42b3-a77b-695a742fedc9",
   "metadata": {},
   "outputs": [],
   "source": [
    "# train/test split\n",
    "\n",
    "X_train, X_test, y_train, y_test = train_test_split(doc_vectors, labels, test_size=0.2, random_state=123)"
   ]
  },
  {
   "cell_type": "code",
   "execution_count": 27,
   "id": "557d13b0-e5b6-4c11-8387-7dc1ab0e580d",
   "metadata": {},
   "outputs": [
    {
     "data": {
      "text/html": [
       "<style>#sk-container-id-1 {color: black;}#sk-container-id-1 pre{padding: 0;}#sk-container-id-1 div.sk-toggleable {background-color: white;}#sk-container-id-1 label.sk-toggleable__label {cursor: pointer;display: block;width: 100%;margin-bottom: 0;padding: 0.3em;box-sizing: border-box;text-align: center;}#sk-container-id-1 label.sk-toggleable__label-arrow:before {content: \"▸\";float: left;margin-right: 0.25em;color: #696969;}#sk-container-id-1 label.sk-toggleable__label-arrow:hover:before {color: black;}#sk-container-id-1 div.sk-estimator:hover label.sk-toggleable__label-arrow:before {color: black;}#sk-container-id-1 div.sk-toggleable__content {max-height: 0;max-width: 0;overflow: hidden;text-align: left;background-color: #f0f8ff;}#sk-container-id-1 div.sk-toggleable__content pre {margin: 0.2em;color: black;border-radius: 0.25em;background-color: #f0f8ff;}#sk-container-id-1 input.sk-toggleable__control:checked~div.sk-toggleable__content {max-height: 200px;max-width: 100%;overflow: auto;}#sk-container-id-1 input.sk-toggleable__control:checked~label.sk-toggleable__label-arrow:before {content: \"▾\";}#sk-container-id-1 div.sk-estimator input.sk-toggleable__control:checked~label.sk-toggleable__label {background-color: #d4ebff;}#sk-container-id-1 div.sk-label input.sk-toggleable__control:checked~label.sk-toggleable__label {background-color: #d4ebff;}#sk-container-id-1 input.sk-hidden--visually {border: 0;clip: rect(1px 1px 1px 1px);clip: rect(1px, 1px, 1px, 1px);height: 1px;margin: -1px;overflow: hidden;padding: 0;position: absolute;width: 1px;}#sk-container-id-1 div.sk-estimator {font-family: monospace;background-color: #f0f8ff;border: 1px dotted black;border-radius: 0.25em;box-sizing: border-box;margin-bottom: 0.5em;}#sk-container-id-1 div.sk-estimator:hover {background-color: #d4ebff;}#sk-container-id-1 div.sk-parallel-item::after {content: \"\";width: 100%;border-bottom: 1px solid gray;flex-grow: 1;}#sk-container-id-1 div.sk-label:hover label.sk-toggleable__label {background-color: #d4ebff;}#sk-container-id-1 div.sk-serial::before {content: \"\";position: absolute;border-left: 1px solid gray;box-sizing: border-box;top: 0;bottom: 0;left: 50%;z-index: 0;}#sk-container-id-1 div.sk-serial {display: flex;flex-direction: column;align-items: center;background-color: white;padding-right: 0.2em;padding-left: 0.2em;position: relative;}#sk-container-id-1 div.sk-item {position: relative;z-index: 1;}#sk-container-id-1 div.sk-parallel {display: flex;align-items: stretch;justify-content: center;background-color: white;position: relative;}#sk-container-id-1 div.sk-item::before, #sk-container-id-1 div.sk-parallel-item::before {content: \"\";position: absolute;border-left: 1px solid gray;box-sizing: border-box;top: 0;bottom: 0;left: 50%;z-index: -1;}#sk-container-id-1 div.sk-parallel-item {display: flex;flex-direction: column;z-index: 1;position: relative;background-color: white;}#sk-container-id-1 div.sk-parallel-item:first-child::after {align-self: flex-end;width: 50%;}#sk-container-id-1 div.sk-parallel-item:last-child::after {align-self: flex-start;width: 50%;}#sk-container-id-1 div.sk-parallel-item:only-child::after {width: 0;}#sk-container-id-1 div.sk-dashed-wrapped {border: 1px dashed gray;margin: 0 0.4em 0.5em 0.4em;box-sizing: border-box;padding-bottom: 0.4em;background-color: white;}#sk-container-id-1 div.sk-label label {font-family: monospace;font-weight: bold;display: inline-block;line-height: 1.2em;}#sk-container-id-1 div.sk-label-container {text-align: center;}#sk-container-id-1 div.sk-container {/* jupyter's `normalize.less` sets `[hidden] { display: none; }` but bootstrap.min.css set `[hidden] { display: none !important; }` so we also need the `!important` here to be able to override the default hidden behavior on the sphinx rendered scikit-learn.org. See: https://github.com/scikit-learn/scikit-learn/issues/21755 */display: inline-block !important;position: relative;}#sk-container-id-1 div.sk-text-repr-fallback {display: none;}</style><div id=\"sk-container-id-1\" class=\"sk-top-container\"><div class=\"sk-text-repr-fallback\"><pre>LogisticRegression()</pre><b>In a Jupyter environment, please rerun this cell to show the HTML representation or trust the notebook. <br />On GitHub, the HTML representation is unable to render, please try loading this page with nbviewer.org.</b></div><div class=\"sk-container\" hidden><div class=\"sk-item\"><div class=\"sk-estimator sk-toggleable\"><input class=\"sk-toggleable__control sk-hidden--visually\" id=\"sk-estimator-id-1\" type=\"checkbox\" checked><label for=\"sk-estimator-id-1\" class=\"sk-toggleable__label sk-toggleable__label-arrow\">LogisticRegression</label><div class=\"sk-toggleable__content\"><pre>LogisticRegression()</pre></div></div></div></div></div>"
      ],
      "text/plain": [
       "LogisticRegression()"
      ]
     },
     "execution_count": 27,
     "metadata": {},
     "output_type": "execute_result"
    }
   ],
   "source": [
    "# train classifier\n",
    "\n",
    "clf = LogisticRegression()\n",
    "clf.fit(X_train, y_train)"
   ]
  },
  {
   "cell_type": "code",
   "execution_count": 28,
   "id": "ecc69355-bd6c-47a5-ba21-d76ea7a8fb45",
   "metadata": {},
   "outputs": [],
   "source": [
    "y_pred = clf.predict(X_test)"
   ]
  },
  {
   "cell_type": "code",
   "execution_count": 29,
   "id": "e904f8bb-2ac8-4733-8877-777959105a18",
   "metadata": {},
   "outputs": [
    {
     "data": {
      "text/plain": [
       "0.7114851842929415"
      ]
     },
     "execution_count": 29,
     "metadata": {},
     "output_type": "execute_result"
    }
   ],
   "source": [
    "accuracy_score(y_test, y_pred)"
   ]
  },
  {
   "cell_type": "code",
   "execution_count": null,
   "id": "491cad3a-8884-4eb3-9634-ceb361da935f",
   "metadata": {},
   "outputs": [],
   "source": []
  },
  {
   "cell_type": "code",
   "execution_count": null,
   "id": "fc291c58-e1ac-4683-b9bd-c6f44ba311e2",
   "metadata": {},
   "outputs": [],
   "source": []
  },
  {
   "cell_type": "code",
   "execution_count": null,
   "id": "1dbfa4dd-da61-43ed-a3d1-c2a95b1fc04d",
   "metadata": {},
   "outputs": [],
   "source": []
  },
  {
   "cell_type": "code",
   "execution_count": null,
   "id": "40280d72-69a1-4c2e-9dfd-c9e721df6000",
   "metadata": {},
   "outputs": [],
   "source": []
  }
 ],
 "metadata": {
  "kernelspec": {
   "display_name": "Python 3 (ipykernel)",
   "language": "python",
   "name": "python3"
  },
  "language_info": {
   "codemirror_mode": {
    "name": "ipython",
    "version": 3
   },
   "file_extension": ".py",
   "mimetype": "text/x-python",
   "name": "python",
   "nbconvert_exporter": "python",
   "pygments_lexer": "ipython3",
   "version": "3.8.10"
  }
 },
 "nbformat": 4,
 "nbformat_minor": 5
}
