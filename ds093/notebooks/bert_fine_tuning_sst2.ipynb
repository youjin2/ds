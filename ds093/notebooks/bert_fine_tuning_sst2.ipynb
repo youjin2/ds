{
 "cells": [
  {
   "cell_type": "code",
   "execution_count": 1,
   "id": "872a822a-bf6d-4067-8cbe-80cd2a57eb8b",
   "metadata": {},
   "outputs": [],
   "source": [
    "import sys\n",
    "sys.path.append(\"../\")"
   ]
  },
  {
   "cell_type": "code",
   "execution_count": 2,
   "id": "6faaf31d-2873-4798-85f6-371de0aacf68",
   "metadata": {},
   "outputs": [
    {
     "name": "stderr",
     "output_type": "stream",
     "text": [
      "2024-12-21 12:10:24.294442: I tensorflow/core/platform/cpu_feature_guard.cc:193] This TensorFlow binary is optimized with oneAPI Deep Neural Network Library (oneDNN) to use the following CPU instructions in performance-critical operations:  AVX2 FMA\n",
      "To enable them in other operations, rebuild TensorFlow with the appropriate compiler flags.\n"
     ]
    }
   ],
   "source": [
    "import os\n",
    "\n",
    "import numpy as np\n",
    "import pandas as pd\n",
    "import tensorflow as tf\n",
    "from transformers import BertTokenizer, TFBertForSequenceClassification\n",
    "from sklearn.linear_model import LogisticRegression\n",
    "from sklearn.metrics import classification_report\n",
    "import matplotlib.pyplot as plt\n",
    "\n",
    "from src.datasets.sst2 import load_sst2\n",
    "from src.utils.logger import get_logger\n",
    "from src.utils.session import reset_session"
   ]
  },
  {
   "cell_type": "code",
   "execution_count": 3,
   "id": "c0dcade6-5887-4a4e-9427-3180c681f4ec",
   "metadata": {},
   "outputs": [],
   "source": [
    "_ = get_logger()"
   ]
  },
  {
   "cell_type": "code",
   "execution_count": null,
   "id": "920c62f4-f95b-45da-9c04-b4ce8fc1aa6f",
   "metadata": {},
   "outputs": [],
   "source": []
  },
  {
   "cell_type": "markdown",
   "id": "09f199da-0705-4698-bccb-9632f84a83d9",
   "metadata": {},
   "source": [
    "## Config"
   ]
  },
  {
   "cell_type": "code",
   "execution_count": 4,
   "id": "48771cf5-a212-465f-a53b-a6fcb3627a11",
   "metadata": {},
   "outputs": [],
   "source": [
    "base_model_dir = \"../model/\"\n",
    "os.makedirs(base_model_dir, exist_ok=True)\n",
    "\n",
    "ckpt_path = os.path.join(base_model_dir, \"bert_fine_tune_sst2\", \"ckpt\")"
   ]
  },
  {
   "cell_type": "code",
   "execution_count": null,
   "id": "f3e298be-b045-42a9-859a-0e90505e48f4",
   "metadata": {},
   "outputs": [],
   "source": []
  },
  {
   "cell_type": "markdown",
   "id": "3d3e3d6e-29c7-4945-bb8d-b940eb832fd6",
   "metadata": {},
   "source": [
    "## Load Dataset"
   ]
  },
  {
   "cell_type": "code",
   "execution_count": 5,
   "id": "323ee6b0-cda0-4d43-be5d-16e8eb98d2d4",
   "metadata": {},
   "outputs": [
    {
     "name": "stderr",
     "output_type": "stream",
     "text": [
      "[INFO] num train: 3200 (data.py:33)\n",
      "[INFO] num valid: 800 (data.py:34)\n",
      "[INFO] num test: 1000 (data.py:35)\n"
     ]
    }
   ],
   "source": [
    "(X_train_raw, y_train_raw), (X_valid_raw, y_valid_raw), (X_test_raw, y_test_raw) = load_sst2(\n",
    "    num_sample=5000,\n",
    "    val_split=True,\n",
    ")\n",
    "\n",
    "X_raw = {\n",
    "    \"X_train\": X_train_raw,\n",
    "    \"X_valid\": X_valid_raw,\n",
    "    \"X_test\": X_test_raw,\n",
    "}\n",
    "\n",
    "y_raw = {\n",
    "    \"y_train\": y_train_raw,\n",
    "    \"y_valid\": y_valid_raw,\n",
    "    \"y_test\": y_test_raw,\n",
    "}"
   ]
  },
  {
   "cell_type": "code",
   "execution_count": null,
   "id": "5781e83a-961c-4be9-8f91-c1d6956e8592",
   "metadata": {},
   "outputs": [],
   "source": []
  },
  {
   "cell_type": "markdown",
   "id": "64f2467b-d067-41ba-b7a7-904db06c444d",
   "metadata": {},
   "source": [
    "## Preproess\n",
    "<!-- - we will use last hidden states to  -->"
   ]
  },
  {
   "cell_type": "markdown",
   "id": "a8b4d686-6e2e-4d32-b449-cd767a56f62a",
   "metadata": {},
   "source": [
    "### Tokenize input sentences"
   ]
  },
  {
   "cell_type": "code",
   "execution_count": 6,
   "id": "07468439-4547-4b6f-8029-4374c46060ca",
   "metadata": {},
   "outputs": [
    {
     "name": "stderr",
     "output_type": "stream",
     "text": [
      "/usr/local/lib/python3.8/dist-packages/huggingface_hub/file_download.py:795: FutureWarning: `resume_download` is deprecated and will be removed in version 1.0.0. Downloads always resume when possible. If you want to force a new download, use `force_download=True`.\n",
      "  warnings.warn(\n"
     ]
    }
   ],
   "source": [
    "tokenizer = BertTokenizer.from_pretrained(\"bert-base-uncased\")"
   ]
  },
  {
   "cell_type": "code",
   "execution_count": 7,
   "id": "a170c522-fd11-4006-9777-ca60e2456134",
   "metadata": {},
   "outputs": [],
   "source": [
    "\"\"\"\n",
    "Args:\n",
    " - return_tensors: returns numpy arra\n",
    " - max_length: limit the maximum length of sentence as 30\n",
    " - padding: fill with zeros if len(sentence) < max_length\n",
    " - truncation: truncate if len(sentence) > max_length\n",
    "\n",
    "Outputs:\n",
    " - input_ids: tokenized input ids\n",
    " - token_type_ids: 0 if first sentence, 1 if second sentence (note: BERT takes 2 sentences as input)\n",
    " - attention_mask: 0 if input_ids[i] = [PAD], 1 otherwise\n",
    "\"\"\"\n",
    "\n",
    "X_tokenized = {\n",
    "    k: tokenizer(v.tolist(), return_tensors=\"np\", max_length=30, padding=\"max_length\", truncation=True)\n",
    "    for k, v in X_raw.items()\n",
    "}"
   ]
  },
  {
   "cell_type": "code",
   "execution_count": 8,
   "id": "fe72a3f6-ef51-40ec-a5a3-35e209249991",
   "metadata": {},
   "outputs": [
    {
     "name": "stdout",
     "output_type": "stream",
     "text": [
      "==>\n",
      "Raw: a meditation on faith and madness , frailty is blood curdling stuff\n",
      "Token ids: [  101  1037 13804  2006  4752  1998 12013  1010 25737  3723  2003  2668\n",
      " 12731  4103  2989  4933   102     0     0     0     0     0     0     0\n",
      "     0     0     0     0     0     0]\n",
      "Ids to token: [CLS] a meditation on faith and madness , frail ##ty is blood cu ##rd ##ling stuff [SEP] [PAD] [PAD] [PAD] [PAD] [PAD] [PAD] [PAD] [PAD] [PAD] [PAD] [PAD] [PAD] [PAD]\n",
      "Attention Mask: [1 1 1 1 1 1 1 1 1 1 1 1 1 1 1 1 1 0 0 0 0 0 0 0 0 0 0 0 0 0]\n",
      "\n",
      "==>\n",
      "Raw: has all the hallmarks of a movie designed strictly for children 's home video , a market so insatiable it absorbs all manner of lame entertainment , as long as 3 year olds find it diverting\n",
      "Token ids: [  101  2038  2035  1996 25812  2015  1997  1037  3185  2881  9975  2005\n",
      "  2336  1005  1055  2188  2678  1010  1037  3006  2061 16021 10450  3085\n",
      "  2009 16888  2015  2035  5450   102]\n",
      "Ids to token: [CLS] has all the hallmark ##s of a movie designed strictly for children ' s home video , a market so ins ##ati ##able it absorb ##s all manner [SEP]\n",
      "Attention Mask: [1 1 1 1 1 1 1 1 1 1 1 1 1 1 1 1 1 1 1 1 1 1 1 1 1 1 1 1 1 1]\n",
      "\n",
      "==>\n",
      "Raw: without lrb de niro rrb , city by the sea would slip under the waves\n",
      "Token ids: [  101  2302  1048 15185  2139  9152  3217 25269  2497  1010  2103  2011\n",
      "  1996  2712  2052  7540  2104  1996  5975   102     0     0     0     0\n",
      "     0     0     0     0     0     0]\n",
      "Ids to token: [CLS] without l ##rb de ni ##ro rr ##b , city by the sea would slip under the waves [SEP] [PAD] [PAD] [PAD] [PAD] [PAD] [PAD] [PAD] [PAD] [PAD] [PAD]\n",
      "Attention Mask: [1 1 1 1 1 1 1 1 1 1 1 1 1 1 1 1 1 1 1 1 0 0 0 0 0 0 0 0 0 0]\n",
      "\n",
      "==>\n",
      "Raw: this version does justice both to stevenson and to the sci fi genre\n",
      "Token ids: [  101  2023  2544  2515  3425  2119  2000 13636  1998  2000  1996 16596\n",
      " 10882  6907   102     0     0     0     0     0     0     0     0     0\n",
      "     0     0     0     0     0     0]\n",
      "Ids to token: [CLS] this version does justice both to stevenson and to the sci fi genre [SEP] [PAD] [PAD] [PAD] [PAD] [PAD] [PAD] [PAD] [PAD] [PAD] [PAD] [PAD] [PAD] [PAD] [PAD] [PAD]\n",
      "Attention Mask: [1 1 1 1 1 1 1 1 1 1 1 1 1 1 1 0 0 0 0 0 0 0 0 0 0 0 0 0 0 0]\n",
      "\n"
     ]
    }
   ],
   "source": [
    "for i in [0, 10, 13, 20]:\n",
    "    tmp_raw = X_raw[\"X_train\"][i]\n",
    "    tmp_tokenized = X_tokenized[\"X_train\"]\n",
    "    tmp_ids = tmp_tokenized[\"input_ids\"][i]\n",
    "    tmp_token_type_ids = tmp_tokenized[\"token_type_ids\"][i]\n",
    "    tmp_att_msk = tmp_tokenized[\"attention_mask\"][i]\n",
    "\n",
    "    print(\"==>\")\n",
    "    print(f\"Raw: {tmp_raw}\")\n",
    "    print(f\"Token ids: {tmp_ids}\")\n",
    "    print(f\"Ids to token: {' '.join(tokenizer.convert_ids_to_tokens(tmp_ids))}\")\n",
    "    print(f\"Attention Mask: {tmp_att_msk}\")\n",
    "    print()"
   ]
  },
  {
   "cell_type": "code",
   "execution_count": null,
   "id": "b897e59e-4567-4930-b8c7-9912082eef24",
   "metadata": {},
   "outputs": [],
   "source": []
  },
  {
   "cell_type": "markdown",
   "id": "a6e03552-c3a4-4a85-b117-e8e15ef9cdd8",
   "metadata": {},
   "source": [
    "### One-hot encode labels"
   ]
  },
  {
   "cell_type": "code",
   "execution_count": 9,
   "id": "80af9867-7c44-493f-bf70-133e756738bd",
   "metadata": {},
   "outputs": [],
   "source": [
    "y_onehot = {\n",
    "    k: tf.keras.utils.to_categorical(v)\n",
    "    for k, v in y_raw.items()\n",
    "}"
   ]
  },
  {
   "cell_type": "code",
   "execution_count": null,
   "id": "ee012d81-ce28-4cab-a065-56b35f0a6090",
   "metadata": {},
   "outputs": [],
   "source": []
  },
  {
   "cell_type": "markdown",
   "id": "4abc5c89-85ab-4acb-bd22-c68d06de5868",
   "metadata": {},
   "source": [
    "## Train model"
   ]
  },
  {
   "cell_type": "code",
   "execution_count": 10,
   "id": "ec495e02-01e8-4f4e-ae0b-59de646d4feb",
   "metadata": {},
   "outputs": [],
   "source": [
    "reset_session()"
   ]
  },
  {
   "cell_type": "code",
   "execution_count": 11,
   "id": "9a640e40-4cb4-4097-84dd-f738760a031c",
   "metadata": {},
   "outputs": [
    {
     "name": "stderr",
     "output_type": "stream",
     "text": [
      "2024-12-21 12:10:29.550962: I tensorflow/compiler/xla/stream_executor/cuda/cuda_gpu_executor.cc:981] successful NUMA node read from SysFS had negative value (-1), but there must be at least one NUMA node, so returning NUMA node zero\n",
      "2024-12-21 12:10:29.552692: I tensorflow/compiler/xla/stream_executor/cuda/cuda_gpu_executor.cc:981] successful NUMA node read from SysFS had negative value (-1), but there must be at least one NUMA node, so returning NUMA node zero\n",
      "2024-12-21 12:10:29.552797: I tensorflow/compiler/xla/stream_executor/cuda/cuda_gpu_executor.cc:981] successful NUMA node read from SysFS had negative value (-1), but there must be at least one NUMA node, so returning NUMA node zero\n",
      "2024-12-21 12:10:29.553062: I tensorflow/core/platform/cpu_feature_guard.cc:193] This TensorFlow binary is optimized with oneAPI Deep Neural Network Library (oneDNN) to use the following CPU instructions in performance-critical operations:  AVX2 FMA\n",
      "To enable them in other operations, rebuild TensorFlow with the appropriate compiler flags.\n",
      "2024-12-21 12:10:29.553331: I tensorflow/compiler/xla/stream_executor/cuda/cuda_gpu_executor.cc:981] successful NUMA node read from SysFS had negative value (-1), but there must be at least one NUMA node, so returning NUMA node zero\n",
      "2024-12-21 12:10:29.553431: I tensorflow/compiler/xla/stream_executor/cuda/cuda_gpu_executor.cc:981] successful NUMA node read from SysFS had negative value (-1), but there must be at least one NUMA node, so returning NUMA node zero\n",
      "2024-12-21 12:10:29.553521: I tensorflow/compiler/xla/stream_executor/cuda/cuda_gpu_executor.cc:981] successful NUMA node read from SysFS had negative value (-1), but there must be at least one NUMA node, so returning NUMA node zero\n",
      "2024-12-21 12:10:29.903003: I tensorflow/compiler/xla/stream_executor/cuda/cuda_gpu_executor.cc:981] successful NUMA node read from SysFS had negative value (-1), but there must be at least one NUMA node, so returning NUMA node zero\n",
      "2024-12-21 12:10:29.903153: I tensorflow/compiler/xla/stream_executor/cuda/cuda_gpu_executor.cc:981] successful NUMA node read from SysFS had negative value (-1), but there must be at least one NUMA node, so returning NUMA node zero\n",
      "2024-12-21 12:10:29.903251: I tensorflow/compiler/xla/stream_executor/cuda/cuda_gpu_executor.cc:981] successful NUMA node read from SysFS had negative value (-1), but there must be at least one NUMA node, so returning NUMA node zero\n",
      "2024-12-21 12:10:29.903335: I tensorflow/core/common_runtime/gpu/gpu_device.cc:1613] Created device /job:localhost/replica:0/task:0/device:GPU:0 with 6660 MB memory:  -> device: 0, name: NVIDIA GeForce RTX 2070, pci bus id: 0000:01:00.0, compute capability: 7.5\n",
      "All PyTorch model weights were used when initializing TFBertForSequenceClassification.\n",
      "\n",
      "Some weights or buffers of the TF 2.0 model TFBertForSequenceClassification were not initialized from the PyTorch model and are newly initialized: ['classifier.weight', 'classifier.bias']\n",
      "You should probably TRAIN this model on a down-stream task to be able to use it for predictions and inference.\n"
     ]
    }
   ],
   "source": [
    "model = TFBertForSequenceClassification.from_pretrained(\"bert-base-uncased\", num_labels=2)"
   ]
  },
  {
   "cell_type": "code",
   "execution_count": 12,
   "id": "6928b372-0472-42ab-b102-3bee2aa9523c",
   "metadata": {},
   "outputs": [
    {
     "name": "stdout",
     "output_type": "stream",
     "text": [
      "Model: \"tf_bert_for_sequence_classification\"\n",
      "_________________________________________________________________\n",
      " Layer (type)                Output Shape              Param #   \n",
      "=================================================================\n",
      " bert (TFBertMainLayer)      multiple                  109482240 \n",
      "                                                                 \n",
      " dropout_37 (Dropout)        multiple                  0 (unused)\n",
      "                                                                 \n",
      " classifier (Dense)          multiple                  1538      \n",
      "                                                                 \n",
      "=================================================================\n",
      "Total params: 109,483,778\n",
      "Trainable params: 109,483,778\n",
      "Non-trainable params: 0\n",
      "_________________________________________________________________\n"
     ]
    }
   ],
   "source": [
    "model.summary()"
   ]
  },
  {
   "cell_type": "code",
   "execution_count": 13,
   "id": "ebe7dff9-aa5e-426b-9d0d-9141045096fc",
   "metadata": {},
   "outputs": [],
   "source": [
    "optimizer = tf.keras.optimizers.Adam(2e-5)\n",
    "\n",
    "# note that TFBertForSequenceClassification returns logits (not softmax)\n",
    "loss = tf.keras.losses.BinaryCrossentropy(from_logits=True)"
   ]
  },
  {
   "cell_type": "code",
   "execution_count": 14,
   "id": "93b79385-dba3-49dd-b76b-5fc2209d3b7f",
   "metadata": {},
   "outputs": [],
   "source": [
    "model.compile(optimizer=optimizer, loss=loss, metrics=[\"accuracy\"])"
   ]
  },
  {
   "cell_type": "code",
   "execution_count": 15,
   "id": "bc84ff0b-f835-4a67-ad93-959a78ac8f4c",
   "metadata": {},
   "outputs": [
    {
     "name": "stdout",
     "output_type": "stream",
     "text": [
      "X_train: (3200, 30)\n",
      "y_train: (3200, 2)\n",
      "X_train: (800, 30)\n",
      "y_valid: (800, 2)\n",
      "X_train: (1000, 30)\n",
      "y_test: (1000, 2)\n"
     ]
    }
   ],
   "source": [
    "X_train = dict(X_tokenized[\"X_train\"])\n",
    "y_train = y_onehot[\"y_train\"]\n",
    "\n",
    "X_valid = dict(X_tokenized[\"X_valid\"])\n",
    "y_valid = y_onehot[\"y_valid\"]\n",
    "\n",
    "X_test = dict(X_tokenized[\"X_test\"])\n",
    "y_test = y_onehot[\"y_test\"]\n",
    "\n",
    "print(f\"X_train: {X_train['input_ids'].shape}\")\n",
    "print(f\"y_train: {y_train.shape}\")\n",
    "\n",
    "print(f\"X_train: {X_valid['input_ids'].shape}\")\n",
    "print(f\"y_valid: {y_valid.shape}\")\n",
    "\n",
    "print(f\"X_train: {X_test['input_ids'].shape}\")\n",
    "print(f\"y_test: {y_test.shape}\")"
   ]
  },
  {
   "cell_type": "code",
   "execution_count": 16,
   "id": "cb9a8648-5324-45f0-b954-655c9a587644",
   "metadata": {},
   "outputs": [],
   "source": [
    "ckpt_cb = tf.keras.callbacks.ModelCheckpoint(\n",
    "    filepath=ckpt_path,\n",
    "    monitor=\"val_loss\",\n",
    "    mode=\"min\", \n",
    "    save_best_only=True,\n",
    "    save_weights_only=True\n",
    ")\n",
    "es_cb = tf.keras.callbacks.EarlyStopping(patience=5, mode=\"min\", verbose=1)\n",
    "callbacks = [ckpt_cb, es_cb]"
   ]
  },
  {
   "cell_type": "code",
   "execution_count": 17,
   "id": "b2919ddf-5ffc-4828-9554-efaed3949db6",
   "metadata": {},
   "outputs": [
    {
     "name": "stdout",
     "output_type": "stream",
     "text": [
      "Epoch 1/10\n"
     ]
    },
    {
     "name": "stderr",
     "output_type": "stream",
     "text": [
      "2024-12-21 12:10:44.983502: I tensorflow/compiler/xla/service/service.cc:173] XLA service 0x1ea4d3e0 initialized for platform CUDA (this does not guarantee that XLA will be used). Devices:\n",
      "2024-12-21 12:10:44.983541: I tensorflow/compiler/xla/service/service.cc:181]   StreamExecutor device (0): NVIDIA GeForce RTX 2070, Compute Capability 7.5\n",
      "2024-12-21 12:10:44.986556: I tensorflow/compiler/mlir/tensorflow/utils/dump_mlir_util.cc:268] disabling MLIR crash reproducer, set env var `MLIR_CRASH_REPRODUCER_DIRECTORY` to enable.\n",
      "2024-12-21 12:10:45.081253: I tensorflow/compiler/jit/xla_compilation_cache.cc:477] Compiled cluster using XLA!  This line is logged at most once for the lifetime of the process.\n"
     ]
    },
    {
     "name": "stdout",
     "output_type": "stream",
     "text": [
      "25/25 [==============================] - 40s 620ms/step - loss: 0.5893 - accuracy: 0.6978 - val_loss: 0.4322 - val_accuracy: 0.8475\n",
      "Epoch 2/10\n",
      "25/25 [==============================] - 16s 646ms/step - loss: 0.3629 - accuracy: 0.8753 - val_loss: 0.3384 - val_accuracy: 0.8675\n",
      "Epoch 3/10\n",
      "25/25 [==============================] - 16s 645ms/step - loss: 0.2445 - accuracy: 0.9234 - val_loss: 0.3093 - val_accuracy: 0.8888\n",
      "Epoch 4/10\n",
      "25/25 [==============================] - 12s 477ms/step - loss: 0.1707 - accuracy: 0.9488 - val_loss: 0.3232 - val_accuracy: 0.8800\n",
      "Epoch 5/10\n",
      "25/25 [==============================] - 12s 477ms/step - loss: 0.1173 - accuracy: 0.9709 - val_loss: 0.3465 - val_accuracy: 0.8850\n",
      "Epoch 6/10\n",
      "25/25 [==============================] - 12s 479ms/step - loss: 0.0969 - accuracy: 0.9756 - val_loss: 0.3418 - val_accuracy: 0.8863\n",
      "Epoch 7/10\n",
      "25/25 [==============================] - 12s 481ms/step - loss: 0.0815 - accuracy: 0.9800 - val_loss: 0.3785 - val_accuracy: 0.8838\n",
      "Epoch 8/10\n",
      "25/25 [==============================] - 12s 481ms/step - loss: 0.0579 - accuracy: 0.9884 - val_loss: 0.4977 - val_accuracy: 0.8675\n",
      "Epoch 8: early stopping\n"
     ]
    }
   ],
   "source": [
    "history = model.fit(\n",
    "    x=dict(X_train),\n",
    "    y=y_train,\n",
    "    validation_data=(dict(X_valid), y_valid),\n",
    "    batch_size=128,\n",
    "    epochs=10,\n",
    "    callbacks=callbacks\n",
    ")"
   ]
  },
  {
   "cell_type": "code",
   "execution_count": null,
   "id": "70618348-75e8-44c6-ad0a-5ea77faa50c6",
   "metadata": {},
   "outputs": [],
   "source": []
  },
  {
   "cell_type": "markdown",
   "id": "2314b629-bb83-4068-84ee-0fbf150e647a",
   "metadata": {},
   "source": [
    "## Results"
   ]
  },
  {
   "cell_type": "markdown",
   "id": "49771cbc-0807-4ec1-ba8f-b32667df8923",
   "metadata": {},
   "source": [
    "### Train History"
   ]
  },
  {
   "cell_type": "code",
   "execution_count": 18,
   "id": "e0bc2527-9db2-4b3f-9462-ad67815aa31b",
   "metadata": {},
   "outputs": [
    {
     "data": {
      "text/plain": [
       "<matplotlib.legend.Legend at 0x7fbe306a8370>"
      ]
     },
     "execution_count": 18,
     "metadata": {},
     "output_type": "execute_result"
    },
    {
     "data": {
      "image/png": "[encoded data removed]",
      "text/plain": [
       "<Figure size 640x480 with 1 Axes>"
      ]
     },
     "metadata": {},
     "output_type": "display_data"
    }
   ],
   "source": [
    "train_loss = history.history[\"loss\"]\n",
    "valid_loss = history.history[\"val_loss\"]\n",
    "xticks = range(len(train_loss))\n",
    "\n",
    "fig, ax = plt.subplots(1, 1)\n",
    "ax.plot(xticks, train_loss, label=\"Train\")\n",
    "ax.plot(xticks, valid_loss, label=\"Valid\")\n",
    "ax.set_xlabel(\"Epoch\")\n",
    "ax.set_ylabel(\"Loss (Cross-Entropy)\")\n",
    "ax.set_xticks(xticks)\n",
    "ax.legend()"
   ]
  },
  {
   "cell_type": "code",
   "execution_count": null,
   "id": "d6d0f87e-a8b4-452c-9a3f-c278edea1cc1",
   "metadata": {},
   "outputs": [],
   "source": []
  },
  {
   "cell_type": "markdown",
   "id": "ab382763-4632-4a9e-853e-fceb651b8599",
   "metadata": {},
   "source": [
    "### Classification Results"
   ]
  },
  {
   "cell_type": "code",
   "execution_count": 19,
   "id": "62b1a7f0-66e4-4f60-8d60-1a17eeabcf75",
   "metadata": {},
   "outputs": [
    {
     "name": "stdout",
     "output_type": "stream",
     "text": [
      "25/25 [==============================] - 4s 142ms/step\n",
      "8/8 [==============================] - 3s 174ms/step\n"
     ]
    }
   ],
   "source": [
    "pred_logits_train = model.predict(X_train, batch_size=128)\n",
    "pred_logits_test = model.predict(X_test, batch_size=128)\n",
    "\n",
    "pred_probs_train = tf.nn.softmax(pred_logits_train.logits, axis=-1)\n",
    "pred_probs_test = tf.nn.softmax(pred_logits_test.logits, axis=-1)\n",
    "\n",
    "pred_train = tf.argmax(pred_probs_train, axis=-1).numpy()\n",
    "pred_test = tf.argmax(pred_probs_test, axis=-1).numpy()"
   ]
  },
  {
   "cell_type": "code",
   "execution_count": 20,
   "id": "6ddb559f-919f-46e1-a8f6-7aef3a01a63a",
   "metadata": {},
   "outputs": [],
   "source": [
    "pred_train = tf.argmax(pred_probs_train, axis=-1).numpy()\n",
    "pred_test = tf.argmax(pred_probs_test, axis=-1).numpy()"
   ]
  },
  {
   "cell_type": "code",
   "execution_count": 21,
   "id": "ecaad74d-439c-4e11-b703-df20112b27b6",
   "metadata": {},
   "outputs": [
    {
     "name": "stdout",
     "output_type": "stream",
     "text": [
      "              precision    recall  f1-score   support\n",
      "\n",
      "           0       0.99      0.98      0.98      1544\n",
      "           1       0.98      0.99      0.99      1656\n",
      "\n",
      "    accuracy                           0.98      3200\n",
      "   macro avg       0.99      0.98      0.98      3200\n",
      "weighted avg       0.98      0.98      0.98      3200\n",
      "\n"
     ]
    }
   ],
   "source": [
    "# note that classification_report takes class labels as the input (not one-hot encoded)\n",
    "\n",
    "print(classification_report(y_train_raw, pred_train))"
   ]
  },
  {
   "cell_type": "code",
   "execution_count": 22,
   "id": "9d1d3af2-9b59-493e-b856-237f8f8a7eb4",
   "metadata": {},
   "outputs": [
    {
     "name": "stdout",
     "output_type": "stream",
     "text": [
      "              precision    recall  f1-score   support\n",
      "\n",
      "           0       0.93      0.76      0.84       469\n",
      "           1       0.82      0.95      0.88       531\n",
      "\n",
      "    accuracy                           0.86      1000\n",
      "   macro avg       0.87      0.86      0.86      1000\n",
      "weighted avg       0.87      0.86      0.86      1000\n",
      "\n"
     ]
    }
   ],
   "source": [
    "# note that classification_report takes class labels as the input (not one-hot encoded)\n",
    "\n",
    "print(classification_report(y_test_raw, pred_test))"
   ]
  },
  {
   "cell_type": "code",
   "execution_count": null,
   "id": "c07ed5f2-6e80-47c3-83a7-0d14b04d8f8e",
   "metadata": {},
   "outputs": [],
   "source": []
  },
  {
   "cell_type": "code",
   "execution_count": null,
   "id": "9f45e566-fd9f-4d88-a297-65face1d26a0",
   "metadata": {},
   "outputs": [],
   "source": []
  },
  {
   "cell_type": "code",
   "execution_count": null,
   "id": "fdecdc89-12d6-4718-a727-31ac88b44c11",
   "metadata": {},
   "outputs": [],
   "source": []
  },
  {
   "cell_type": "code",
   "execution_count": null,
   "id": "5615b952-a133-48da-b1d0-fcfa05993825",
   "metadata": {},
   "outputs": [],
   "source": []
  }
 ],
 "metadata": {
  "kernelspec": {
   "display_name": "Python 3 (ipykernel)",
   "language": "python",
   "name": "python3"
  },
  "language_info": {
   "codemirror_mode": {
    "name": "ipython",
    "version": 3
   },
   "file_extension": ".py",
   "mimetype": "text/x-python",
   "name": "python",
   "nbconvert_exporter": "python",
   "pygments_lexer": "ipython3",
   "version": "3.8.10"
  }
 },
 "nbformat": 4,
 "nbformat_minor": 5
}
