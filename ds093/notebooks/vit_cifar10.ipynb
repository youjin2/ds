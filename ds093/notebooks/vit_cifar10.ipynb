{
 "cells": [
  {
   "cell_type": "code",
   "execution_count": null,
   "id": "05c1c282-57f9-4a8e-acbc-c04b1d81e921",
   "metadata": {},
   "outputs": [],
   "source": [
    "import sys\n",
    "sys.path.append(\"../\")"
   ]
  },
  {
   "cell_type": "code",
   "execution_count": null,
   "id": "31996cfe-6b02-4300-bd84-b20e9423adea",
   "metadata": {},
   "outputs": [],
   "source": [
    "import os\n",
    "import logging\n",
    "from typing import List, Tuple\n",
    "\n",
    "import numpy as np\n",
    "import tensorflow as tf\n",
    "from sklearn.model_selection import train_test_split\n",
    "\n",
    "from src.models.vit import (\n",
    "    PatcheLayer,\n",
    "    PatchEncodeLayer,\n",
    "    FeedForwardLayer,\n",
    "    EncoderLayer,\n",
    "    Encoder,\n",
    "    VisionTransformer,\n",
    ")\n",
    "from src.utils.logger import get_logger\n",
    "from src.utils.session import reset_session\n",
    "from src.utils.plot import plot_history\n",
    "\n",
    "import matplotlib.pyplot as plt\n",
    "from matplotlib.gridspec import GridSpec"
   ]
  },
  {
   "cell_type": "code",
   "execution_count": null,
   "id": "10d60772-6729-46b3-bb22-aeaee0d21145",
   "metadata": {},
   "outputs": [],
   "source": [
    "_ = get_logger()"
   ]
  },
  {
   "cell_type": "code",
   "execution_count": null,
   "id": "b4cffd50-11a1-42ab-a945-7db13657270a",
   "metadata": {},
   "outputs": [],
   "source": []
  },
  {
   "cell_type": "markdown",
   "id": "9cea2be2-7d92-4e91-8180-c4b278559b9d",
   "metadata": {},
   "source": [
    "## Load Dataset"
   ]
  },
  {
   "cell_type": "code",
   "execution_count": null,
   "id": "2d1a66c4-8dbc-4370-b91e-37c270ef2c62",
   "metadata": {},
   "outputs": [],
   "source": [
    "(X_train_raw, y_train_raw), (X_test_raw, y_test_raw) = tf.keras.datasets.cifar10.load_data()\n",
    "\n",
    "print(f\"X_train: {X_train_raw.shape}\")\n",
    "print(f\"y_train: {y_train_raw.shape}\")\n",
    "\n",
    "print(f\"X_test: {X_test_raw.shape}\")\n",
    "print(f\"y_test: {y_test_raw.shape}\")"
   ]
  },
  {
   "cell_type": "code",
   "execution_count": null,
   "id": "08473863-511e-4f76-9798-d3130fec5384",
   "metadata": {},
   "outputs": [],
   "source": []
  },
  {
   "cell_type": "markdown",
   "id": "cc836d8c-75d9-43c4-a88f-cb49d0300d6f",
   "metadata": {},
   "source": [
    "## Example: Patch Sequences"
   ]
  },
  {
   "cell_type": "code",
   "execution_count": null,
   "id": "78c251dc-da7f-4411-ad97-48bb14ccd515",
   "metadata": {},
   "outputs": [],
   "source": [
    "bs = 16\n",
    "ps = 4\n",
    "inputs = X_train_raw[:bs]\n",
    "targets = y_train_raw[:bs]\n",
    "\n",
    "layer_p = PatcheLayer(ps)\n",
    "patches = layer_p(inputs)"
   ]
  },
  {
   "cell_type": "code",
   "execution_count": null,
   "id": "d82731c8-61c5-472b-ad2c-10a61eb9471a",
   "metadata": {},
   "outputs": [],
   "source": [
    "def draw_patches(\n",
    "    raw: np.ndarray,\n",
    "    patches: np.ndarray,\n",
    "    patch_size: int = 4,\n",
    ") -> plt.Figure:\n",
    "    grid_size = int(raw.shape[0] / patch_size)\n",
    "    \n",
    "    fig = plt.figure()\n",
    "    subfigs = fig.subfigures(1, 2, width_ratios=(1, 1))\n",
    "    ax = subfigs[0].subplots(1, 1)\n",
    "    ax.imshow(raw)\n",
    "    ax.axis(\"off\")\n",
    "    \n",
    "    axs = subfigs[1].subplots(grid_size, grid_size)\n",
    "    for i, patch in enumerate(patches):\n",
    "        row, col = divmod(i, grid_size)\n",
    "        ax = axs[row, col]\n",
    "        ax.imshow(patch.reshape(patch_size, patch_size, -1))\n",
    "        ax.axis(\"off\")\n",
    "    \n",
    "    subfigs[0].suptitle(\"Original\", y=0.8)\n",
    "    \n",
    "    subfigs[1].suptitle(\"Patches\", y=0.8)\n",
    "    subfigs[1].subplots_adjust(top=0.76, bottom=0.23, wspace=0.1, hspace=0.1)\n",
    "    return fig"
   ]
  },
  {
   "cell_type": "code",
   "execution_count": null,
   "id": "8818caf4-4b45-43cc-9df8-950e6a826167",
   "metadata": {},
   "outputs": [],
   "source": [
    "i = 3\n",
    "ori = inputs[i]\n",
    "pcs = patches[i].numpy()\n",
    "_ = draw_patches(ori, pcs, patch_size=ps)"
   ]
  },
  {
   "cell_type": "code",
   "execution_count": null,
   "id": "c06c0eee-b9ca-4db7-9e3b-6aaf7a2e3d3f",
   "metadata": {},
   "outputs": [],
   "source": [
    "i = 7\n",
    "ori = inputs[i]\n",
    "pcs = patches[i].numpy()\n",
    "_ = draw_patches(ori, pcs, patch_size=ps)"
   ]
  },
  {
   "cell_type": "code",
   "execution_count": null,
   "id": "63385f53-93eb-47fe-b19f-0d92baf99a3d",
   "metadata": {},
   "outputs": [],
   "source": []
  },
  {
   "cell_type": "markdown",
   "id": "974990de-8b6d-421e-9425-d9618f5c0376",
   "metadata": {},
   "source": [
    "## Preprocess"
   ]
  },
  {
   "cell_type": "code",
   "execution_count": null,
   "id": "69889b69-1450-4242-b1d1-bb795e79c7f7",
   "metadata": {},
   "outputs": [],
   "source": [
    "X_train = X_train_raw / 255.\n",
    "X_test = X_test_raw / 255.\n",
    "\n",
    "y_train = y_train_raw.reshape(-1)\n",
    "y_test = y_test_raw.reshape(-1)"
   ]
  },
  {
   "cell_type": "code",
   "execution_count": null,
   "id": "91431f1b-000a-480e-8090-e2243aa18608",
   "metadata": {},
   "outputs": [],
   "source": [
    "X_train, X_valid, y_train, y_valid = train_test_split(\n",
    "    X_train,\n",
    "    y_train,\n",
    "    test_size=0.1,\n",
    "    random_state=1234\n",
    ")\n",
    "\n",
    "print(f\"X_train: {X_train.shape}\")\n",
    "print(f\"y_train: {y_train.shape}\")\n",
    "\n",
    "print(f\"X_valid: {X_valid.shape}\")\n",
    "print(f\"y_valid: {y_valid.shape}\")\n",
    "\n",
    "print(f\"X_test: {X_test.shape}\")\n",
    "print(f\"y_test: {y_test.shape}\")"
   ]
  },
  {
   "cell_type": "code",
   "execution_count": null,
   "id": "fbce36c5-3607-4cec-b85e-67d93fe51f15",
   "metadata": {},
   "outputs": [],
   "source": []
  },
  {
   "cell_type": "code",
   "execution_count": null,
   "id": "b0d42c80-f432-4633-a87a-0cefd9327778",
   "metadata": {},
   "outputs": [],
   "source": []
  },
  {
   "cell_type": "markdown",
   "id": "05a62fa9-8521-49f2-b3b2-db6fb4a79144",
   "metadata": {},
   "source": [
    "## Train model"
   ]
  },
  {
   "cell_type": "code",
   "execution_count": null,
   "id": "35b4a877-c8b6-4d9d-99cc-45b280f0363a",
   "metadata": {},
   "outputs": [],
   "source": [
    "# model config\n",
    "input_shape = tuple(X_train.shape[1:])\n",
    "num_classes = 10\n",
    "resize = 32\n",
    "patch_size = 4\n",
    "projection_dim = 64\n",
    "num_heads = 4\n",
    "num_encoder_blocks = 2\n",
    "mlp_hidden_units = [512, 128]\n",
    "dropout_rate = 0.1\n",
    "learning_rate = 1e-3\n",
    "\n",
    "\n",
    "# train config\n",
    "batch_size = 256\n",
    "epochs = 30\n",
    "\n",
    "base_model_dir = \"../model/\"\n",
    "os.makedirs(base_model_dir, exist_ok=True)\n",
    "ckpt_path = os.path.join(base_model_dir, \"vit_image_clf\", \"ckpt\")\n",
    "\n",
    "es_cb = tf.keras.callbacks.EarlyStopping(patience=10, mode=\"min\", verbose=1)\n",
    "ckpt_cb = tf.keras.callbacks.ModelCheckpoint(\n",
    "    filepath=ckpt_path,\n",
    "    mode=\"min\",\n",
    "    save_best_only=True,\n",
    "    save_weights_only=True,\n",
    "    verbose=1,    \n",
    ")\n",
    "callbacks = [es_cb, ckpt_cb]"
   ]
  },
  {
   "cell_type": "code",
   "execution_count": null,
   "id": "171b4cf7-32cd-49b0-9d45-d1b31c9873db",
   "metadata": {},
   "outputs": [],
   "source": [
    "reset_session()"
   ]
  },
  {
   "cell_type": "code",
   "execution_count": null,
   "id": "926fa45c-17af-4273-ab7f-69e944f1ed2e",
   "metadata": {},
   "outputs": [],
   "source": [
    "vit = VisionTransformer(\n",
    "    input_shape=input_shape,\n",
    "    num_classes=num_classes,\n",
    "    resize=resize,\n",
    "    patch_size=patch_size,\n",
    "    projection_dim=projection_dim,\n",
    "    num_heads=num_heads,\n",
    "    num_encoder_blocks=num_encoder_blocks,\n",
    "    mlp_hidden_units=mlp_hidden_units,\n",
    "    dropout_rate=dropout_rate,\n",
    "    learning_rate=learning_rate,\n",
    ")"
   ]
  },
  {
   "cell_type": "code",
   "execution_count": null,
   "id": "75f6895d-0921-41d0-bbb7-f639acaea999",
   "metadata": {},
   "outputs": [],
   "source": [
    "vit.build()"
   ]
  },
  {
   "cell_type": "code",
   "execution_count": null,
   "id": "5003ea2e-6c96-41c8-bb46-7343dd13274b",
   "metadata": {},
   "outputs": [],
   "source": [
    "model = vit.model"
   ]
  },
  {
   "cell_type": "code",
   "execution_count": null,
   "id": "2e661048-7d2f-451c-bc41-b6170285e0d9",
   "metadata": {},
   "outputs": [],
   "source": [
    "model.summary()"
   ]
  },
  {
   "cell_type": "code",
   "execution_count": null,
   "id": "0211523a-c9bb-437f-9eab-5052c966b0a9",
   "metadata": {},
   "outputs": [],
   "source": [
    "history = model.fit(\n",
    "    x=X_train,\n",
    "    y=y_train,\n",
    "    validation_data=(X_valid, y_valid),\n",
    "    batch_size=batch_size,\n",
    "    epochs=epochs,\n",
    "    callbacks=callbacks,\n",
    ")"
   ]
  },
  {
   "cell_type": "code",
   "execution_count": null,
   "id": "94bfd5b6-5570-47c2-988a-742f4a6843d8",
   "metadata": {},
   "outputs": [],
   "source": [
    "plot_history(history, ylabel=\"Cross-Entropy\")"
   ]
  },
  {
   "cell_type": "code",
   "execution_count": null,
   "id": "bcd2740d-2974-4bc6-b11f-cf20754fae82",
   "metadata": {},
   "outputs": [],
   "source": [
    "model.load_weights(ckpt_path)"
   ]
  },
  {
   "cell_type": "code",
   "execution_count": null,
   "id": "a454d243-a8a5-4e85-9e8c-961bb36c438d",
   "metadata": {},
   "outputs": [],
   "source": [
    "model.evaluate(X_train, y_train, batch_size=batch_size)"
   ]
  },
  {
   "cell_type": "code",
   "execution_count": null,
   "id": "39477c44-8ab6-4a96-b54f-e7b12b6cb2f3",
   "metadata": {},
   "outputs": [],
   "source": [
    "model.evaluate(X_test, y_test, batch_size=batch_size)"
   ]
  },
  {
   "cell_type": "code",
   "execution_count": null,
   "id": "7c3218bd-4607-4026-b0e5-8470f166f44a",
   "metadata": {},
   "outputs": [],
   "source": []
  },
  {
   "cell_type": "code",
   "execution_count": null,
   "id": "8337f9fa-d6f3-4a0e-af5f-294f54ad0d8d",
   "metadata": {},
   "outputs": [],
   "source": []
  },
  {
   "cell_type": "code",
   "execution_count": null,
   "id": "11ae9c0e-a904-40cc-bdbc-b27c0057cf18",
   "metadata": {},
   "outputs": [],
   "source": []
  },
  {
   "cell_type": "code",
   "execution_count": null,
   "id": "6ebd1b51-93d1-489d-8574-574ee38c11e2",
   "metadata": {},
   "outputs": [],
   "source": []
  },
  {
   "cell_type": "code",
   "execution_count": null,
   "id": "eb072726-7f8e-4b2d-9046-5be99af637b3",
   "metadata": {},
   "outputs": [],
   "source": [
    "# inps = X_train[:bs]\n",
    "# tars = y_train[:bs]\n",
    "# outs = vit.model(inps)\n",
    "# tf.keras.losses.SparseCategoricalCrossentropy()(tars, outs)"
   ]
  },
  {
   "cell_type": "code",
   "execution_count": null,
   "id": "01c2eb45-62b7-41e3-95c0-029b5c0b884d",
   "metadata": {},
   "outputs": [],
   "source": []
  },
  {
   "cell_type": "code",
   "execution_count": null,
   "id": "bb4feb69-7315-45a2-b0f7-b1598bd1a269",
   "metadata": {},
   "outputs": [],
   "source": []
  },
  {
   "cell_type": "code",
   "execution_count": null,
   "id": "c2c2f653-686d-4b1e-8436-aacba3e55f76",
   "metadata": {},
   "outputs": [],
   "source": []
  },
  {
   "cell_type": "code",
   "execution_count": null,
   "id": "adefc979-5b64-4ea1-8a16-926a95be897e",
   "metadata": {},
   "outputs": [],
   "source": []
  },
  {
   "cell_type": "code",
   "execution_count": null,
   "id": "41d79368-7e5e-44a2-9664-6e4c647fae3c",
   "metadata": {},
   "outputs": [],
   "source": []
  },
  {
   "cell_type": "code",
   "execution_count": null,
   "id": "6aa1e10b-23d9-4ca9-ba97-81e7888290a4",
   "metadata": {},
   "outputs": [],
   "source": []
  }
 ],
 "metadata": {
  "kernelspec": {
   "display_name": "Python 3 (ipykernel)",
   "language": "python",
   "name": "python3"
  },
  "language_info": {
   "codemirror_mode": {
    "name": "ipython",
    "version": 3
   },
   "file_extension": ".py",
   "mimetype": "text/x-python",
   "name": "python",
   "nbconvert_exporter": "python",
   "pygments_lexer": "ipython3",
   "version": "3.8.10"
  }
 },
 "nbformat": 4,
 "nbformat_minor": 5
}
