{
 "cells": [
  {
   "cell_type": "code",
   "execution_count": 1,
   "id": "05c1c282-57f9-4a8e-acbc-c04b1d81e921",
   "metadata": {},
   "outputs": [],
   "source": [
    "import sys\n",
    "sys.path.append(\"../\")"
   ]
  },
  {
   "cell_type": "code",
   "execution_count": 2,
   "id": "31996cfe-6b02-4300-bd84-b20e9423adea",
   "metadata": {},
   "outputs": [
    {
     "name": "stderr",
     "output_type": "stream",
     "text": [
      "2024-12-28 13:21:15.623620: I tensorflow/core/platform/cpu_feature_guard.cc:193] This TensorFlow binary is optimized with oneAPI Deep Neural Network Library (oneDNN) to use the following CPU instructions in performance-critical operations:  AVX2 FMA\n",
      "To enable them in other operations, rebuild TensorFlow with the appropriate compiler flags.\n"
     ]
    }
   ],
   "source": [
    "import os\n",
    "import logging\n",
    "from typing import List, Tuple\n",
    "\n",
    "import numpy as np\n",
    "import tensorflow as tf\n",
    "from sklearn.model_selection import train_test_split\n",
    "\n",
    "from src.models.vit import (\n",
    "    PatcheLayer,\n",
    "    PatchEncodeLayer,\n",
    "    FeedForwardLayer,\n",
    "    EncoderLayer,\n",
    "    Encoder,\n",
    "    VisionTransformer,\n",
    ")\n",
    "from src.utils.logger import get_logger\n",
    "from src.utils.session import reset_session\n",
    "from src.utils.plot import plot_history\n",
    "\n",
    "import matplotlib.pyplot as plt\n",
    "from matplotlib.gridspec import GridSpec"
   ]
  },
  {
   "cell_type": "code",
   "execution_count": 3,
   "id": "10d60772-6729-46b3-bb22-aeaee0d21145",
   "metadata": {},
   "outputs": [],
   "source": [
    "_ = get_logger()"
   ]
  },
  {
   "cell_type": "code",
   "execution_count": null,
   "id": "b4cffd50-11a1-42ab-a945-7db13657270a",
   "metadata": {},
   "outputs": [],
   "source": []
  },
  {
   "cell_type": "markdown",
   "id": "9cea2be2-7d92-4e91-8180-c4b278559b9d",
   "metadata": {},
   "source": [
    "## Load Dataset"
   ]
  },
  {
   "cell_type": "code",
   "execution_count": 4,
   "id": "2d1a66c4-8dbc-4370-b91e-37c270ef2c62",
   "metadata": {},
   "outputs": [
    {
     "name": "stdout",
     "output_type": "stream",
     "text": [
      "X_train: (50000, 32, 32, 3)\n",
      "y_train: (50000, 1)\n",
      "X_test: (10000, 32, 32, 3)\n",
      "y_test: (10000, 1)\n"
     ]
    }
   ],
   "source": [
    "(X_train_raw, y_train_raw), (X_test_raw, y_test_raw) = tf.keras.datasets.cifar10.load_data()\n",
    "\n",
    "print(f\"X_train: {X_train_raw.shape}\")\n",
    "print(f\"y_train: {y_train_raw.shape}\")\n",
    "\n",
    "print(f\"X_test: {X_test_raw.shape}\")\n",
    "print(f\"y_test: {y_test_raw.shape}\")"
   ]
  },
  {
   "cell_type": "code",
   "execution_count": null,
   "id": "08473863-511e-4f76-9798-d3130fec5384",
   "metadata": {},
   "outputs": [],
   "source": []
  },
  {
   "cell_type": "markdown",
   "id": "cc836d8c-75d9-43c4-a88f-cb49d0300d6f",
   "metadata": {},
   "source": [
    "## Example: Patch Sequences"
   ]
  },
  {
   "cell_type": "code",
   "execution_count": 5,
   "id": "78c251dc-da7f-4411-ad97-48bb14ccd515",
   "metadata": {},
   "outputs": [
    {
     "name": "stderr",
     "output_type": "stream",
     "text": [
      "2024-12-28 13:21:18.213590: I tensorflow/compiler/xla/stream_executor/cuda/cuda_gpu_executor.cc:981] successful NUMA node read from SysFS had negative value (-1), but there must be at least one NUMA node, so returning NUMA node zero\n",
      "2024-12-28 13:21:18.215354: I tensorflow/compiler/xla/stream_executor/cuda/cuda_gpu_executor.cc:981] successful NUMA node read from SysFS had negative value (-1), but there must be at least one NUMA node, so returning NUMA node zero\n",
      "2024-12-28 13:21:18.215467: I tensorflow/compiler/xla/stream_executor/cuda/cuda_gpu_executor.cc:981] successful NUMA node read from SysFS had negative value (-1), but there must be at least one NUMA node, so returning NUMA node zero\n",
      "2024-12-28 13:21:18.216163: I tensorflow/core/platform/cpu_feature_guard.cc:193] This TensorFlow binary is optimized with oneAPI Deep Neural Network Library (oneDNN) to use the following CPU instructions in performance-critical operations:  AVX2 FMA\n",
      "To enable them in other operations, rebuild TensorFlow with the appropriate compiler flags.\n",
      "2024-12-28 13:21:18.216401: I tensorflow/compiler/xla/stream_executor/cuda/cuda_gpu_executor.cc:981] successful NUMA node read from SysFS had negative value (-1), but there must be at least one NUMA node, so returning NUMA node zero\n",
      "2024-12-28 13:21:18.216515: I tensorflow/compiler/xla/stream_executor/cuda/cuda_gpu_executor.cc:981] successful NUMA node read from SysFS had negative value (-1), but there must be at least one NUMA node, so returning NUMA node zero\n",
      "2024-12-28 13:21:18.216617: I tensorflow/compiler/xla/stream_executor/cuda/cuda_gpu_executor.cc:981] successful NUMA node read from SysFS had negative value (-1), but there must be at least one NUMA node, so returning NUMA node zero\n",
      "2024-12-28 13:21:18.551168: I tensorflow/compiler/xla/stream_executor/cuda/cuda_gpu_executor.cc:981] successful NUMA node read from SysFS had negative value (-1), but there must be at least one NUMA node, so returning NUMA node zero\n",
      "2024-12-28 13:21:18.551310: I tensorflow/compiler/xla/stream_executor/cuda/cuda_gpu_executor.cc:981] successful NUMA node read from SysFS had negative value (-1), but there must be at least one NUMA node, so returning NUMA node zero\n",
      "2024-12-28 13:21:18.551408: I tensorflow/compiler/xla/stream_executor/cuda/cuda_gpu_executor.cc:981] successful NUMA node read from SysFS had negative value (-1), but there must be at least one NUMA node, so returning NUMA node zero\n",
      "2024-12-28 13:21:18.551493: I tensorflow/core/common_runtime/gpu/gpu_device.cc:1613] Created device /job:localhost/replica:0/task:0/device:GPU:0 with 6660 MB memory:  -> device: 0, name: NVIDIA GeForce RTX 2070, pci bus id: 0000:01:00.0, compute capability: 7.5\n"
     ]
    }
   ],
   "source": [
    "bs = 16\n",
    "ps = 4\n",
    "inputs = X_train_raw[:bs]\n",
    "targets = y_train_raw[:bs]\n",
    "\n",
    "layer_p = PatcheLayer(ps)\n",
    "patches = layer_p(inputs)"
   ]
  },
  {
   "cell_type": "code",
   "execution_count": 6,
   "id": "d82731c8-61c5-472b-ad2c-10a61eb9471a",
   "metadata": {},
   "outputs": [],
   "source": [
    "def draw_patches(\n",
    "    raw: np.ndarray,\n",
    "    patches: np.ndarray,\n",
    "    patch_size: int = 4,\n",
    ") -> plt.Figure:\n",
    "    grid_size = int(raw.shape[0] / patch_size)\n",
    "    \n",
    "    fig = plt.figure()\n",
    "    subfigs = fig.subfigures(1, 2, width_ratios=(1, 1))\n",
    "    ax = subfigs[0].subplots(1, 1)\n",
    "    ax.imshow(raw)\n",
    "    ax.axis(\"off\")\n",
    "    \n",
    "    axs = subfigs[1].subplots(grid_size, grid_size)\n",
    "    for i, patch in enumerate(patches):\n",
    "        row, col = divmod(i, grid_size)\n",
    "        ax = axs[row, col]\n",
    "        ax.imshow(patch.reshape(patch_size, patch_size, -1))\n",
    "        ax.axis(\"off\")\n",
    "    \n",
    "    subfigs[0].suptitle(\"Original\", y=0.8)\n",
    "    \n",
    "    subfigs[1].suptitle(\"Patches\", y=0.8)\n",
    "    subfigs[1].subplots_adjust(top=0.76, bottom=0.23, wspace=0.1, hspace=0.1)\n",
    "    return fig"
   ]
  },
  {
   "cell_type": "code",
   "execution_count": 7,
   "id": "8818caf4-4b45-43cc-9df8-950e6a826167",
   "metadata": {},
   "outputs": [
    {
     "data": {
      "image/png": "[encoded data removed]",
      "text/plain": [
       "<Figure size 640x480 with 65 Axes>"
      ]
     },
     "metadata": {},
     "output_type": "display_data"
    }
   ],
   "source": [
    "i = 3\n",
    "ori = inputs[i]\n",
    "pcs = patches[i].numpy()\n",
    "_ = draw_patches(ori, pcs, patch_size=ps)"
   ]
  },
  {
   "cell_type": "code",
   "execution_count": 8,
   "id": "c06c0eee-b9ca-4db7-9e3b-6aaf7a2e3d3f",
   "metadata": {},
   "outputs": [
    {
     "data": {
      "image/png": "[encoded data removed]",
      "text/plain": [
       "<Figure size 640x480 with 65 Axes>"
      ]
     },
     "metadata": {},
     "output_type": "display_data"
    }
   ],
   "source": [
    "i = 7\n",
    "ori = inputs[i]\n",
    "pcs = patches[i].numpy()\n",
    "_ = draw_patches(ori, pcs, patch_size=ps)"
   ]
  },
  {
   "cell_type": "code",
   "execution_count": null,
   "id": "63385f53-93eb-47fe-b19f-0d92baf99a3d",
   "metadata": {},
   "outputs": [],
   "source": []
  },
  {
   "cell_type": "markdown",
   "id": "974990de-8b6d-421e-9425-d9618f5c0376",
   "metadata": {},
   "source": [
    "## Preprocess"
   ]
  },
  {
   "cell_type": "code",
   "execution_count": 9,
   "id": "69889b69-1450-4242-b1d1-bb795e79c7f7",
   "metadata": {},
   "outputs": [],
   "source": [
    "X_train = X_train_raw / 255.\n",
    "X_test = X_test_raw / 255.\n",
    "\n",
    "y_train = y_train_raw.reshape(-1)\n",
    "y_test = y_test_raw.reshape(-1)"
   ]
  },
  {
   "cell_type": "code",
   "execution_count": 10,
   "id": "91431f1b-000a-480e-8090-e2243aa18608",
   "metadata": {},
   "outputs": [
    {
     "name": "stdout",
     "output_type": "stream",
     "text": [
      "X_train: (45000, 32, 32, 3)\n",
      "y_train: (45000,)\n",
      "X_valid: (5000, 32, 32, 3)\n",
      "y_valid: (5000,)\n",
      "X_test: (10000, 32, 32, 3)\n",
      "y_test: (10000,)\n"
     ]
    }
   ],
   "source": [
    "X_train, X_valid, y_train, y_valid = train_test_split(\n",
    "    X_train,\n",
    "    y_train,\n",
    "    test_size=0.1,\n",
    "    random_state=1234\n",
    ")\n",
    "\n",
    "print(f\"X_train: {X_train.shape}\")\n",
    "print(f\"y_train: {y_train.shape}\")\n",
    "\n",
    "print(f\"X_valid: {X_valid.shape}\")\n",
    "print(f\"y_valid: {y_valid.shape}\")\n",
    "\n",
    "print(f\"X_test: {X_test.shape}\")\n",
    "print(f\"y_test: {y_test.shape}\")"
   ]
  },
  {
   "cell_type": "code",
   "execution_count": null,
   "id": "fbce36c5-3607-4cec-b85e-67d93fe51f15",
   "metadata": {},
   "outputs": [],
   "source": []
  },
  {
   "cell_type": "code",
   "execution_count": null,
   "id": "b0d42c80-f432-4633-a87a-0cefd9327778",
   "metadata": {},
   "outputs": [],
   "source": []
  },
  {
   "cell_type": "markdown",
   "id": "05a62fa9-8521-49f2-b3b2-db6fb4a79144",
   "metadata": {},
   "source": [
    "## Train model"
   ]
  },
  {
   "cell_type": "code",
   "execution_count": 11,
   "id": "35b4a877-c8b6-4d9d-99cc-45b280f0363a",
   "metadata": {},
   "outputs": [],
   "source": [
    "# model config\n",
    "input_shape = tuple(X_train.shape[1:])\n",
    "num_classes = 10\n",
    "resize = 32\n",
    "patch_size = 4\n",
    "projection_dim = 128\n",
    "num_heads = 4\n",
    "num_encoder_blocks = 2\n",
    "mlp_hidden_units = [512, 128]\n",
    "dropout_rate = 0.2\n",
    "learning_rate = 1e-4\n",
    "\n",
    "\n",
    "# train config\n",
    "batch_size = 256\n",
    "epochs = 30\n",
    "\n",
    "base_model_dir = \"../model/\"\n",
    "os.makedirs(base_model_dir, exist_ok=True)\n",
    "ckpt_path = os.path.join(base_model_dir, \"vit_image_clf\", \"ckpt\")\n",
    "\n",
    "es_cb = tf.keras.callbacks.EarlyStopping(patience=10, mode=\"min\", verbose=1)\n",
    "ckpt_cb = tf.keras.callbacks.ModelCheckpoint(\n",
    "    filepath=ckpt_path,\n",
    "    mode=\"min\",\n",
    "    save_best_only=True,\n",
    "    save_weights_only=True,\n",
    "    verbose=1,    \n",
    ")\n",
    "callbacks = [es_cb, ckpt_cb]"
   ]
  },
  {
   "cell_type": "code",
   "execution_count": 12,
   "id": "171b4cf7-32cd-49b0-9d45-d1b31c9873db",
   "metadata": {},
   "outputs": [],
   "source": [
    "reset_session()"
   ]
  },
  {
   "cell_type": "code",
   "execution_count": 13,
   "id": "926fa45c-17af-4273-ab7f-69e944f1ed2e",
   "metadata": {},
   "outputs": [],
   "source": [
    "vit = VisionTransformer(\n",
    "    input_shape=input_shape,\n",
    "    num_classes=num_classes,\n",
    "    resize=resize,\n",
    "    patch_size=patch_size,\n",
    "    projection_dim=projection_dim,\n",
    "    num_heads=num_heads,\n",
    "    num_encoder_blocks=num_encoder_blocks,\n",
    "    mlp_hidden_units=mlp_hidden_units,\n",
    "    dropout_rate=dropout_rate,\n",
    "    learning_rate=learning_rate,\n",
    ")"
   ]
  },
  {
   "cell_type": "code",
   "execution_count": 14,
   "id": "75f6895d-0921-41d0-bbb7-f639acaea999",
   "metadata": {},
   "outputs": [],
   "source": [
    "vit.build()"
   ]
  },
  {
   "cell_type": "code",
   "execution_count": 15,
   "id": "5003ea2e-6c96-41c8-bb46-7343dd13274b",
   "metadata": {},
   "outputs": [],
   "source": [
    "model = vit.model"
   ]
  },
  {
   "cell_type": "code",
   "execution_count": 16,
   "id": "2e661048-7d2f-451c-bc41-b6170285e0d9",
   "metadata": {},
   "outputs": [
    {
     "name": "stdout",
     "output_type": "stream",
     "text": [
      "Model: \"model\"\n",
      "_________________________________________________________________\n",
      " Layer (type)                Output Shape              Param #   \n",
      "=================================================================\n",
      " input_1 (InputLayer)        [(None, 32, 32, 3)]       0         \n",
      "                                                                 \n",
      " resizing (Resizing)         (None, 32, 32, 3)         0         \n",
      "                                                                 \n",
      " encoder (Encoder)           (None, 64, 128)           674944    \n",
      "                                                                 \n",
      " layer_normalization_4 (Laye  (None, 64, 128)          256       \n",
      " rNormalization)                                                 \n",
      "                                                                 \n",
      " flatten (Flatten)           (None, 8192)              0         \n",
      "                                                                 \n",
      " dropout_4 (Dropout)         (None, 8192)              0         \n",
      "                                                                 \n",
      " feed_forward_layer_2 (FeedF  (None, 128)              4260480   \n",
      " orwardLayer)                                                    \n",
      "                                                                 \n",
      " dense_7 (Dense)             (None, 10)                1290      \n",
      "                                                                 \n",
      "=================================================================\n",
      "Total params: 4,936,970\n",
      "Trainable params: 4,936,970\n",
      "Non-trainable params: 0\n",
      "_________________________________________________________________\n"
     ]
    }
   ],
   "source": [
    "model.summary()"
   ]
  },
  {
   "cell_type": "code",
   "execution_count": 17,
   "id": "0211523a-c9bb-437f-9eab-5052c966b0a9",
   "metadata": {},
   "outputs": [
    {
     "name": "stdout",
     "output_type": "stream",
     "text": [
      "Epoch 1/30\n"
     ]
    },
    {
     "name": "stderr",
     "output_type": "stream",
     "text": [
      "2024-12-28 13:21:25.994729: I tensorflow/compiler/xla/stream_executor/cuda/cuda_dnn.cc:428] Loaded cuDNN version 8100\n",
      "2024-12-28 13:21:26.025967: I tensorflow/compiler/xla/service/service.cc:173] XLA service 0x7ff3c96d2a90 initialized for platform CUDA (this does not guarantee that XLA will be used). Devices:\n",
      "2024-12-28 13:21:26.025993: I tensorflow/compiler/xla/service/service.cc:181]   StreamExecutor device (0): NVIDIA GeForce RTX 2070, Compute Capability 7.5\n",
      "2024-12-28 13:21:26.028899: I tensorflow/compiler/mlir/tensorflow/utils/dump_mlir_util.cc:268] disabling MLIR crash reproducer, set env var `MLIR_CRASH_REPRODUCER_DIRECTORY` to enable.\n",
      "2024-12-28 13:21:26.121387: I tensorflow/compiler/jit/xla_compilation_cache.cc:477] Compiled cluster using XLA!  This line is logged at most once for the lifetime of the process.\n"
     ]
    },
    {
     "name": "stdout",
     "output_type": "stream",
     "text": [
      "175/176 [============================>.] - ETA: 0s - loss: 2.0779 - accuracy: 0.2434   \n",
      "Epoch 1: val_loss improved from inf to 1.78700, saving model to ../model/vit_image_clf/ckpt\n",
      "176/176 [==============================] - 15s 50ms/step - loss: 2.0767 - accuracy: 0.2440 - val_loss: 1.7870 - val_accuracy: 0.3604\n",
      "Epoch 2/30\n",
      "175/176 [============================>.] - ETA: 0s - loss: 1.7590 - accuracy: 0.3649\n",
      "Epoch 2: val_loss improved from 1.78700 to 1.55852, saving model to ../model/vit_image_clf/ckpt\n",
      "176/176 [==============================] - 8s 48ms/step - loss: 1.7584 - accuracy: 0.3652 - val_loss: 1.5585 - val_accuracy: 0.4274\n",
      "Epoch 3/30\n",
      "175/176 [============================>.] - ETA: 0s - loss: 1.5914 - accuracy: 0.4263\n",
      "Epoch 3: val_loss improved from 1.55852 to 1.46354, saving model to ../model/vit_image_clf/ckpt\n",
      "176/176 [==============================] - 8s 48ms/step - loss: 1.5915 - accuracy: 0.4265 - val_loss: 1.4635 - val_accuracy: 0.4774\n",
      "Epoch 4/30\n",
      "175/176 [============================>.] - ETA: 0s - loss: 1.4874 - accuracy: 0.4682\n",
      "Epoch 4: val_loss improved from 1.46354 to 1.36152, saving model to ../model/vit_image_clf/ckpt\n",
      "176/176 [==============================] - 8s 48ms/step - loss: 1.4867 - accuracy: 0.4686 - val_loss: 1.3615 - val_accuracy: 0.5096\n",
      "Epoch 5/30\n",
      "175/176 [============================>.] - ETA: 0s - loss: 1.3994 - accuracy: 0.4976\n",
      "Epoch 5: val_loss improved from 1.36152 to 1.30965, saving model to ../model/vit_image_clf/ckpt\n",
      "176/176 [==============================] - 8s 48ms/step - loss: 1.3990 - accuracy: 0.4978 - val_loss: 1.3097 - val_accuracy: 0.5246\n",
      "Epoch 6/30\n",
      "175/176 [============================>.] - ETA: 0s - loss: 1.3285 - accuracy: 0.5268\n",
      "Epoch 6: val_loss improved from 1.30965 to 1.26409, saving model to ../model/vit_image_clf/ckpt\n",
      "176/176 [==============================] - 8s 47ms/step - loss: 1.3286 - accuracy: 0.5269 - val_loss: 1.2641 - val_accuracy: 0.5434\n",
      "Epoch 7/30\n",
      "175/176 [============================>.] - ETA: 0s - loss: 1.2648 - accuracy: 0.5483\n",
      "Epoch 7: val_loss improved from 1.26409 to 1.23174, saving model to ../model/vit_image_clf/ckpt\n",
      "176/176 [==============================] - 8s 48ms/step - loss: 1.2647 - accuracy: 0.5483 - val_loss: 1.2317 - val_accuracy: 0.5572\n",
      "Epoch 8/30\n",
      "175/176 [============================>.] - ETA: 0s - loss: 1.2087 - accuracy: 0.5688\n",
      "Epoch 8: val_loss did not improve from 1.23174\n",
      "176/176 [==============================] - 8s 46ms/step - loss: 1.2081 - accuracy: 0.5690 - val_loss: 1.2886 - val_accuracy: 0.5416\n",
      "Epoch 9/30\n",
      "175/176 [============================>.] - ETA: 0s - loss: 1.1509 - accuracy: 0.5903\n",
      "Epoch 9: val_loss improved from 1.23174 to 1.17004, saving model to ../model/vit_image_clf/ckpt\n",
      "176/176 [==============================] - 8s 48ms/step - loss: 1.1511 - accuracy: 0.5902 - val_loss: 1.1700 - val_accuracy: 0.5904\n",
      "Epoch 10/30\n",
      "175/176 [============================>.] - ETA: 0s - loss: 1.0995 - accuracy: 0.6096\n",
      "Epoch 10: val_loss improved from 1.17004 to 1.15432, saving model to ../model/vit_image_clf/ckpt\n",
      "176/176 [==============================] - 8s 48ms/step - loss: 1.0992 - accuracy: 0.6098 - val_loss: 1.1543 - val_accuracy: 0.5916\n",
      "Epoch 11/30\n",
      "175/176 [============================>.] - ETA: 0s - loss: 1.0512 - accuracy: 0.6276\n",
      "Epoch 11: val_loss improved from 1.15432 to 1.14465, saving model to ../model/vit_image_clf/ckpt\n",
      "176/176 [==============================] - 8s 48ms/step - loss: 1.0511 - accuracy: 0.6275 - val_loss: 1.1446 - val_accuracy: 0.6022\n",
      "Epoch 12/30\n",
      "175/176 [============================>.] - ETA: 0s - loss: 1.0088 - accuracy: 0.6390\n",
      "Epoch 12: val_loss improved from 1.14465 to 1.09963, saving model to ../model/vit_image_clf/ckpt\n",
      "176/176 [==============================] - 8s 48ms/step - loss: 1.0080 - accuracy: 0.6393 - val_loss: 1.0996 - val_accuracy: 0.6190\n",
      "Epoch 13/30\n",
      "176/176 [==============================] - ETA: 0s - loss: 0.9617 - accuracy: 0.6590\n",
      "Epoch 13: val_loss improved from 1.09963 to 1.07896, saving model to ../model/vit_image_clf/ckpt\n",
      "176/176 [==============================] - 8s 48ms/step - loss: 0.9617 - accuracy: 0.6590 - val_loss: 1.0790 - val_accuracy: 0.6290\n",
      "Epoch 14/30\n",
      "175/176 [============================>.] - ETA: 0s - loss: 0.9119 - accuracy: 0.6757\n",
      "Epoch 14: val_loss improved from 1.07896 to 1.07343, saving model to ../model/vit_image_clf/ckpt\n",
      "176/176 [==============================] - 8s 48ms/step - loss: 0.9117 - accuracy: 0.6757 - val_loss: 1.0734 - val_accuracy: 0.6298\n",
      "Epoch 15/30\n",
      "175/176 [============================>.] - ETA: 0s - loss: 0.8791 - accuracy: 0.6871\n",
      "Epoch 15: val_loss improved from 1.07343 to 1.04664, saving model to ../model/vit_image_clf/ckpt\n",
      "176/176 [==============================] - 8s 48ms/step - loss: 0.8791 - accuracy: 0.6871 - val_loss: 1.0466 - val_accuracy: 0.6410\n",
      "Epoch 16/30\n",
      "175/176 [============================>.] - ETA: 0s - loss: 0.8275 - accuracy: 0.7050\n",
      "Epoch 16: val_loss did not improve from 1.04664\n",
      "176/176 [==============================] - 8s 46ms/step - loss: 0.8282 - accuracy: 0.7048 - val_loss: 1.0547 - val_accuracy: 0.6326\n",
      "Epoch 17/30\n",
      "176/176 [==============================] - ETA: 0s - loss: 0.7883 - accuracy: 0.7209\n",
      "Epoch 17: val_loss did not improve from 1.04664\n",
      "176/176 [==============================] - 8s 46ms/step - loss: 0.7883 - accuracy: 0.7209 - val_loss: 1.0601 - val_accuracy: 0.6368\n",
      "Epoch 18/30\n",
      "175/176 [============================>.] - ETA: 0s - loss: 0.7484 - accuracy: 0.7341\n",
      "Epoch 18: val_loss improved from 1.04664 to 1.02637, saving model to ../model/vit_image_clf/ckpt\n",
      "176/176 [==============================] - 8s 48ms/step - loss: 0.7487 - accuracy: 0.7340 - val_loss: 1.0264 - val_accuracy: 0.6530\n",
      "Epoch 19/30\n",
      "175/176 [============================>.] - ETA: 0s - loss: 0.7047 - accuracy: 0.7476\n",
      "Epoch 19: val_loss improved from 1.02637 to 1.02160, saving model to ../model/vit_image_clf/ckpt\n",
      "176/176 [==============================] - 8s 48ms/step - loss: 0.7054 - accuracy: 0.7474 - val_loss: 1.0216 - val_accuracy: 0.6556\n",
      "Epoch 20/30\n",
      "175/176 [============================>.] - ETA: 0s - loss: 0.6749 - accuracy: 0.7608\n",
      "Epoch 20: val_loss did not improve from 1.02160\n",
      "176/176 [==============================] - 8s 46ms/step - loss: 0.6754 - accuracy: 0.7607 - val_loss: 1.0408 - val_accuracy: 0.6550\n",
      "Epoch 21/30\n",
      "176/176 [==============================] - ETA: 0s - loss: 0.6293 - accuracy: 0.7773\n",
      "Epoch 21: val_loss did not improve from 1.02160\n",
      "176/176 [==============================] - 8s 47ms/step - loss: 0.6293 - accuracy: 0.7773 - val_loss: 1.0499 - val_accuracy: 0.6542\n",
      "Epoch 22/30\n",
      "176/176 [==============================] - ETA: 0s - loss: 0.5974 - accuracy: 0.7885\n",
      "Epoch 22: val_loss did not improve from 1.02160\n",
      "176/176 [==============================] - 8s 46ms/step - loss: 0.5974 - accuracy: 0.7885 - val_loss: 1.0452 - val_accuracy: 0.6608\n",
      "Epoch 23/30\n",
      "175/176 [============================>.] - ETA: 0s - loss: 0.5670 - accuracy: 0.7988\n",
      "Epoch 23: val_loss did not improve from 1.02160\n",
      "176/176 [==============================] - 8s 47ms/step - loss: 0.5673 - accuracy: 0.7985 - val_loss: 1.0299 - val_accuracy: 0.6714\n",
      "Epoch 24/30\n",
      "176/176 [==============================] - ETA: 0s - loss: 0.5311 - accuracy: 0.8118\n",
      "Epoch 24: val_loss did not improve from 1.02160\n",
      "176/176 [==============================] - 8s 46ms/step - loss: 0.5311 - accuracy: 0.8118 - val_loss: 1.0672 - val_accuracy: 0.6612\n",
      "Epoch 25/30\n",
      "175/176 [============================>.] - ETA: 0s - loss: 0.5067 - accuracy: 0.8219\n",
      "Epoch 25: val_loss did not improve from 1.02160\n",
      "176/176 [==============================] - 8s 46ms/step - loss: 0.5074 - accuracy: 0.8216 - val_loss: 1.0616 - val_accuracy: 0.6636\n",
      "Epoch 26/30\n",
      "176/176 [==============================] - ETA: 0s - loss: 0.4775 - accuracy: 0.8311\n",
      "Epoch 26: val_loss did not improve from 1.02160\n",
      "176/176 [==============================] - 8s 46ms/step - loss: 0.4775 - accuracy: 0.8311 - val_loss: 1.0698 - val_accuracy: 0.6694\n",
      "Epoch 27/30\n",
      "176/176 [==============================] - ETA: 0s - loss: 0.4454 - accuracy: 0.8446\n",
      "Epoch 27: val_loss did not improve from 1.02160\n",
      "176/176 [==============================] - 8s 46ms/step - loss: 0.4454 - accuracy: 0.8446 - val_loss: 1.0831 - val_accuracy: 0.6762\n",
      "Epoch 28/30\n",
      "176/176 [==============================] - ETA: 0s - loss: 0.4192 - accuracy: 0.8516\n",
      "Epoch 28: val_loss did not improve from 1.02160\n",
      "176/176 [==============================] - 8s 47ms/step - loss: 0.4192 - accuracy: 0.8516 - val_loss: 1.0966 - val_accuracy: 0.6686\n",
      "Epoch 29/30\n",
      "176/176 [==============================] - ETA: 0s - loss: 0.3976 - accuracy: 0.8600\n",
      "Epoch 29: val_loss did not improve from 1.02160\n",
      "176/176 [==============================] - 8s 47ms/step - loss: 0.3976 - accuracy: 0.8600 - val_loss: 1.1119 - val_accuracy: 0.6768\n",
      "Epoch 29: early stopping\n"
     ]
    }
   ],
   "source": [
    "history = model.fit(\n",
    "    x=X_train,\n",
    "    y=y_train,\n",
    "    validation_data=(X_valid, y_valid),\n",
    "    batch_size=batch_size,\n",
    "    epochs=epochs,\n",
    "    callbacks=callbacks,\n",
    ")"
   ]
  },
  {
   "cell_type": "code",
   "execution_count": 18,
   "id": "94bfd5b6-5570-47c2-988a-742f4a6843d8",
   "metadata": {},
   "outputs": [
    {
     "data": {
      "text/plain": [
       "(<Figure size 640x480 with 1 Axes>,\n",
       " <Axes: xlabel='Epoch', ylabel='Cross-Entropy'>)"
      ]
     },
     "execution_count": 18,
     "metadata": {},
     "output_type": "execute_result"
    },
    {
     "data": {
      "image/png": "[encoded data removed]",
      "text/plain": [
       "<Figure size 640x480 with 1 Axes>"
      ]
     },
     "metadata": {},
     "output_type": "display_data"
    }
   ],
   "source": [
    "plot_history(history, ylabel=\"Cross-Entropy\")"
   ]
  },
  {
   "cell_type": "code",
   "execution_count": 19,
   "id": "bcd2740d-2974-4bc6-b11f-cf20754fae82",
   "metadata": {},
   "outputs": [
    {
     "data": {
      "text/plain": [
       "<tensorflow.python.checkpoint.checkpoint.CheckpointLoadStatus at 0x7ff6c7d4d340>"
      ]
     },
     "execution_count": 19,
     "metadata": {},
     "output_type": "execute_result"
    }
   ],
   "source": [
    "model.load_weights(ckpt_path)"
   ]
  },
  {
   "cell_type": "code",
   "execution_count": 20,
   "id": "a454d243-a8a5-4e85-9e8c-961bb36c438d",
   "metadata": {},
   "outputs": [
    {
     "name": "stdout",
     "output_type": "stream",
     "text": [
      "176/176 [==============================] - 4s 24ms/step - loss: 0.4297 - accuracy: 0.8644\n"
     ]
    },
    {
     "data": {
      "text/plain": [
       "[0.42967525124549866, 0.8644222021102905]"
      ]
     },
     "execution_count": 20,
     "metadata": {},
     "output_type": "execute_result"
    }
   ],
   "source": [
    "model.evaluate(X_train, y_train, batch_size=batch_size)"
   ]
  },
  {
   "cell_type": "code",
   "execution_count": 21,
   "id": "39477c44-8ab6-4a96-b54f-e7b12b6cb2f3",
   "metadata": {},
   "outputs": [
    {
     "name": "stdout",
     "output_type": "stream",
     "text": [
      "40/40 [==============================] - 1s 23ms/step - loss: 0.9975 - accuracy: 0.6589\n"
     ]
    },
    {
     "data": {
      "text/plain": [
       "[0.997506856918335, 0.6589000225067139]"
      ]
     },
     "execution_count": 21,
     "metadata": {},
     "output_type": "execute_result"
    }
   ],
   "source": [
    "model.evaluate(X_test, y_test, batch_size=batch_size)"
   ]
  },
  {
   "cell_type": "code",
   "execution_count": null,
   "id": "7c3218bd-4607-4026-b0e5-8470f166f44a",
   "metadata": {},
   "outputs": [],
   "source": []
  },
  {
   "cell_type": "code",
   "execution_count": null,
   "id": "8337f9fa-d6f3-4a0e-af5f-294f54ad0d8d",
   "metadata": {},
   "outputs": [],
   "source": []
  },
  {
   "cell_type": "code",
   "execution_count": null,
   "id": "6ebd1b51-93d1-489d-8574-574ee38c11e2",
   "metadata": {},
   "outputs": [],
   "source": []
  },
  {
   "cell_type": "code",
   "execution_count": 22,
   "id": "eb072726-7f8e-4b2d-9046-5be99af637b3",
   "metadata": {},
   "outputs": [],
   "source": [
    "# inps = X_train[:bs]\n",
    "# tars = y_train[:bs]\n",
    "# outs = vit.model(inps)\n",
    "# tf.keras.losses.SparseCategoricalCrossentropy()(tars, outs)"
   ]
  },
  {
   "cell_type": "code",
   "execution_count": null,
   "id": "01c2eb45-62b7-41e3-95c0-029b5c0b884d",
   "metadata": {},
   "outputs": [],
   "source": []
  },
  {
   "cell_type": "code",
   "execution_count": null,
   "id": "bb4feb69-7315-45a2-b0f7-b1598bd1a269",
   "metadata": {},
   "outputs": [],
   "source": []
  },
  {
   "cell_type": "code",
   "execution_count": null,
   "id": "c2c2f653-686d-4b1e-8436-aacba3e55f76",
   "metadata": {},
   "outputs": [],
   "source": []
  },
  {
   "cell_type": "code",
   "execution_count": null,
   "id": "7d184e7a-fea8-4209-a565-16bb1961a255",
   "metadata": {},
   "outputs": [],
   "source": []
  }
 ],
 "metadata": {
  "kernelspec": {
   "display_name": "Python 3 (ipykernel)",
   "language": "python",
   "name": "python3"
  },
  "language_info": {
   "codemirror_mode": {
    "name": "ipython",
    "version": 3
   },
   "file_extension": ".py",
   "mimetype": "text/x-python",
   "name": "python",
   "nbconvert_exporter": "python",
   "pygments_lexer": "ipython3",
   "version": "3.8.10"
  }
 },
 "nbformat": 4,
 "nbformat_minor": 5
}
