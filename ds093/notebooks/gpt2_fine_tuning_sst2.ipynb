{
 "cells": [
  {
   "cell_type": "code",
   "execution_count": 1,
   "id": "872a822a-bf6d-4067-8cbe-80cd2a57eb8b",
   "metadata": {},
   "outputs": [],
   "source": [
    "import sys\n",
    "sys.path.append(\"../\")"
   ]
  },
  {
   "cell_type": "code",
   "execution_count": 2,
   "id": "6faaf31d-2873-4798-85f6-371de0aacf68",
   "metadata": {},
   "outputs": [
    {
     "name": "stderr",
     "output_type": "stream",
     "text": [
      "2024-12-22 12:22:32.131604: I tensorflow/core/platform/cpu_feature_guard.cc:193] This TensorFlow binary is optimized with oneAPI Deep Neural Network Library (oneDNN) to use the following CPU instructions in performance-critical operations:  AVX2 FMA\n",
      "To enable them in other operations, rebuild TensorFlow with the appropriate compiler flags.\n"
     ]
    }
   ],
   "source": [
    "import os\n",
    "from typing import Dict\n",
    "\n",
    "import numpy as np\n",
    "import pandas as pd\n",
    "import tensorflow as tf\n",
    "from transformers import AutoTokenizer, TFGPT2ForSequenceClassification\n",
    "from sklearn.linear_model import LogisticRegression\n",
    "from sklearn.metrics import classification_report\n",
    "from tqdm import tqdm\n",
    "import matplotlib.pyplot as plt\n",
    "\n",
    "from src.datasets.sst2 import load_sst2\n",
    "from src.utils.logger import get_logger\n",
    "from src.utils.session import reset_session"
   ]
  },
  {
   "cell_type": "code",
   "execution_count": 3,
   "id": "c0dcade6-5887-4a4e-9427-3180c681f4ec",
   "metadata": {},
   "outputs": [],
   "source": [
    "_ = get_logger()"
   ]
  },
  {
   "cell_type": "code",
   "execution_count": 4,
   "id": "64bfde04-77a8-40d9-87ff-842420aa83a3",
   "metadata": {},
   "outputs": [],
   "source": [
    "# in case of OOM\n",
    "\n",
    "# option1: FP16 precision\n",
    "# tf.keras.mixed_precision.set_global_policy(\"mixed_float16\")\n",
    "\n",
    "# option2: decrease batch size\n",
    "# batch_size = 4 ~ 8\n",
    "\n",
    "# option3: disable GPU\n",
    "# os.environ[\"CUDA_VISIBLE_DEVICES\"] = \"-1\""
   ]
  },
  {
   "cell_type": "code",
   "execution_count": null,
   "id": "920c62f4-f95b-45da-9c04-b4ce8fc1aa6f",
   "metadata": {},
   "outputs": [],
   "source": []
  },
  {
   "cell_type": "markdown",
   "id": "09f199da-0705-4698-bccb-9632f84a83d9",
   "metadata": {},
   "source": [
    "## Config"
   ]
  },
  {
   "cell_type": "code",
   "execution_count": 5,
   "id": "48771cf5-a212-465f-a53b-a6fcb3627a11",
   "metadata": {},
   "outputs": [],
   "source": [
    "base_model_dir = \"../model/\"\n",
    "os.makedirs(base_model_dir, exist_ok=True)\n",
    "\n",
    "# pretrained model name\n",
    "pt_model_name = \"microsoft/DialogRPT-updown\"\n",
    "\n",
    "# fine tunining model checkpoint name\n",
    "ckpt_path = os.path.join(base_model_dir, \"gpt2_fine_tune_sst2\", \"ckpt\")"
   ]
  },
  {
   "cell_type": "code",
   "execution_count": null,
   "id": "f3e298be-b045-42a9-859a-0e90505e48f4",
   "metadata": {},
   "outputs": [],
   "source": []
  },
  {
   "cell_type": "markdown",
   "id": "3d3e3d6e-29c7-4945-bb8d-b940eb832fd6",
   "metadata": {},
   "source": [
    "## Load Dataset"
   ]
  },
  {
   "cell_type": "code",
   "execution_count": 6,
   "id": "323ee6b0-cda0-4d43-be5d-16e8eb98d2d4",
   "metadata": {},
   "outputs": [
    {
     "name": "stderr",
     "output_type": "stream",
     "text": [
      "[INFO] num train: 3200 (data.py:33)\n",
      "[INFO] num valid: 800 (data.py:34)\n",
      "[INFO] num test: 1000 (data.py:35)\n"
     ]
    }
   ],
   "source": [
    "(X_train_raw, y_train_raw), (X_valid_raw, y_valid_raw), (X_test_raw, y_test_raw) = load_sst2(\n",
    "    num_sample=5000,\n",
    "    val_split=True,\n",
    ")\n",
    "\n",
    "X_raw = {\n",
    "    \"X_train\": X_train_raw,\n",
    "    \"X_valid\": X_valid_raw,\n",
    "    \"X_test\": X_test_raw,\n",
    "}\n",
    "\n",
    "y_raw = {\n",
    "    \"y_train\": y_train_raw,\n",
    "    \"y_valid\": y_valid_raw,\n",
    "    \"y_test\": y_test_raw,\n",
    "}"
   ]
  },
  {
   "cell_type": "code",
   "execution_count": null,
   "id": "5781e83a-961c-4be9-8f91-c1d6956e8592",
   "metadata": {},
   "outputs": [],
   "source": []
  },
  {
   "cell_type": "markdown",
   "id": "64f2467b-d067-41ba-b7a7-904db06c444d",
   "metadata": {},
   "source": [
    "## Preproess\n",
    "<!-- - we will use last hidden states to  -->"
   ]
  },
  {
   "cell_type": "markdown",
   "id": "a8b4d686-6e2e-4d32-b449-cd767a56f62a",
   "metadata": {},
   "source": [
    "### Tokenize input sentences"
   ]
  },
  {
   "cell_type": "code",
   "execution_count": 7,
   "id": "07468439-4547-4b6f-8029-4374c46060ca",
   "metadata": {},
   "outputs": [
    {
     "name": "stderr",
     "output_type": "stream",
     "text": [
      "/usr/local/lib/python3.8/dist-packages/huggingface_hub/file_download.py:795: FutureWarning: `resume_download` is deprecated and will be removed in version 1.0.0. Downloads always resume when possible. If you want to force a new download, use `force_download=True`.\n",
      "  warnings.warn(\n"
     ]
    }
   ],
   "source": [
    "tokenizer = AutoTokenizer.from_pretrained(pt_model_name)"
   ]
  },
  {
   "cell_type": "code",
   "execution_count": 8,
   "id": "a170c522-fd11-4006-9777-ca60e2456134",
   "metadata": {},
   "outputs": [],
   "source": [
    "\"\"\"\n",
    "Args:\n",
    " - return_tensors: returns numpy array\n",
    " - max_length: limit the maximum length of sentence as 30\n",
    " - padding: fill with zeros if len(sentence) < max_length\n",
    " - truncation: truncate if len(sentence) > max_length\n",
    "\n",
    "Outputs:\n",
    " - input_ids: tokenized input ids\n",
    " - attention_mask: 0 if input_ids[i] = [PAD], 1 otherwise\n",
    "\"\"\"\n",
    "\n",
    "X_tokenized = {\n",
    "    k: tokenizer(v.tolist(), return_tensors=\"np\", max_length=30, padding=\"max_length\", truncation=True)\n",
    "    for k, v in X_raw.items()\n",
    "}"
   ]
  },
  {
   "cell_type": "code",
   "execution_count": 9,
   "id": "fe72a3f6-ef51-40ec-a5a3-35e209249991",
   "metadata": {},
   "outputs": [
    {
     "name": "stdout",
     "output_type": "stream",
     "text": [
      "==>\n",
      "[Raw]\n",
      "\ta meditation on faith and madness , frailty is blood curdling stuff\n",
      "[Token ids]\n",
      "\t[   64 16901   319  4562   290 23208   837  5306  6267   318  2910  1090\n",
      "    67  1359  3404 50256 50256 50256 50256 50256 50256 50256 50256 50256\n",
      " 50256 50256 50256 50256 50256 50256]\n",
      "[Ids to token (convert)]\n",
      "\ta Ġmeditation Ġon Ġfaith Ġand Ġmadness Ġ, Ġfra ilty Ġis Ġblood Ġcur d ling Ġstuff <|endoftext|> <|endoftext|> <|endoftext|> <|endoftext|> <|endoftext|> <|endoftext|> <|endoftext|> <|endoftext|> <|endoftext|> <|endoftext|> <|endoftext|> <|endoftext|> <|endoftext|> <|endoftext|> <|endoftext|>\n",
      "[Ids to token (decode)]\n",
      "\ta meditation on faith and madness, frailty is blood curdling stuff<|endoftext|><|endoftext|><|endoftext|><|endoftext|><|endoftext|><|endoftext|><|endoftext|><|endoftext|><|endoftext|><|endoftext|><|endoftext|><|endoftext|><|endoftext|><|endoftext|><|endoftext|>\n",
      "[Attention Mask]\n",
      "\t[1 1 1 1 1 1 1 1 1 1 1 1 1 1 1 0 0 0 0 0 0 0 0 0 0 0 0 0 0 0]\n",
      "\n",
      "==>\n",
      "[Raw]\n",
      "\thas all the hallmarks of a movie designed strictly for children 's home video , a market so insatiable it absorbs all manner of lame entertainment , as long as 3 year olds find it diverting\n",
      "[Token ids]\n",
      "\t[10134   477   262  6899 14306   286   257  3807  3562 14084   329  1751\n",
      "   705    82  1363  2008   837   257  1910   523  1035   265  3379   340\n",
      " 42909   477  5642   286 30248  9739]\n",
      "[Ids to token (convert)]\n",
      "\thas Ġall Ġthe Ġhall marks Ġof Ġa Ġmovie Ġdesigned Ġstrictly Ġfor Ġchildren Ġ' s Ġhome Ġvideo Ġ, Ġa Ġmarket Ġso Ġins at iable Ġit Ġabsorbs Ġall Ġmanner Ġof Ġlame Ġentertainment\n",
      "[Ids to token (decode)]\n",
      "\thas all the hallmarks of a movie designed strictly for children's home video, a market so insatiable it absorbs all manner of lame entertainment\n",
      "[Attention Mask]\n",
      "\t[1 1 1 1 1 1 1 1 1 1 1 1 1 1 1 1 1 1 1 1 1 1 1 1 1 1 1 1 1 1]\n",
      "\n",
      "==>\n",
      "[Raw]\n",
      "\twithout lrb de niro rrb , city by the sea would slip under the waves\n",
      "[Token ids]\n",
      "\t[19419   300 26145   390   299  7058   374 26145   837  1748   416   262\n",
      "  5417   561 13819   739   262  9813 50256 50256 50256 50256 50256 50256\n",
      " 50256 50256 50256 50256 50256 50256]\n",
      "[Ids to token (convert)]\n",
      "\twithout Ġl rb Ġde Ġn iro Ġr rb Ġ, Ġcity Ġby Ġthe Ġsea Ġwould Ġslip Ġunder Ġthe Ġwaves <|endoftext|> <|endoftext|> <|endoftext|> <|endoftext|> <|endoftext|> <|endoftext|> <|endoftext|> <|endoftext|> <|endoftext|> <|endoftext|> <|endoftext|> <|endoftext|>\n",
      "[Ids to token (decode)]\n",
      "\twithout lrb de niro rrb, city by the sea would slip under the waves<|endoftext|><|endoftext|><|endoftext|><|endoftext|><|endoftext|><|endoftext|><|endoftext|><|endoftext|><|endoftext|><|endoftext|><|endoftext|><|endoftext|>\n",
      "[Attention Mask]\n",
      "\t[1 1 1 1 1 1 1 1 1 1 1 1 1 1 1 1 1 1 0 0 0 0 0 0 0 0 0 0 0 0]\n",
      "\n",
      "==>\n",
      "[Raw]\n",
      "\tthis version does justice both to stevenson and to the sci fi genre\n",
      "[Token ids]\n",
      "\t[ 5661  2196   857  5316  1111   284  2876   574  1559   290   284   262\n",
      " 20681 25912 12121 50256 50256 50256 50256 50256 50256 50256 50256 50256\n",
      " 50256 50256 50256 50256 50256 50256]\n",
      "[Ids to token (convert)]\n",
      "\tthis Ġversion Ġdoes Ġjustice Ġboth Ġto Ġste ven son Ġand Ġto Ġthe Ġsci Ġfi Ġgenre <|endoftext|> <|endoftext|> <|endoftext|> <|endoftext|> <|endoftext|> <|endoftext|> <|endoftext|> <|endoftext|> <|endoftext|> <|endoftext|> <|endoftext|> <|endoftext|> <|endoftext|> <|endoftext|> <|endoftext|>\n",
      "[Ids to token (decode)]\n",
      "\tthis version does justice both to stevenson and to the sci fi genre<|endoftext|><|endoftext|><|endoftext|><|endoftext|><|endoftext|><|endoftext|><|endoftext|><|endoftext|><|endoftext|><|endoftext|><|endoftext|><|endoftext|><|endoftext|><|endoftext|><|endoftext|>\n",
      "[Attention Mask]\n",
      "\t[1 1 1 1 1 1 1 1 1 1 1 1 1 1 1 0 0 0 0 0 0 0 0 0 0 0 0 0 0 0]\n",
      "\n"
     ]
    }
   ],
   "source": [
    "for i in [0, 10, 13, 20]:\n",
    "    tmp_raw = X_raw[\"X_train\"][i]\n",
    "    tmp_tokenized = X_tokenized[\"X_train\"]\n",
    "    tmp_ids = tmp_tokenized[\"input_ids\"][i]\n",
    "    tmp_att_msk = tmp_tokenized[\"attention_mask\"][i]\n",
    "\n",
    "    print(\"==>\")\n",
    "    print(f\"[Raw]\\n\\t{tmp_raw}\")\n",
    "    print(f\"[Token ids]\\n\\t{tmp_ids}\")\n",
    "    print(f\"[Ids to token (convert)]\\n\\t{' '.join(tokenizer.convert_ids_to_tokens(tmp_ids))}\")\n",
    "    print(f\"[Ids to token (decode)]\\n\\t{tokenizer.decode(tmp_ids)}\")\n",
    "    print(f\"[Attention Mask]\\n\\t{tmp_att_msk}\")\n",
    "    print()"
   ]
  },
  {
   "cell_type": "code",
   "execution_count": null,
   "id": "df5a5ab0-680b-45ec-87d2-7b6296838ad4",
   "metadata": {},
   "outputs": [],
   "source": []
  },
  {
   "cell_type": "markdown",
   "id": "a6e03552-c3a4-4a85-b117-e8e15ef9cdd8",
   "metadata": {},
   "source": [
    "### One-hot encode labels\n",
    "Since `TFGPT2ForSequenceClassification` returns logits with shape=(batch_size, 1), we don't need to one-hot encode y-labels here"
   ]
  },
  {
   "cell_type": "code",
   "execution_count": 10,
   "id": "80af9867-7c44-493f-bf70-133e756738bd",
   "metadata": {},
   "outputs": [],
   "source": [
    "# y_onehot = {\n",
    "#     k: tf.keras.utils.to_categorical(v)\n",
    "#     for k, v in y_raw.items()\n",
    "# }"
   ]
  },
  {
   "cell_type": "code",
   "execution_count": null,
   "id": "ee012d81-ce28-4cab-a065-56b35f0a6090",
   "metadata": {},
   "outputs": [],
   "source": []
  },
  {
   "cell_type": "markdown",
   "id": "4abc5c89-85ab-4acb-bd22-c68d06de5868",
   "metadata": {},
   "source": [
    "## Train model"
   ]
  },
  {
   "cell_type": "code",
   "execution_count": 11,
   "id": "ec495e02-01e8-4f4e-ae0b-59de646d4feb",
   "metadata": {},
   "outputs": [],
   "source": [
    "reset_session()"
   ]
  },
  {
   "cell_type": "code",
   "execution_count": 12,
   "id": "9a640e40-4cb4-4097-84dd-f738760a031c",
   "metadata": {},
   "outputs": [
    {
     "name": "stderr",
     "output_type": "stream",
     "text": [
      "2024-12-22 12:22:37.481123: I tensorflow/compiler/xla/stream_executor/cuda/cuda_gpu_executor.cc:981] successful NUMA node read from SysFS had negative value (-1), but there must be at least one NUMA node, so returning NUMA node zero\n",
      "2024-12-22 12:22:37.482707: I tensorflow/compiler/xla/stream_executor/cuda/cuda_gpu_executor.cc:981] successful NUMA node read from SysFS had negative value (-1), but there must be at least one NUMA node, so returning NUMA node zero\n",
      "2024-12-22 12:22:37.482809: I tensorflow/compiler/xla/stream_executor/cuda/cuda_gpu_executor.cc:981] successful NUMA node read from SysFS had negative value (-1), but there must be at least one NUMA node, so returning NUMA node zero\n",
      "2024-12-22 12:22:37.483072: I tensorflow/core/platform/cpu_feature_guard.cc:193] This TensorFlow binary is optimized with oneAPI Deep Neural Network Library (oneDNN) to use the following CPU instructions in performance-critical operations:  AVX2 FMA\n",
      "To enable them in other operations, rebuild TensorFlow with the appropriate compiler flags.\n",
      "2024-12-22 12:22:37.483351: I tensorflow/compiler/xla/stream_executor/cuda/cuda_gpu_executor.cc:981] successful NUMA node read from SysFS had negative value (-1), but there must be at least one NUMA node, so returning NUMA node zero\n",
      "2024-12-22 12:22:37.483453: I tensorflow/compiler/xla/stream_executor/cuda/cuda_gpu_executor.cc:981] successful NUMA node read from SysFS had negative value (-1), but there must be at least one NUMA node, so returning NUMA node zero\n",
      "2024-12-22 12:22:37.483543: I tensorflow/compiler/xla/stream_executor/cuda/cuda_gpu_executor.cc:981] successful NUMA node read from SysFS had negative value (-1), but there must be at least one NUMA node, so returning NUMA node zero\n",
      "2024-12-22 12:22:37.823592: I tensorflow/compiler/xla/stream_executor/cuda/cuda_gpu_executor.cc:981] successful NUMA node read from SysFS had negative value (-1), but there must be at least one NUMA node, so returning NUMA node zero\n",
      "2024-12-22 12:22:37.823736: I tensorflow/compiler/xla/stream_executor/cuda/cuda_gpu_executor.cc:981] successful NUMA node read from SysFS had negative value (-1), but there must be at least one NUMA node, so returning NUMA node zero\n",
      "2024-12-22 12:22:37.823834: I tensorflow/compiler/xla/stream_executor/cuda/cuda_gpu_executor.cc:981] successful NUMA node read from SysFS had negative value (-1), but there must be at least one NUMA node, so returning NUMA node zero\n",
      "2024-12-22 12:22:37.823918: I tensorflow/core/common_runtime/gpu/gpu_device.cc:1613] Created device /job:localhost/replica:0/task:0/device:GPU:0 with 6660 MB memory:  -> device: 0, name: NVIDIA GeForce RTX 2070, pci bus id: 0000:01:00.0, compute capability: 7.5\n",
      "All PyTorch model weights were used when initializing TFGPT2ForSequenceClassification.\n",
      "\n",
      "All the weights of TFGPT2ForSequenceClassification were initialized from the PyTorch model.\n",
      "If your task is similar to the task the model of the checkpoint was trained on, you can already use TFGPT2ForSequenceClassification for predictions without further training.\n"
     ]
    }
   ],
   "source": [
    "model = TFGPT2ForSequenceClassification.from_pretrained(pt_model_name, from_pt=True)"
   ]
  },
  {
   "cell_type": "code",
   "execution_count": 13,
   "id": "6928b372-0472-42ab-b102-3bee2aa9523c",
   "metadata": {},
   "outputs": [
    {
     "name": "stdout",
     "output_type": "stream",
     "text": [
      "Model: \"tfgpt2_for_sequence_classification\"\n",
      "_________________________________________________________________\n",
      " Layer (type)                Output Shape              Param #   \n",
      "=================================================================\n",
      " score (Dense)               multiple                  1024      \n",
      "                                                                 \n",
      " transformer (TFGPT2MainLaye  multiple                 354823168 \n",
      " r)                                                              \n",
      "                                                                 \n",
      "=================================================================\n",
      "Total params: 354,824,192\n",
      "Trainable params: 354,824,192\n",
      "Non-trainable params: 0\n",
      "_________________________________________________________________\n"
     ]
    }
   ],
   "source": [
    "model.summary()"
   ]
  },
  {
   "cell_type": "code",
   "execution_count": 14,
   "id": "ebe7dff9-aa5e-426b-9d0d-9141045096fc",
   "metadata": {},
   "outputs": [],
   "source": [
    "optimizer = tf.keras.optimizers.Adam(2e-5)\n",
    "\n",
    "# note that TFBertForSequenceClassification returns logits (not softmax)\n",
    "loss = tf.keras.losses.BinaryCrossentropy(from_logits=True)"
   ]
  },
  {
   "cell_type": "code",
   "execution_count": 15,
   "id": "93b79385-dba3-49dd-b76b-5fc2209d3b7f",
   "metadata": {},
   "outputs": [],
   "source": [
    "model.compile(optimizer=optimizer, loss=loss, metrics=[\"accuracy\"])"
   ]
  },
  {
   "cell_type": "code",
   "execution_count": 16,
   "id": "bc84ff0b-f835-4a67-ad93-959a78ac8f4c",
   "metadata": {},
   "outputs": [
    {
     "name": "stdout",
     "output_type": "stream",
     "text": [
      "X_train: (3200, 30)\n",
      "y_train: (3200,)\n",
      "X_train: (800, 30)\n",
      "y_valid: (800,)\n",
      "X_train: (1000, 30)\n",
      "y_test: (1000,)\n"
     ]
    }
   ],
   "source": [
    "X_train = dict(X_tokenized[\"X_train\"])\n",
    "y_train = y_raw[\"y_train\"]\n",
    "\n",
    "X_valid = dict(X_tokenized[\"X_valid\"])\n",
    "y_valid = y_raw[\"y_valid\"]\n",
    "\n",
    "X_test = dict(X_tokenized[\"X_test\"])\n",
    "y_test = y_raw[\"y_test\"]\n",
    "\n",
    "print(f\"X_train: {X_train['input_ids'].shape}\")\n",
    "print(f\"y_train: {y_train.shape}\")\n",
    "\n",
    "print(f\"X_train: {X_valid['input_ids'].shape}\")\n",
    "print(f\"y_valid: {y_valid.shape}\")\n",
    "\n",
    "print(f\"X_train: {X_test['input_ids'].shape}\")\n",
    "print(f\"y_test: {y_test.shape}\")"
   ]
  },
  {
   "cell_type": "code",
   "execution_count": 17,
   "id": "d6e31360-f868-47b8-afcf-aedadd5d65fc",
   "metadata": {},
   "outputs": [],
   "source": [
    "batch_size = 4\n",
    "epochs = 10"
   ]
  },
  {
   "cell_type": "code",
   "execution_count": 18,
   "id": "cb9a8648-5324-45f0-b954-655c9a587644",
   "metadata": {},
   "outputs": [],
   "source": [
    "ckpt_cb = tf.keras.callbacks.ModelCheckpoint(\n",
    "    filepath=ckpt_path,\n",
    "    monitor=\"val_loss\",\n",
    "    mode=\"min\", \n",
    "    save_best_only=True,\n",
    "    save_weights_only=True\n",
    ")\n",
    "es_cb = tf.keras.callbacks.EarlyStopping(patience=5, mode=\"min\", verbose=1)\n",
    "callbacks = [ckpt_cb, es_cb]"
   ]
  },
  {
   "cell_type": "code",
   "execution_count": 19,
   "id": "b2919ddf-5ffc-4828-9554-efaed3949db6",
   "metadata": {},
   "outputs": [
    {
     "name": "stdout",
     "output_type": "stream",
     "text": [
      "Epoch 1/10\n"
     ]
    },
    {
     "name": "stderr",
     "output_type": "stream",
     "text": [
      "2024-12-22 12:23:01.899407: I tensorflow/compiler/xla/service/service.cc:173] XLA service 0x425f6420 initialized for platform CUDA (this does not guarantee that XLA will be used). Devices:\n",
      "2024-12-22 12:23:01.899432: I tensorflow/compiler/xla/service/service.cc:181]   StreamExecutor device (0): NVIDIA GeForce RTX 2070, Compute Capability 7.5\n",
      "2024-12-22 12:23:01.902776: I tensorflow/compiler/mlir/tensorflow/utils/dump_mlir_util.cc:268] disabling MLIR crash reproducer, set env var `MLIR_CRASH_REPRODUCER_DIRECTORY` to enable.\n",
      "2024-12-22 12:23:01.997371: I tensorflow/compiler/jit/xla_compilation_cache.cc:477] Compiled cluster using XLA!  This line is logged at most once for the lifetime of the process.\n"
     ]
    },
    {
     "name": "stdout",
     "output_type": "stream",
     "text": [
      "800/800 [==============================] - 129s 113ms/step - loss: 0.3942 - accuracy: 0.8144 - val_loss: 0.2598 - val_accuracy: 0.8988\n",
      "Epoch 2/10\n",
      "800/800 [==============================] - 85s 106ms/step - loss: 0.1421 - accuracy: 0.9506 - val_loss: 0.2449 - val_accuracy: 0.9038\n",
      "Epoch 3/10\n",
      "800/800 [==============================] - 74s 92ms/step - loss: 0.0575 - accuracy: 0.9797 - val_loss: 0.3403 - val_accuracy: 0.8813\n",
      "Epoch 4/10\n",
      "800/800 [==============================] - 74s 92ms/step - loss: 0.0296 - accuracy: 0.9894 - val_loss: 0.3511 - val_accuracy: 0.9038\n",
      "Epoch 5/10\n",
      "800/800 [==============================] - 74s 93ms/step - loss: 0.0206 - accuracy: 0.9947 - val_loss: 0.4074 - val_accuracy: 0.9025\n",
      "Epoch 6/10\n",
      "800/800 [==============================] - 74s 93ms/step - loss: 0.0180 - accuracy: 0.9944 - val_loss: 0.4072 - val_accuracy: 0.8913\n",
      "Epoch 7/10\n",
      "800/800 [==============================] - 74s 93ms/step - loss: 0.0192 - accuracy: 0.9931 - val_loss: 0.4410 - val_accuracy: 0.8863\n",
      "Epoch 7: early stopping\n"
     ]
    }
   ],
   "source": [
    "history = model.fit(\n",
    "    x=X_train,\n",
    "    y=y_train,\n",
    "    validation_data=(X_valid, y_valid),\n",
    "    batch_size=batch_size,\n",
    "    epochs=epochs,\n",
    "    callbacks=callbacks\n",
    ")"
   ]
  },
  {
   "cell_type": "code",
   "execution_count": null,
   "id": "70618348-75e8-44c6-ad0a-5ea77faa50c6",
   "metadata": {},
   "outputs": [],
   "source": []
  },
  {
   "cell_type": "markdown",
   "id": "2314b629-bb83-4068-84ee-0fbf150e647a",
   "metadata": {},
   "source": [
    "## Results"
   ]
  },
  {
   "cell_type": "markdown",
   "id": "49771cbc-0807-4ec1-ba8f-b32667df8923",
   "metadata": {},
   "source": [
    "### Train History"
   ]
  },
  {
   "cell_type": "code",
   "execution_count": 20,
   "id": "e0bc2527-9db2-4b3f-9462-ad67815aa31b",
   "metadata": {},
   "outputs": [
    {
     "data": {
      "text/plain": [
       "<matplotlib.legend.Legend at 0x7f158c0a3640>"
      ]
     },
     "execution_count": 20,
     "metadata": {},
     "output_type": "execute_result"
    },
    {
     "data": {
      "image/png": "[encoded data removed]",
      "text/plain": [
       "<Figure size 640x480 with 1 Axes>"
      ]
     },
     "metadata": {},
     "output_type": "display_data"
    }
   ],
   "source": [
    "train_loss = history.history[\"loss\"]\n",
    "valid_loss = history.history[\"val_loss\"]\n",
    "xticks = range(len(train_loss))\n",
    "\n",
    "fig, ax = plt.subplots(1, 1)\n",
    "ax.plot(xticks, train_loss, label=\"Train\")\n",
    "ax.plot(xticks, valid_loss, label=\"Valid\")\n",
    "ax.set_xlabel(\"Epoch\")\n",
    "ax.set_ylabel(\"Loss (Cross-Entropy)\")\n",
    "ax.set_xticks(xticks)\n",
    "ax.legend()"
   ]
  },
  {
   "cell_type": "code",
   "execution_count": null,
   "id": "d6d0f87e-a8b4-452c-9a3f-c278edea1cc1",
   "metadata": {},
   "outputs": [],
   "source": []
  },
  {
   "cell_type": "markdown",
   "id": "ab382763-4632-4a9e-853e-fceb651b8599",
   "metadata": {},
   "source": [
    "### Classification Results"
   ]
  },
  {
   "cell_type": "code",
   "execution_count": 21,
   "id": "a865bbe2-dc87-446d-b4a8-c0e5c987fcb1",
   "metadata": {},
   "outputs": [],
   "source": [
    "def pred_batch(\n",
    "    model: tf.keras.models.Model,\n",
    "    inputs: Dict[str, np.ndarray],\n",
    "    batch_size: int = 4,\n",
    "    verbose: bool = True,\n",
    ") -> np.ndarray:\n",
    "    num_samp = len(inputs[\"input_ids\"])\n",
    "    num_iter = num_samp // batch_size\n",
    "    if num_samp % batch_size > 0:\n",
    "        num_iter += 1\n",
    "    \n",
    "    pred_logits = np.empty((0, 1))\n",
    "    ranges = range(num_iter) if not verbose else tqdm(range(num_iter))\n",
    "    for i in ranges:\n",
    "        s, e = i*batch_size, (i+1)*batch_size    \n",
    "        cur_inputs = {k: v[s:e] for k, v in inputs.items()}\n",
    "        cur_outputs = model.predict(cur_inputs, verbose=0).logits\n",
    "        pred_logits = np.vstack([pred_logits, cur_outputs])\n",
    "    \n",
    "    return pred_logits"
   ]
  },
  {
   "cell_type": "code",
   "execution_count": 22,
   "id": "041a3207-38f1-4527-a7ca-7dec9f69d966",
   "metadata": {},
   "outputs": [],
   "source": [
    "inference_batch_size = 32"
   ]
  },
  {
   "cell_type": "code",
   "execution_count": 23,
   "id": "62b1a7f0-66e4-4f60-8d60-1a17eeabcf75",
   "metadata": {},
   "outputs": [
    {
     "name": "stderr",
     "output_type": "stream",
     "text": [
      "100% 100/100 [00:21<00:00,  4.55it/s]\n",
      "100% 32/32 [00:09<00:00,  3.42it/s]\n"
     ]
    }
   ],
   "source": [
    "pred_logits_train = pred_batch(model, inputs=X_train, batch_size=inference_batch_size, verbose=True)\n",
    "pred_logits_test = pred_batch(model, inputs=X_test, batch_size=inference_batch_size, verbose=True)\n",
    "\n",
    "pred_probs_train = tf.nn.sigmoid(pred_logits_train)\n",
    "pred_probs_test = tf.nn.sigmoid(pred_logits_test)\n",
    "\n",
    "pred_train = tf.where(pred_probs_train > 0.5, 1.0, 0.0).numpy().reshape(-1)\n",
    "pred_test = tf.where(pred_probs_test > 0.5, 1.0, 0.0).numpy().reshape(-1)"
   ]
  },
  {
   "cell_type": "code",
   "execution_count": 24,
   "id": "ecaad74d-439c-4e11-b703-df20112b27b6",
   "metadata": {},
   "outputs": [
    {
     "name": "stdout",
     "output_type": "stream",
     "text": [
      "              precision    recall  f1-score   support\n",
      "\n",
      "           0       1.00      0.99      1.00      1544\n",
      "           1       1.00      1.00      1.00      1656\n",
      "\n",
      "    accuracy                           1.00      3200\n",
      "   macro avg       1.00      1.00      1.00      3200\n",
      "weighted avg       1.00      1.00      1.00      3200\n",
      "\n"
     ]
    }
   ],
   "source": [
    "# note that classification_report takes class labels as the input (not one-hot encoded)\n",
    "\n",
    "print(classification_report(y_train_raw, pred_train))"
   ]
  },
  {
   "cell_type": "code",
   "execution_count": 25,
   "id": "9d1d3af2-9b59-493e-b856-237f8f8a7eb4",
   "metadata": {},
   "outputs": [
    {
     "name": "stdout",
     "output_type": "stream",
     "text": [
      "              precision    recall  f1-score   support\n",
      "\n",
      "           0       0.90      0.82      0.86       469\n",
      "           1       0.85      0.92      0.89       531\n",
      "\n",
      "    accuracy                           0.87      1000\n",
      "   macro avg       0.88      0.87      0.87      1000\n",
      "weighted avg       0.88      0.87      0.87      1000\n",
      "\n"
     ]
    }
   ],
   "source": [
    "# note that classification_report takes class labels as the input (not one-hot encoded)\n",
    "\n",
    "print(classification_report(y_test_raw, pred_test))"
   ]
  },
  {
   "cell_type": "code",
   "execution_count": null,
   "id": "c07ed5f2-6e80-47c3-83a7-0d14b04d8f8e",
   "metadata": {},
   "outputs": [],
   "source": []
  },
  {
   "cell_type": "code",
   "execution_count": null,
   "id": "55821845-3d93-4418-a245-16fb64b9f10c",
   "metadata": {},
   "outputs": [],
   "source": []
  },
  {
   "cell_type": "code",
   "execution_count": null,
   "id": "fdecdc89-12d6-4718-a727-31ac88b44c11",
   "metadata": {},
   "outputs": [],
   "source": []
  },
  {
   "cell_type": "code",
   "execution_count": null,
   "id": "5615b952-a133-48da-b1d0-fcfa05993825",
   "metadata": {},
   "outputs": [],
   "source": []
  }
 ],
 "metadata": {
  "kernelspec": {
   "display_name": "Python 3 (ipykernel)",
   "language": "python",
   "name": "python3"
  },
  "language_info": {
   "codemirror_mode": {
    "name": "ipython",
    "version": 3
   },
   "file_extension": ".py",
   "mimetype": "text/x-python",
   "name": "python",
   "nbconvert_exporter": "python",
   "pygments_lexer": "ipython3",
   "version": "3.8.10"
  }
 },
 "nbformat": 4,
 "nbformat_minor": 5
}
