{
 "cells": [
  {
   "cell_type": "code",
   "execution_count": 1,
   "id": "106984e8-3731-4c91-9c7b-8289aac14a93",
   "metadata": {},
   "outputs": [],
   "source": [
    "import os\n",
    "import shutil\n",
    "import requests\n",
    "import zipfile\n",
    "import io\n",
    "\n",
    "import kagglehub\n",
    "import pandas as pd"
   ]
  },
  {
   "cell_type": "code",
   "execution_count": 2,
   "id": "c6c4607f-330b-4f10-8c5a-f059a5f03063",
   "metadata": {},
   "outputs": [],
   "source": [
    "base_dir = \"../data\"\n",
    "os.makedirs(base_dir, exist_ok=True)\n",
    "\n",
    "pima_indians_diabetes_path = os.path.join(base_dir, \"pima_indians_diabetes.csv\")\n",
    "loan_data_path = os.path.join(base_dir, \"loan_data.csv\")\n",
    "boston_houseprice_path = os.path.join(base_dir, \"boston_house_price.csv\")"
   ]
  },
  {
   "cell_type": "code",
   "execution_count": null,
   "id": "1028e9ed-d66a-49da-a3d5-c0f934dc8237",
   "metadata": {},
   "outputs": [],
   "source": []
  },
  {
   "cell_type": "markdown",
   "id": "4cb098d4-d9dd-4944-95fb-ac654fc08853",
   "metadata": {},
   "source": [
    "## Download Pima Indians Diabetes"
   ]
  },
  {
   "cell_type": "code",
   "execution_count": 3,
   "id": "3ffdb7fc-daa0-42e9-a8d9-328c1cdb67e8",
   "metadata": {},
   "outputs": [
    {
     "name": "stdout",
     "output_type": "stream",
     "text": [
      "Warning: Looks like you're using an outdated `kagglehub` version, please consider updating (latest version: 0.3.6)\n",
      "Downloading from https://www.kaggle.com/api/v1/datasets/download/uciml/pima-indians-diabetes-database?dataset_version_number=1...\n"
     ]
    },
    {
     "name": "stderr",
     "output_type": "stream",
     "text": [
      "100% 8.91k/8.91k [00:00<00:00, 2.40MB/s]"
     ]
    },
    {
     "name": "stdout",
     "output_type": "stream",
     "text": [
      "Extracting model files...\n"
     ]
    },
    {
     "name": "stderr",
     "output_type": "stream",
     "text": [
      "\n"
     ]
    },
    {
     "data": {
      "text/plain": [
       "'../data/pima_indians_diabetes.csv'"
      ]
     },
     "execution_count": 3,
     "metadata": {},
     "output_type": "execute_result"
    }
   ],
   "source": [
    "download_dir = kagglehub.dataset_download(\"uciml/pima-indians-diabetes-database\", force_download=True)\n",
    "shutil.move(\n",
    "    src=os.path.join(download_dir, \"diabetes.csv\"),\n",
    "    dst=pima_indians_diabetes_path\n",
    ")"
   ]
  },
  {
   "cell_type": "code",
   "execution_count": null,
   "id": "0a405d68-8a22-446c-b34f-722df848a024",
   "metadata": {},
   "outputs": [],
   "source": []
  },
  {
   "cell_type": "markdown",
   "id": "d1e8a04d-b810-4c5a-9876-bc96704ce0d9",
   "metadata": {},
   "source": [
    "## Download Loan Data"
   ]
  },
  {
   "cell_type": "code",
   "execution_count": 4,
   "id": "04b08062-c5cf-4113-9bec-5eb2838f0e58",
   "metadata": {},
   "outputs": [],
   "source": [
    "loan_data = pd.read_csv(\"https://raw.githubusercontent.com/JaehyunAhn/XAI_dataset/refs/heads/master/Ch1.loan/loanData.csv\")\n",
    "loan_data.to_csv(loan_data_path, index=False)"
   ]
  },
  {
   "cell_type": "code",
   "execution_count": null,
   "id": "b117e93a-69f2-4e1c-9ffe-bfc321707dfd",
   "metadata": {},
   "outputs": [],
   "source": []
  },
  {
   "cell_type": "markdown",
   "id": "526da6c9-9428-43bb-8e89-30fa5b7a9068",
   "metadata": {},
   "source": [
    "## Download The Japanese Female Facial Expression (JAFFE) Dataset"
   ]
  },
  {
   "cell_type": "code",
   "execution_count": 5,
   "id": "4c5f6e3a-3c78-407a-b85f-689d5ea4871a",
   "metadata": {},
   "outputs": [],
   "source": [
    "response = requests.get(\"https://zenodo.org/records/3451524/files/jaffedbase.zip?download=1\")\n",
    "\n",
    "# raise if status != 200\n",
    "response.raise_for_status()\n",
    "\n",
    "# unzip\n",
    "with zipfile.ZipFile(io.BytesIO(response.content)) as z:\n",
    "    z.extractall(base_dir)"
   ]
  },
  {
   "cell_type": "code",
   "execution_count": null,
   "id": "745f1e07-3905-4220-bd36-137619797db0",
   "metadata": {},
   "outputs": [],
   "source": []
  },
  {
   "cell_type": "markdown",
   "id": "25f0d3b9-6754-4382-bacc-4f50b33617c8",
   "metadata": {},
   "source": [
    "## Download Boston House Price Data\n",
    "- Boston housing dataset in scikit-learn & shap was deprecated due to an ethical concern\n",
    "- see: https://github.com/shap/shap/issues/2322"
   ]
  },
  {
   "cell_type": "code",
   "execution_count": 6,
   "id": "96852564-ca4a-4b34-a5d2-3a0812a79702",
   "metadata": {
    "scrolled": true
   },
   "outputs": [
    {
     "name": "stdout",
     "output_type": "stream",
     "text": [
      "Warning: Looks like you're using an outdated `kagglehub` version, please consider updating (latest version: 0.3.6)\n",
      "Downloading from https://www.kaggle.com/api/v1/datasets/download/fedesoriano/the-boston-houseprice-data?dataset_version_number=1...\n"
     ]
    },
    {
     "name": "stderr",
     "output_type": "stream",
     "text": [
      "100% 12.3k/12.3k [00:00<00:00, 11.2MB/s]"
     ]
    },
    {
     "name": "stdout",
     "output_type": "stream",
     "text": [
      "Extracting model files...\n"
     ]
    },
    {
     "name": "stderr",
     "output_type": "stream",
     "text": [
      "\n"
     ]
    },
    {
     "data": {
      "text/plain": [
       "'../data/boston_house_price.csv'"
      ]
     },
     "execution_count": 6,
     "metadata": {},
     "output_type": "execute_result"
    }
   ],
   "source": [
    "download_dir = kagglehub.dataset_download(\"fedesoriano/the-boston-houseprice-data\", force_download=True)\n",
    "shutil.move(\n",
    "    src=os.path.join(download_dir, \"boston.csv\"),\n",
    "    dst=boston_houseprice_path\n",
    ")"
   ]
  },
  {
   "cell_type": "code",
   "execution_count": null,
   "id": "41d91db2-d1bf-4318-8ed0-579dea645bbc",
   "metadata": {},
   "outputs": [],
   "source": []
  },
  {
   "cell_type": "code",
   "execution_count": null,
   "id": "a3f69e26-9aff-469b-9980-fc60b5532794",
   "metadata": {},
   "outputs": [],
   "source": []
  },
  {
   "cell_type": "code",
   "execution_count": null,
   "id": "a063d15a-0042-46d1-a3b3-6e5476c5b7b3",
   "metadata": {},
   "outputs": [],
   "source": []
  },
  {
   "cell_type": "code",
   "execution_count": null,
   "id": "6f2dd80c-2d67-4b1b-834d-9bfc404bd3b8",
   "metadata": {},
   "outputs": [],
   "source": []
  }
 ],
 "metadata": {
  "kernelspec": {
   "display_name": "Python 3 (ipykernel)",
   "language": "python",
   "name": "python3"
  },
  "language_info": {
   "codemirror_mode": {
    "name": "ipython",
    "version": 3
   },
   "file_extension": ".py",
   "mimetype": "text/x-python",
   "name": "python",
   "nbconvert_exporter": "python",
   "pygments_lexer": "ipython3",
   "version": "3.8.10"
  }
 },
 "nbformat": 4,
 "nbformat_minor": 5
}
