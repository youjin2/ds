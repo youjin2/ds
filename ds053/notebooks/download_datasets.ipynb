{
 "cells": [
  {
   "cell_type": "code",
   "execution_count": 1,
   "id": "106984e8-3731-4c91-9c7b-8289aac14a93",
   "metadata": {},
   "outputs": [],
   "source": [
    "import os\n",
    "import shutil\n",
    "import requests\n",
    "import zipfile\n",
    "import io\n",
    "\n",
    "import kagglehub\n",
    "import pandas as pd"
   ]
  },
  {
   "cell_type": "code",
   "execution_count": 2,
   "id": "c6c4607f-330b-4f10-8c5a-f059a5f03063",
   "metadata": {},
   "outputs": [],
   "source": [
    "base_dir = \"../data\"\n",
    "os.makedirs(base_dir, exist_ok=True)\n",
    "\n",
    "pima_indians_diabetes_path = os.path.join(base_dir, \"pima_indians_diabetes.csv\")\n",
    "loan_data_path = os.path.join(base_dir, \"loan_data.csv\")"
   ]
  },
  {
   "cell_type": "code",
   "execution_count": null,
   "id": "73eb6a55-6f30-48e9-b270-3594314bbbbf",
   "metadata": {},
   "outputs": [],
   "source": []
  },
  {
   "cell_type": "markdown",
   "id": "4cb098d4-d9dd-4944-95fb-ac654fc08853",
   "metadata": {},
   "source": [
    "## Download Pima Indians Diabetes"
   ]
  },
  {
   "cell_type": "code",
   "execution_count": 3,
   "id": "3ffdb7fc-daa0-42e9-a8d9-328c1cdb67e8",
   "metadata": {},
   "outputs": [
    {
     "name": "stdout",
     "output_type": "stream",
     "text": [
      "Warning: Looks like you're using an outdated `kagglehub` version, please consider updating (latest version: 0.3.6)\n",
      "Downloading from https://www.kaggle.com/api/v1/datasets/download/uciml/pima-indians-diabetes-database?dataset_version_number=1...\n"
     ]
    },
    {
     "name": "stderr",
     "output_type": "stream",
     "text": [
      "100% 8.91k/8.91k [00:00<00:00, 3.69MB/s]"
     ]
    },
    {
     "name": "stdout",
     "output_type": "stream",
     "text": [
      "Extracting model files...\n"
     ]
    },
    {
     "name": "stderr",
     "output_type": "stream",
     "text": [
      "\n"
     ]
    },
    {
     "data": {
      "text/plain": [
       "'../data/pima_indians_diabetes.csv'"
      ]
     },
     "execution_count": 3,
     "metadata": {},
     "output_type": "execute_result"
    }
   ],
   "source": [
    "download_dir = kagglehub.dataset_download(\"uciml/pima-indians-diabetes-database\", force_download=True)\n",
    "shutil.move(\n",
    "    src=os.path.join(download_dir, \"diabetes.csv\"),\n",
    "    dst=pima_indians_diabetes_path\n",
    ")"
   ]
  },
  {
   "cell_type": "code",
   "execution_count": null,
   "id": "0a405d68-8a22-446c-b34f-722df848a024",
   "metadata": {},
   "outputs": [],
   "source": []
  },
  {
   "cell_type": "markdown",
   "id": "d1e8a04d-b810-4c5a-9876-bc96704ce0d9",
   "metadata": {},
   "source": [
    "## Download Loan Data"
   ]
  },
  {
   "cell_type": "code",
   "execution_count": 4,
   "id": "04b08062-c5cf-4113-9bec-5eb2838f0e58",
   "metadata": {},
   "outputs": [],
   "source": [
    "loan_data = pd.read_csv(\"https://raw.githubusercontent.com/JaehyunAhn/XAI_dataset/refs/heads/master/Ch1.loan/loanData.csv\")\n",
    "loan_data.to_csv(loan_data_path, index=False)"
   ]
  },
  {
   "cell_type": "code",
   "execution_count": null,
   "id": "b117e93a-69f2-4e1c-9ffe-bfc321707dfd",
   "metadata": {},
   "outputs": [],
   "source": []
  },
  {
   "cell_type": "markdown",
   "id": "526da6c9-9428-43bb-8e89-30fa5b7a9068",
   "metadata": {},
   "source": [
    "## Download The Japanese Female Facial Expression (JAFFE) Dataset"
   ]
  },
  {
   "cell_type": "code",
   "execution_count": 5,
   "id": "4c5f6e3a-3c78-407a-b85f-689d5ea4871a",
   "metadata": {},
   "outputs": [],
   "source": [
    "response = requests.get(\"https://zenodo.org/records/3451524/files/jaffedbase.zip?download=1\")\n",
    "\n",
    "# raise if status != 200\n",
    "response.raise_for_status()\n",
    "\n",
    "# unzip\n",
    "with zipfile.ZipFile(io.BytesIO(response.content)) as z:\n",
    "    z.extractall(base_dir)"
   ]
  },
  {
   "cell_type": "code",
   "execution_count": null,
   "id": "745f1e07-3905-4220-bd36-137619797db0",
   "metadata": {},
   "outputs": [],
   "source": []
  },
  {
   "cell_type": "code",
   "execution_count": null,
   "id": "5ee6d8d7-c6e2-4023-ac45-0fd181f94cbe",
   "metadata": {},
   "outputs": [],
   "source": []
  },
  {
   "cell_type": "code",
   "execution_count": null,
   "id": "a3f69e26-9aff-469b-9980-fc60b5532794",
   "metadata": {},
   "outputs": [],
   "source": []
  },
  {
   "cell_type": "code",
   "execution_count": null,
   "id": "a063d15a-0042-46d1-a3b3-6e5476c5b7b3",
   "metadata": {},
   "outputs": [],
   "source": []
  }
 ],
 "metadata": {
  "kernelspec": {
   "display_name": "Python 3 (ipykernel)",
   "language": "python",
   "name": "python3"
  },
  "language_info": {
   "codemirror_mode": {
    "name": "ipython",
    "version": 3
   },
   "file_extension": ".py",
   "mimetype": "text/x-python",
   "name": "python",
   "nbconvert_exporter": "python",
   "pygments_lexer": "ipython3",
   "version": "3.8.10"
  }
 },
 "nbformat": 4,
 "nbformat_minor": 5
}
