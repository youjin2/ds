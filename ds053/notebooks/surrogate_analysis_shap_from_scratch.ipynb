{
 "cells": [
  {
   "cell_type": "code",
   "execution_count": 1,
   "id": "a31e90ee-a0fb-4d1f-a0d8-87d713aa9d9d",
   "metadata": {},
   "outputs": [],
   "source": [
    "import sys\n",
    "sys.path.append(\"../\")"
   ]
  },
  {
   "cell_type": "code",
   "execution_count": 2,
   "id": "23b399ca-665f-43f5-bef1-e9fbe8d6502a",
   "metadata": {},
   "outputs": [],
   "source": [
    "from copy import deepcopy\n",
    "\n",
    "import pandas as pd\n",
    "import numpy as np\n",
    "import shap\n",
    "from sklearn.linear_model import LinearRegression, ElasticNet\n",
    "\n",
    "from src.surrogate.shap import (\n",
    "    LinearShap,\n",
    "    ExactShap,\n",
    ")"
   ]
  },
  {
   "cell_type": "code",
   "execution_count": null,
   "id": "779cc1ba-748e-428c-bea0-10e1251c6f6a",
   "metadata": {},
   "outputs": [],
   "source": []
  },
  {
   "cell_type": "markdown",
   "id": "8d5cfe44-3ce9-4593-ab2b-0a9795283ca9",
   "metadata": {},
   "source": [
    "## Linear SHAP"
   ]
  },
  {
   "cell_type": "code",
   "execution_count": 3,
   "id": "8c8004d3-ff6b-4e12-8537-636c74a3bc07",
   "metadata": {},
   "outputs": [],
   "source": [
    "\"\"\"\n",
    "create sample dataset\n",
    "\"\"\"\n",
    "\n",
    "np.random.seed(10)\n",
    " \n",
    "# sample dataset\n",
    "x1 = np.array([3, 7, 3, 3, 6, 2, 9])\n",
    "x2 = np.array([1, 9, -5, 7, 10, -2, 5])\n",
    "y = 4*x1 + 2*x2 + 1\n",
    "X = np.column_stack([x1, x2])"
   ]
  },
  {
   "cell_type": "code",
   "execution_count": 4,
   "id": "cdb8d6fc-b4c4-491f-bbe2-515e9d8fa472",
   "metadata": {},
   "outputs": [
    {
     "data": {
      "text/html": [
       "<style>#sk-container-id-1 {color: black;}#sk-container-id-1 pre{padding: 0;}#sk-container-id-1 div.sk-toggleable {background-color: white;}#sk-container-id-1 label.sk-toggleable__label {cursor: pointer;display: block;width: 100%;margin-bottom: 0;padding: 0.3em;box-sizing: border-box;text-align: center;}#sk-container-id-1 label.sk-toggleable__label-arrow:before {content: \"▸\";float: left;margin-right: 0.25em;color: #696969;}#sk-container-id-1 label.sk-toggleable__label-arrow:hover:before {color: black;}#sk-container-id-1 div.sk-estimator:hover label.sk-toggleable__label-arrow:before {color: black;}#sk-container-id-1 div.sk-toggleable__content {max-height: 0;max-width: 0;overflow: hidden;text-align: left;background-color: #f0f8ff;}#sk-container-id-1 div.sk-toggleable__content pre {margin: 0.2em;color: black;border-radius: 0.25em;background-color: #f0f8ff;}#sk-container-id-1 input.sk-toggleable__control:checked~div.sk-toggleable__content {max-height: 200px;max-width: 100%;overflow: auto;}#sk-container-id-1 input.sk-toggleable__control:checked~label.sk-toggleable__label-arrow:before {content: \"▾\";}#sk-container-id-1 div.sk-estimator input.sk-toggleable__control:checked~label.sk-toggleable__label {background-color: #d4ebff;}#sk-container-id-1 div.sk-label input.sk-toggleable__control:checked~label.sk-toggleable__label {background-color: #d4ebff;}#sk-container-id-1 input.sk-hidden--visually {border: 0;clip: rect(1px 1px 1px 1px);clip: rect(1px, 1px, 1px, 1px);height: 1px;margin: -1px;overflow: hidden;padding: 0;position: absolute;width: 1px;}#sk-container-id-1 div.sk-estimator {font-family: monospace;background-color: #f0f8ff;border: 1px dotted black;border-radius: 0.25em;box-sizing: border-box;margin-bottom: 0.5em;}#sk-container-id-1 div.sk-estimator:hover {background-color: #d4ebff;}#sk-container-id-1 div.sk-parallel-item::after {content: \"\";width: 100%;border-bottom: 1px solid gray;flex-grow: 1;}#sk-container-id-1 div.sk-label:hover label.sk-toggleable__label {background-color: #d4ebff;}#sk-container-id-1 div.sk-serial::before {content: \"\";position: absolute;border-left: 1px solid gray;box-sizing: border-box;top: 0;bottom: 0;left: 50%;z-index: 0;}#sk-container-id-1 div.sk-serial {display: flex;flex-direction: column;align-items: center;background-color: white;padding-right: 0.2em;padding-left: 0.2em;position: relative;}#sk-container-id-1 div.sk-item {position: relative;z-index: 1;}#sk-container-id-1 div.sk-parallel {display: flex;align-items: stretch;justify-content: center;background-color: white;position: relative;}#sk-container-id-1 div.sk-item::before, #sk-container-id-1 div.sk-parallel-item::before {content: \"\";position: absolute;border-left: 1px solid gray;box-sizing: border-box;top: 0;bottom: 0;left: 50%;z-index: -1;}#sk-container-id-1 div.sk-parallel-item {display: flex;flex-direction: column;z-index: 1;position: relative;background-color: white;}#sk-container-id-1 div.sk-parallel-item:first-child::after {align-self: flex-end;width: 50%;}#sk-container-id-1 div.sk-parallel-item:last-child::after {align-self: flex-start;width: 50%;}#sk-container-id-1 div.sk-parallel-item:only-child::after {width: 0;}#sk-container-id-1 div.sk-dashed-wrapped {border: 1px dashed gray;margin: 0 0.4em 0.5em 0.4em;box-sizing: border-box;padding-bottom: 0.4em;background-color: white;}#sk-container-id-1 div.sk-label label {font-family: monospace;font-weight: bold;display: inline-block;line-height: 1.2em;}#sk-container-id-1 div.sk-label-container {text-align: center;}#sk-container-id-1 div.sk-container {/* jupyter's `normalize.less` sets `[hidden] { display: none; }` but bootstrap.min.css set `[hidden] { display: none !important; }` so we also need the `!important` here to be able to override the default hidden behavior on the sphinx rendered scikit-learn.org. See: https://github.com/scikit-learn/scikit-learn/issues/21755 */display: inline-block !important;position: relative;}#sk-container-id-1 div.sk-text-repr-fallback {display: none;}</style><div id=\"sk-container-id-1\" class=\"sk-top-container\"><div class=\"sk-text-repr-fallback\"><pre>LinearRegression()</pre><b>In a Jupyter environment, please rerun this cell to show the HTML representation or trust the notebook. <br />On GitHub, the HTML representation is unable to render, please try loading this page with nbviewer.org.</b></div><div class=\"sk-container\" hidden><div class=\"sk-item\"><div class=\"sk-estimator sk-toggleable\"><input class=\"sk-toggleable__control sk-hidden--visually\" id=\"sk-estimator-id-1\" type=\"checkbox\" checked><label for=\"sk-estimator-id-1\" class=\"sk-toggleable__label sk-toggleable__label-arrow\">LinearRegression</label><div class=\"sk-toggleable__content\"><pre>LinearRegression()</pre></div></div></div></div></div>"
      ],
      "text/plain": [
       "LinearRegression()"
      ]
     },
     "execution_count": 4,
     "metadata": {},
     "output_type": "execute_result"
    }
   ],
   "source": [
    "\"\"\"\n",
    "fit linear regression\n",
    "\"\"\"\n",
    "\n",
    "model = LinearRegression()\n",
    "model.fit(X, y)"
   ]
  },
  {
   "cell_type": "code",
   "execution_count": 5,
   "id": "d60a25e6-754c-4670-8704-5845dd869d17",
   "metadata": {},
   "outputs": [],
   "source": [
    "\"\"\"\n",
    "sample data used to process missing values in SHAP\n",
    "\"\"\"\n",
    "\n",
    "sampled_row = np.random.choice(range(len(y)), size=5)\n",
    "X_sampled = X[sampled_row, :]"
   ]
  },
  {
   "cell_type": "code",
   "execution_count": 6,
   "id": "c060436d-8880-42ca-ad18-06ea261d789e",
   "metadata": {},
   "outputs": [],
   "source": [
    "\"\"\"\n",
    "initialize Linear SHAP instances\n",
    "- `custom_explainer`: custom implementation\n",
    "- `shap_explainer`: shap library\n",
    "\"\"\"\n",
    "\n",
    "custom_explainer = LinearShap(model, X_sampled)\n",
    "shap_explainer = shap.LinearExplainer(model, X_sampled)"
   ]
  },
  {
   "cell_type": "code",
   "execution_count": null,
   "id": "c9593a61-f434-4675-a1de-49cb5b991082",
   "metadata": {},
   "outputs": [],
   "source": []
  },
  {
   "cell_type": "markdown",
   "id": "fae26f34-65c9-42ef-81e1-bd1f2ce8d983",
   "metadata": {},
   "source": [
    "### Case1. Without Missing Value"
   ]
  },
  {
   "cell_type": "code",
   "execution_count": 7,
   "id": "655ac7bf-d75d-4357-b963-38d335185a14",
   "metadata": {},
   "outputs": [],
   "source": [
    "x = np.array([2., 1.])"
   ]
  },
  {
   "cell_type": "code",
   "execution_count": 8,
   "id": "e5e20b5c-2d06-456e-960b-d0ab76a6d915",
   "metadata": {},
   "outputs": [
    {
     "name": "stdout",
     "output_type": "stream",
     "text": [
      "Baseline\n",
      "- Custom: 31.8000\n",
      "- SHAP Library: 31.8000\n",
      "\n",
      "Shapley Value\n",
      "- Custom: [-12.   -8.8]\n",
      "- SHAP Library: [-12.   -8.8]\n"
     ]
    }
   ],
   "source": [
    "print(\"Baseline\")\n",
    "print(f\"- Custom: {custom_explainer.expected_value:.4f}\")\n",
    "print(f\"- SHAP Library: {shap_explainer.expected_value:.4f}\")\n",
    "print()\n",
    "print(\"Shapley Value\")\n",
    "print(f\"- Custom: {custom_explainer.shap_values(x)}\")\n",
    "print(f\"- SHAP Library: {shap_explainer.shap_values(x)}\")"
   ]
  },
  {
   "cell_type": "code",
   "execution_count": null,
   "id": "1be26a47-4ff2-4212-9b6a-da5b9ab18b4d",
   "metadata": {},
   "outputs": [],
   "source": []
  },
  {
   "cell_type": "markdown",
   "id": "d9046fb2-8871-4f7c-9c9e-65cec34ca605",
   "metadata": {},
   "source": [
    "### Case2. With Missing Value"
   ]
  },
  {
   "cell_type": "code",
   "execution_count": 9,
   "id": "1d9fd2a5-aaee-4f27-ab8a-11efec8b1afc",
   "metadata": {},
   "outputs": [],
   "source": [
    "x = np.array([np.nan, 1.])"
   ]
  },
  {
   "cell_type": "code",
   "execution_count": 10,
   "id": "47c91cef-96ca-48c8-b610-f14582aa86e7",
   "metadata": {},
   "outputs": [
    {
     "name": "stdout",
     "output_type": "stream",
     "text": [
      "Baseline\n",
      "- Custom: 31.8000\n",
      "- SHAP Library: 31.8000\n",
      "\n",
      "Shapley Value\n",
      "- Custom: [ 0.  -8.8]\n",
      "- SHAP Library: [ nan -8.8]\n"
     ]
    }
   ],
   "source": [
    "print(\"Baseline\")\n",
    "print(f\"- Custom: {custom_explainer.expected_value:.4f}\")\n",
    "print(f\"- SHAP Library: {shap_explainer.expected_value:.4f}\")\n",
    "print()\n",
    "print(\"Shapley Value\")\n",
    "print(f\"- Custom: {custom_explainer.shap_values(x)}\")\n",
    "print(f\"- SHAP Library: {shap_explainer.shap_values(x)}\")"
   ]
  },
  {
   "cell_type": "code",
   "execution_count": null,
   "id": "2942f5cf-1e49-4158-bfb7-ccc308745f47",
   "metadata": {},
   "outputs": [],
   "source": []
  },
  {
   "cell_type": "markdown",
   "id": "2c4e5411-bb54-4961-a482-35561e5fd09d",
   "metadata": {},
   "source": [
    "## Exact SHAP"
   ]
  },
  {
   "cell_type": "code",
   "execution_count": 11,
   "id": "b6777b64-6e18-4f18-9be3-94af4fc4f59f",
   "metadata": {},
   "outputs": [],
   "source": [
    "\"\"\"\n",
    "create sample dataset\n",
    "\"\"\"\n",
    "\n",
    "np.random.seed(10)\n",
    " \n",
    "# sample dataset\n",
    "x1 = np.array([3, 7, 3, 3, 6, 2, 9])\n",
    "x2 = np.array([1, 9, -5, 7, 10, -2, 5])\n",
    "y = 4*x1 + 2*x2 + 1\n",
    "X = np.column_stack([x1, x2])"
   ]
  },
  {
   "cell_type": "code",
   "execution_count": 12,
   "id": "ca96b209-9db4-46f5-8a36-822890d008c8",
   "metadata": {},
   "outputs": [
    {
     "data": {
      "text/html": [
       "<style>#sk-container-id-2 {color: black;}#sk-container-id-2 pre{padding: 0;}#sk-container-id-2 div.sk-toggleable {background-color: white;}#sk-container-id-2 label.sk-toggleable__label {cursor: pointer;display: block;width: 100%;margin-bottom: 0;padding: 0.3em;box-sizing: border-box;text-align: center;}#sk-container-id-2 label.sk-toggleable__label-arrow:before {content: \"▸\";float: left;margin-right: 0.25em;color: #696969;}#sk-container-id-2 label.sk-toggleable__label-arrow:hover:before {color: black;}#sk-container-id-2 div.sk-estimator:hover label.sk-toggleable__label-arrow:before {color: black;}#sk-container-id-2 div.sk-toggleable__content {max-height: 0;max-width: 0;overflow: hidden;text-align: left;background-color: #f0f8ff;}#sk-container-id-2 div.sk-toggleable__content pre {margin: 0.2em;color: black;border-radius: 0.25em;background-color: #f0f8ff;}#sk-container-id-2 input.sk-toggleable__control:checked~div.sk-toggleable__content {max-height: 200px;max-width: 100%;overflow: auto;}#sk-container-id-2 input.sk-toggleable__control:checked~label.sk-toggleable__label-arrow:before {content: \"▾\";}#sk-container-id-2 div.sk-estimator input.sk-toggleable__control:checked~label.sk-toggleable__label {background-color: #d4ebff;}#sk-container-id-2 div.sk-label input.sk-toggleable__control:checked~label.sk-toggleable__label {background-color: #d4ebff;}#sk-container-id-2 input.sk-hidden--visually {border: 0;clip: rect(1px 1px 1px 1px);clip: rect(1px, 1px, 1px, 1px);height: 1px;margin: -1px;overflow: hidden;padding: 0;position: absolute;width: 1px;}#sk-container-id-2 div.sk-estimator {font-family: monospace;background-color: #f0f8ff;border: 1px dotted black;border-radius: 0.25em;box-sizing: border-box;margin-bottom: 0.5em;}#sk-container-id-2 div.sk-estimator:hover {background-color: #d4ebff;}#sk-container-id-2 div.sk-parallel-item::after {content: \"\";width: 100%;border-bottom: 1px solid gray;flex-grow: 1;}#sk-container-id-2 div.sk-label:hover label.sk-toggleable__label {background-color: #d4ebff;}#sk-container-id-2 div.sk-serial::before {content: \"\";position: absolute;border-left: 1px solid gray;box-sizing: border-box;top: 0;bottom: 0;left: 50%;z-index: 0;}#sk-container-id-2 div.sk-serial {display: flex;flex-direction: column;align-items: center;background-color: white;padding-right: 0.2em;padding-left: 0.2em;position: relative;}#sk-container-id-2 div.sk-item {position: relative;z-index: 1;}#sk-container-id-2 div.sk-parallel {display: flex;align-items: stretch;justify-content: center;background-color: white;position: relative;}#sk-container-id-2 div.sk-item::before, #sk-container-id-2 div.sk-parallel-item::before {content: \"\";position: absolute;border-left: 1px solid gray;box-sizing: border-box;top: 0;bottom: 0;left: 50%;z-index: -1;}#sk-container-id-2 div.sk-parallel-item {display: flex;flex-direction: column;z-index: 1;position: relative;background-color: white;}#sk-container-id-2 div.sk-parallel-item:first-child::after {align-self: flex-end;width: 50%;}#sk-container-id-2 div.sk-parallel-item:last-child::after {align-self: flex-start;width: 50%;}#sk-container-id-2 div.sk-parallel-item:only-child::after {width: 0;}#sk-container-id-2 div.sk-dashed-wrapped {border: 1px dashed gray;margin: 0 0.4em 0.5em 0.4em;box-sizing: border-box;padding-bottom: 0.4em;background-color: white;}#sk-container-id-2 div.sk-label label {font-family: monospace;font-weight: bold;display: inline-block;line-height: 1.2em;}#sk-container-id-2 div.sk-label-container {text-align: center;}#sk-container-id-2 div.sk-container {/* jupyter's `normalize.less` sets `[hidden] { display: none; }` but bootstrap.min.css set `[hidden] { display: none !important; }` so we also need the `!important` here to be able to override the default hidden behavior on the sphinx rendered scikit-learn.org. See: https://github.com/scikit-learn/scikit-learn/issues/21755 */display: inline-block !important;position: relative;}#sk-container-id-2 div.sk-text-repr-fallback {display: none;}</style><div id=\"sk-container-id-2\" class=\"sk-top-container\"><div class=\"sk-text-repr-fallback\"><pre>ElasticNet()</pre><b>In a Jupyter environment, please rerun this cell to show the HTML representation or trust the notebook. <br />On GitHub, the HTML representation is unable to render, please try loading this page with nbviewer.org.</b></div><div class=\"sk-container\" hidden><div class=\"sk-item\"><div class=\"sk-estimator sk-toggleable\"><input class=\"sk-toggleable__control sk-hidden--visually\" id=\"sk-estimator-id-2\" type=\"checkbox\" checked><label for=\"sk-estimator-id-2\" class=\"sk-toggleable__label sk-toggleable__label-arrow\">ElasticNet</label><div class=\"sk-toggleable__content\"><pre>ElasticNet()</pre></div></div></div></div></div>"
      ],
      "text/plain": [
       "ElasticNet()"
      ]
     },
     "execution_count": 12,
     "metadata": {},
     "output_type": "execute_result"
    }
   ],
   "source": [
    "\"\"\"\n",
    "fit elastic regression (with l1 + l2 regularization)\n",
    "\"\"\"\n",
    "\n",
    "model = ElasticNet()\n",
    "model.fit(X, y)"
   ]
  },
  {
   "cell_type": "code",
   "execution_count": 13,
   "id": "95bdf43a-5011-4826-9d0b-4acfbcb05f62",
   "metadata": {},
   "outputs": [],
   "source": [
    "\"\"\"\n",
    "sample data used to process missing values in SHAP\n",
    "\"\"\"\n",
    "\n",
    "sampled_row = np.random.choice(range(len(y)), size=5)\n",
    "X_sampled = X[sampled_row, :]"
   ]
  },
  {
   "cell_type": "code",
   "execution_count": 14,
   "id": "dd49bfdf-36ea-44ec-b9a8-1fadecbfdbb5",
   "metadata": {},
   "outputs": [],
   "source": [
    "\"\"\"\n",
    "initialize Exact SHAP instances\n",
    "- `custom_explainer`: custom implementation\n",
    "- `shap_explainer`: shap library\n",
    "\"\"\"\n",
    "\n",
    "custom_explainer = LinearShap(model, X_sampled)\n",
    "shap_explainer = shap.Explainer(model, X_sampled)"
   ]
  },
  {
   "cell_type": "code",
   "execution_count": null,
   "id": "beb24224-794d-423b-9709-3f80c5386e9c",
   "metadata": {},
   "outputs": [],
   "source": []
  },
  {
   "cell_type": "markdown",
   "id": "2bc64893-f7da-4a3f-83df-f314e6af95ef",
   "metadata": {},
   "source": [
    "### Case1. Without Missing Value"
   ]
  },
  {
   "cell_type": "code",
   "execution_count": 15,
   "id": "3d08be2c-5c1b-4082-8d2c-150416f5f358",
   "metadata": {},
   "outputs": [],
   "source": [
    "x = np.array([2., 1.])"
   ]
  },
  {
   "cell_type": "code",
   "execution_count": 16,
   "id": "05a4964e-3f3f-49e4-9b0c-8e25c2735b1e",
   "metadata": {},
   "outputs": [
    {
     "name": "stdout",
     "output_type": "stream",
     "text": [
      "Baseline\n",
      "- Custom: 28.1721\n",
      "- SHAP Library: 28.1721\n",
      "\n",
      "Shapley Value\n",
      "- Custom: [-7.71805525 -8.33368842]\n",
      "- SHAP Library: [-7.71805525 -8.33368842]\n"
     ]
    }
   ],
   "source": [
    "print(\"Baseline\")\n",
    "print(f\"- Custom: {custom_explainer.expected_value:.4f}\")\n",
    "print(f\"- SHAP Library: {shap_explainer.expected_value:.4f}\")\n",
    "print()\n",
    "print(\"Shapley Value\")\n",
    "print(f\"- Custom: {custom_explainer.shap_values(x)}\")\n",
    "print(f\"- SHAP Library: {shap_explainer.shap_values(x)}\")"
   ]
  },
  {
   "cell_type": "code",
   "execution_count": null,
   "id": "76b665bf-f9dd-4048-ad7d-184775a35880",
   "metadata": {},
   "outputs": [],
   "source": []
  },
  {
   "cell_type": "markdown",
   "id": "4d98e132-ec96-44cd-912d-31d152844dfb",
   "metadata": {},
   "source": [
    "### Case2. With Missing Value"
   ]
  },
  {
   "cell_type": "code",
   "execution_count": 17,
   "id": "b3f609ab-c7c3-4e46-bcb5-48cc354388fe",
   "metadata": {},
   "outputs": [],
   "source": [
    "x = np.array([np.nan, 1.])"
   ]
  },
  {
   "cell_type": "code",
   "execution_count": 18,
   "id": "d8ba4c17-af10-48b5-99b8-46a5adf2a7a2",
   "metadata": {},
   "outputs": [
    {
     "name": "stdout",
     "output_type": "stream",
     "text": [
      "Baseline\n",
      "- Custom: 28.1721\n",
      "- SHAP Library: 28.1721\n",
      "\n",
      "Shapley Value\n",
      "- Custom: [ 0.         -8.33368842]\n",
      "- SHAP Library: [        nan -8.33368842]\n"
     ]
    }
   ],
   "source": [
    "print(\"Baseline\")\n",
    "print(f\"- Custom: {custom_explainer.expected_value:.4f}\")\n",
    "print(f\"- SHAP Library: {shap_explainer.expected_value:.4f}\")\n",
    "print()\n",
    "print(\"Shapley Value\")\n",
    "print(f\"- Custom: {custom_explainer.shap_values(x)}\")\n",
    "print(f\"- SHAP Library: {shap_explainer.shap_values(x)}\")"
   ]
  },
  {
   "cell_type": "code",
   "execution_count": null,
   "id": "c4d1e95d-9b1a-4548-8b88-cef9b3028467",
   "metadata": {},
   "outputs": [],
   "source": []
  },
  {
   "cell_type": "code",
   "execution_count": null,
   "id": "81f2c9c4-eadc-4f4c-b349-6a8c3932df79",
   "metadata": {},
   "outputs": [],
   "source": []
  },
  {
   "cell_type": "code",
   "execution_count": null,
   "id": "2c499203-9345-4f89-ac72-6db0ec041cf8",
   "metadata": {},
   "outputs": [],
   "source": []
  },
  {
   "cell_type": "code",
   "execution_count": null,
   "id": "a996400d-39fa-4a75-8dd8-db0c27ab1432",
   "metadata": {},
   "outputs": [],
   "source": []
  },
  {
   "cell_type": "markdown",
   "id": "de2abc27-82cc-4457-96e3-52da443b3e55",
   "metadata": {},
   "source": [
    "## References\n",
    "- https://zephyrus1111.tistory.com/271\n",
    "- https://towardsdatascience.com/introduction-to-shap-values-and-their-application-in-machine-learning-8003718e6827"
   ]
  },
  {
   "cell_type": "code",
   "execution_count": null,
   "id": "8c3a4075-0928-41f0-9a1e-15c2509e45f0",
   "metadata": {},
   "outputs": [],
   "source": []
  },
  {
   "cell_type": "code",
   "execution_count": null,
   "id": "9cbe3f1b-7e0a-40cc-b97e-65a063192771",
   "metadata": {},
   "outputs": [],
   "source": []
  },
  {
   "cell_type": "code",
   "execution_count": null,
   "id": "dd8fef20-b08b-46ed-978b-3f250c9da2a7",
   "metadata": {},
   "outputs": [],
   "source": []
  },
  {
   "cell_type": "code",
   "execution_count": null,
   "id": "d839b15d-de76-481c-b8f6-c73fc9114009",
   "metadata": {},
   "outputs": [],
   "source": []
  }
 ],
 "metadata": {
  "kernelspec": {
   "display_name": "Python 3 (ipykernel)",
   "language": "python",
   "name": "python3"
  },
  "language_info": {
   "codemirror_mode": {
    "name": "ipython",
    "version": 3
   },
   "file_extension": ".py",
   "mimetype": "text/x-python",
   "name": "python",
   "nbconvert_exporter": "python",
   "pygments_lexer": "ipython3",
   "version": "3.8.10"
  }
 },
 "nbformat": 4,
 "nbformat_minor": 5
}
